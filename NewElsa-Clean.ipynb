{
 "cells": [
  {
   "cell_type": "raw",
   "metadata": {
    "id": "_TypgdQU7t2A"
   },
   "source": [
    "/*\n",
    " * THIS IS SAMPLE CODE\n",
    " *\n",
    " * Copyright 2024 Google\n",
    " *\n",
    " * Licensed under the Apache License, Version 2.0 (the \"License\");\n",
    " * you may not use this file except in compliance with the License.\n",
    " * You may obtain a copy of the License at\n",
    " *\n",
    " * http://www.apache.org/licenses/LICENSE-2.0\n",
    " *\n",
    " * Unless required by applicable law or agreed to in writing, software\n",
    " * distributed under the License is distributed on an \"AS IS\" BASIS,\n",
    " * WITHOUT WARRANTIES OR CONDITIONS OF ANY KIND, either expressed or implied.\n",
    " * See the License for the specific language governing permissions and\n",
    " * limitations under the License.\n",
    " */"
   ]
  },
  {
   "cell_type": "markdown",
   "metadata": {
    "id": "_TypgdQU7t2A"
   },
   "source": [
    "## 1. Install prerequisites"
   ]
  },
  {
   "cell_type": "code",
   "execution_count": null,
   "metadata": {
    "colab": {
     "base_uri": "https://localhost:8080/"
    },
    "executionInfo": {
     "elapsed": 48483,
     "status": "ok",
     "timestamp": 1709756574648,
     "user": {
      "displayName": "",
      "userId": ""
     },
     "user_tz": 480
    },
    "id": "L9BveADa702h",
    "outputId": "15521244-0e27-41a0-f41a-c472059aa8e2",
    "tags": []
   },
   "outputs": [],
   "source": [
    "!pip install haystack-ai google-vertex-haystack"
   ]
  },
  {
   "cell_type": "code",
   "execution_count": null,
   "metadata": {
    "colab": {
     "base_uri": "https://localhost:8080/"
    },
    "executionInfo": {
     "elapsed": 13291,
     "status": "ok",
     "timestamp": 1709757198258,
     "user": {
      "displayName": "",
      "userId": ""
     },
     "user_tz": 480
    },
    "id": "cXjhuvfL72Jm",
    "outputId": "57edace8-b040-4792-f596-9715db6d3d2a",
    "tags": []
   },
   "outputs": [],
   "source": [
    "!pip install \"sentence-transformers>=2.2.0\"\n",
    "!pip install accelerate"
   ]
  },
  {
   "cell_type": "code",
   "execution_count": null,
   "metadata": {
    "tags": []
   },
   "outputs": [],
   "source": [
    "!pip install elasticsearch-haystack"
   ]
  },
  {
   "cell_type": "code",
   "execution_count": null,
   "metadata": {
    "colab": {
     "base_uri": "https://localhost:8080/"
    },
    "executionInfo": {
     "elapsed": 6838,
     "status": "ok",
     "timestamp": 1709757208057,
     "user": {
      "displayName": "",
      "userId": ""
     },
     "user_tz": 480
    },
    "id": "c49P2Lqz9DQe",
    "outputId": "65f52f2c-2218-4d93-a00c-2874a5aad6f0",
    "tags": []
   },
   "outputs": [],
   "source": [
    "!pip install pg8000"
   ]
  },
  {
   "cell_type": "code",
   "execution_count": null,
   "metadata": {
    "tags": []
   },
   "outputs": [],
   "source": [
    "!pip install gradio"
   ]
  },
  {
   "cell_type": "markdown",
   "metadata": {
    "id": "fV4mTEkFCXya"
   },
   "source": [
    "## 2. Load data into dataframe\n",
    "We are using data graciously provided by DoE. It is all publicly available at https://www.osti.gov/"
   ]
  },
  {
   "cell_type": "code",
   "execution_count": 1,
   "metadata": {
    "executionInfo": {
     "elapsed": 178,
     "status": "ok",
     "timestamp": 1709757264521,
     "user": {
      "displayName": "",
      "userId": ""
     },
     "user_tz": 480
    },
    "id": "WfaT9OsBCRyK",
    "tags": []
   },
   "outputs": [],
   "source": [
    "import pandas as pd"
   ]
  },
  {
   "cell_type": "code",
   "execution_count": 2,
   "metadata": {
    "colab": {
     "base_uri": "https://localhost:8080/",
     "height": 206
    },
    "executionInfo": {
     "elapsed": 43696,
     "status": "ok",
     "timestamp": 1709757310569,
     "user": {
      "displayName": "",
      "userId": ""
     },
     "user_tz": 480
    },
    "id": "WMhH0KjBC6-W",
    "outputId": "a7abe476-f647-406a-d6c0-c81e9e128e3d",
    "tags": []
   },
   "outputs": [
    {
     "data": {
      "text/html": [
       "<div>\n",
       "<style scoped>\n",
       "    .dataframe tbody tr th:only-of-type {\n",
       "        vertical-align: middle;\n",
       "    }\n",
       "\n",
       "    .dataframe tbody tr th {\n",
       "        vertical-align: top;\n",
       "    }\n",
       "\n",
       "    .dataframe thead th {\n",
       "        text-align: right;\n",
       "    }\n",
       "</style>\n",
       "<table border=\"1\" class=\"dataframe\">\n",
       "  <thead>\n",
       "    <tr style=\"text-align: right;\">\n",
       "      <th></th>\n",
       "      <th>title</th>\n",
       "      <th>description</th>\n",
       "      <th>publication_date</th>\n",
       "    </tr>\n",
       "  </thead>\n",
       "  <tbody>\n",
       "    <tr>\n",
       "      <th>0</th>\n",
       "      <td>Abstract for Accelerator Magnets Magnetic Fiel...</td>\n",
       "      <td>The chapter develops the formalism for the two...</td>\n",
       "      <td>2023-12-30T00:00:00Z</td>\n",
       "    </tr>\n",
       "    <tr>\n",
       "      <th>1</th>\n",
       "      <td>Analysis of Compressibility Effects and Nonlin...</td>\n",
       "      <td>Calculations are performed using the large edd...</td>\n",
       "      <td>2022-12-29T00:00:00Z</td>\n",
       "    </tr>\n",
       "    <tr>\n",
       "      <th>2</th>\n",
       "      <td>Synergistic effects of chlorine substitution i...</td>\n",
       "      <td>All-solid-state battery is considered as one o...</td>\n",
       "      <td>2022-12-09T00:00:00Z</td>\n",
       "    </tr>\n",
       "    <tr>\n",
       "      <th>3</th>\n",
       "      <td>Ion Atmosphere of Wormlike Micelles Profiled b...</td>\n",
       "      <td>Structural studies of wormlike micelles have s...</td>\n",
       "      <td>2022-12-01T00:00:00Z</td>\n",
       "    </tr>\n",
       "    <tr>\n",
       "      <th>4</th>\n",
       "      <td>State Indicators for Advancing Demand Flexibil...</td>\n",
       "      <td>This slide deck report identifies objectives a...</td>\n",
       "      <td>2022-12-21T00:00:00Z</td>\n",
       "    </tr>\n",
       "  </tbody>\n",
       "</table>\n",
       "</div>"
      ],
      "text/plain": [
       "                                               title  \\\n",
       "0  Abstract for Accelerator Magnets Magnetic Fiel...   \n",
       "1  Analysis of Compressibility Effects and Nonlin...   \n",
       "2  Synergistic effects of chlorine substitution i...   \n",
       "3  Ion Atmosphere of Wormlike Micelles Profiled b...   \n",
       "4  State Indicators for Advancing Demand Flexibil...   \n",
       "\n",
       "                                         description      publication_date  \n",
       "0  The chapter develops the formalism for the two...  2023-12-30T00:00:00Z  \n",
       "1  Calculations are performed using the large edd...  2022-12-29T00:00:00Z  \n",
       "2  All-solid-state battery is considered as one o...  2022-12-09T00:00:00Z  \n",
       "3  Structural studies of wormlike micelles have s...  2022-12-01T00:00:00Z  \n",
       "4  This slide deck report identifies objectives a...  2022-12-21T00:00:00Z  "
      ]
     },
     "execution_count": 2,
     "metadata": {},
     "output_type": "execute_result"
    }
   ],
   "source": [
    "df=pd.read_csv(\"gs://gm-doe-qa/input/osti-02-23-2022.csv\", index_col=False,\n",
    "               usecols=['title', 'description', 'publication_date'],\n",
    "               encoding=\"utf8\",\n",
    "               nrows=100, # There are about 3M documents. \n",
    "              )\n",
    "df.head()"
   ]
  },
  {
   "cell_type": "code",
   "execution_count": 3,
   "metadata": {
    "colab": {
     "base_uri": "https://localhost:8080/",
     "height": 206
    },
    "executionInfo": {
     "elapsed": 198,
     "status": "ok",
     "timestamp": 1709757999588,
     "user": {
      "displayName": "",
      "userId": ""
     },
     "user_tz": 480
    },
    "id": "dz4BOwl0DOAW",
    "outputId": "bcd22006-4df4-4a0f-d5d2-d9b6f47e033b",
    "tags": []
   },
   "outputs": [
    {
     "data": {
      "text/html": [
       "<div>\n",
       "<style scoped>\n",
       "    .dataframe tbody tr th:only-of-type {\n",
       "        vertical-align: middle;\n",
       "    }\n",
       "\n",
       "    .dataframe tbody tr th {\n",
       "        vertical-align: top;\n",
       "    }\n",
       "\n",
       "    .dataframe thead th {\n",
       "        text-align: right;\n",
       "    }\n",
       "</style>\n",
       "<table border=\"1\" class=\"dataframe\">\n",
       "  <thead>\n",
       "    <tr style=\"text-align: right;\">\n",
       "      <th></th>\n",
       "      <th>title</th>\n",
       "      <th>description</th>\n",
       "      <th>publication_date</th>\n",
       "    </tr>\n",
       "  </thead>\n",
       "  <tbody>\n",
       "    <tr>\n",
       "      <th>0</th>\n",
       "      <td>Abstract for Accelerator Magnets Magnetic Fiel...</td>\n",
       "      <td>The chapter develops the formalism for the two...</td>\n",
       "      <td>2023</td>\n",
       "    </tr>\n",
       "    <tr>\n",
       "      <th>1</th>\n",
       "      <td>Analysis of Compressibility Effects and Nonlin...</td>\n",
       "      <td>Calculations are performed using the large edd...</td>\n",
       "      <td>2022</td>\n",
       "    </tr>\n",
       "    <tr>\n",
       "      <th>2</th>\n",
       "      <td>Synergistic effects of chlorine substitution i...</td>\n",
       "      <td>All-solid-state battery is considered as one o...</td>\n",
       "      <td>2022</td>\n",
       "    </tr>\n",
       "    <tr>\n",
       "      <th>3</th>\n",
       "      <td>Ion Atmosphere of Wormlike Micelles Profiled b...</td>\n",
       "      <td>Structural studies of wormlike micelles have s...</td>\n",
       "      <td>2022</td>\n",
       "    </tr>\n",
       "    <tr>\n",
       "      <th>4</th>\n",
       "      <td>State Indicators for Advancing Demand Flexibil...</td>\n",
       "      <td>This slide deck report identifies objectives a...</td>\n",
       "      <td>2022</td>\n",
       "    </tr>\n",
       "  </tbody>\n",
       "</table>\n",
       "</div>"
      ],
      "text/plain": [
       "                                               title  \\\n",
       "0  Abstract for Accelerator Magnets Magnetic Fiel...   \n",
       "1  Analysis of Compressibility Effects and Nonlin...   \n",
       "2  Synergistic effects of chlorine substitution i...   \n",
       "3  Ion Atmosphere of Wormlike Micelles Profiled b...   \n",
       "4  State Indicators for Advancing Demand Flexibil...   \n",
       "\n",
       "                                         description  publication_date  \n",
       "0  The chapter develops the formalism for the two...              2023  \n",
       "1  Calculations are performed using the large edd...              2022  \n",
       "2  All-solid-state battery is considered as one o...              2022  \n",
       "3  Structural studies of wormlike micelles have s...              2022  \n",
       "4  This slide deck report identifies objectives a...              2022  "
      ]
     },
     "execution_count": 3,
     "metadata": {},
     "output_type": "execute_result"
    }
   ],
   "source": [
    "df.publication_date=pd.to_datetime(df.publication_date).dt.year\n",
    "df.head()"
   ]
  },
  {
   "cell_type": "markdown",
   "metadata": {
    "id": "p45Ok4Qj_RYV"
   },
   "source": [
    "## 3.Preprocess documents"
   ]
  },
  {
   "cell_type": "code",
   "execution_count": 4,
   "metadata": {
    "executionInfo": {
     "elapsed": 12975,
     "status": "ok",
     "timestamp": 1709758015224,
     "user": {
      "displayName": "",
      "userId": ""
     },
     "user_tz": 480
    },
    "id": "ckuf-CBU9fg1",
    "tags": []
   },
   "outputs": [],
   "source": [
    "from haystack import Document"
   ]
  },
  {
   "cell_type": "code",
   "execution_count": 5,
   "metadata": {
    "tags": []
   },
   "outputs": [
    {
     "data": {
      "text/plain": [
       "[Document(id=10fdd18c7c6ba6cab20515919c91a81cb8f12f8339738d4d67864f9f1376dedc, content: 'The chapter develops the formalism for the two-dimensional representation of the fields which are co...', meta: {'title': 'Abstract for Accelerator Magnets Magnetic Field Measurements', 'year': '2023'}),\n",
       " Document(id=f05c9c0b7f39ab61a609af16b87a84cb61307c00ecfe7fe34ab1d7fa8f486e03, content: 'Calculations are performed using the large eddy simulation technique to qualitatively assess the eff...', meta: {'title': 'Analysis of Compressibility Effects and Nonlinear Property Variations in a Supercritical CO2 Mixing Layer', 'year': '2022'}),\n",
       " Document(id=20d3002ffd106f48b246254546d1c203363e842800e9a5a7cf19133d1e3a72f3, content: 'All-solid-state battery is considered as one of the most promising competitors to Li ion batteries. ...', meta: {'title': 'Synergistic effects of chlorine substitution in sulfide electrolyte solid state batteries', 'year': '2022'}),\n",
       " Document(id=abcff6af401af621e6b04b241eceda456a77c070c8ad67f831a5cb9c891617d6, content: 'Structural studies of wormlike micelles have so far mostly focused on the conformational properties ...', meta: {'title': 'Ion Atmosphere of Wormlike Micelles Profiled by Contrast Variation Small-Angle Neutron Scattering', 'year': '2022'}),\n",
       " Document(id=7ced8809053956a9c5898d4e251a1bd0fda96377d1b8a544d75a0e724d787828, content: 'This slide deck report identifies objectives and key indicators for state activities that advance de...', meta: {'title': 'State Indicators for Advancing Demand Flexibility and Energy Efficiency in Buildings - Part I', 'year': '2022'})]"
      ]
     },
     "execution_count": 5,
     "metadata": {},
     "output_type": "execute_result"
    }
   ],
   "source": [
    "docs=[]\n",
    "for _, doc in df.iterrows():\n",
    "    docs.append(\n",
    "        Document(content=str(doc.description), meta={\"title\": str(doc.title), \"year\": str(doc.publication_date)})\n",
    "    )\n",
    "docs[:5]"
   ]
  },
  {
   "cell_type": "markdown",
   "metadata": {
    "id": "V6EJu3ddIJgv"
   },
   "source": [
    "### 3.1 Configure ingestion pipeline"
   ]
  },
  {
   "cell_type": "code",
   "execution_count": 6,
   "metadata": {
    "executionInfo": {
     "elapsed": 4468,
     "status": "ok",
     "timestamp": 1709758027001,
     "user": {
      "displayName": "",
      "userId": ""
     },
     "user_tz": 480
    },
    "id": "S5BhCCPGDEu3",
    "tags": []
   },
   "outputs": [],
   "source": [
    "from haystack.components.writers import DocumentWriter\n",
    "from haystack.components.embedders import SentenceTransformersDocumentEmbedder\n",
    "from haystack.components.preprocessors import DocumentSplitter, DocumentCleaner\n",
    "from haystack import Pipeline\n",
    "from haystack.utils import ComponentDevice"
   ]
  },
  {
   "cell_type": "code",
   "execution_count": 7,
   "metadata": {
    "executionInfo": {
     "elapsed": 174,
     "status": "ok",
     "timestamp": 1709758029452,
     "user": {
      "displayName": "",
      "userId": ""
     },
     "user_tz": 480
    },
    "id": "ih5wM26cGz7c",
    "tags": []
   },
   "outputs": [],
   "source": [
    "document_cleaner=DocumentCleaner()\n",
    "document_splitter = DocumentSplitter(split_by=\"word\", split_length=512, split_overlap=32)\n",
    "document_embedder = SentenceTransformersDocumentEmbedder(\n",
    "    model=\"BAAI/bge-large-en-v1.5\", #look for alternatives on https://huggingface.co/spaces/mteb/leaderboard\n",
    "    device=ComponentDevice.from_str(\"cuda:0\") # note that the embedder is pinned to GPU 0\n",
    ")"
   ]
  },
  {
   "cell_type": "markdown",
   "metadata": {
    "id": "V_qqwkU1L-VH"
   },
   "source": [
    "### 3.2 Set up document store\n",
    "For this example, we will use a locally hosted ElasticSearch container.  \n",
    "The purpose is to show how to build on existing investment and how to build a hybrid retriever, capable of working on keywords and vector embeddings."
   ]
  },
  {
   "cell_type": "code",
   "execution_count": 8,
   "metadata": {
    "id": "EzSPvrCRLpTw",
    "scrolled": true,
    "tags": []
   },
   "outputs": [],
   "source": [
    "# run this in a terminal\n",
    "#docker pull docker.elastic.co/elasticsearch/elasticsearch:8.11.1\n",
    "#docker run -p 9200:9200 -e \"discovery.type=single-node\" -e \"ES_JAVA_OPTS=-Xms1024m -Xmx1024m\" -e \"xpack.security.enabled=false\" elasticsearch:8.11.1"
   ]
  },
  {
   "cell_type": "code",
   "execution_count": 9,
   "metadata": {
    "tags": []
   },
   "outputs": [],
   "source": [
    "from haystack_integrations.document_stores.elasticsearch import ElasticsearchDocumentStore"
   ]
  },
  {
   "cell_type": "code",
   "execution_count": 10,
   "metadata": {
    "tags": []
   },
   "outputs": [],
   "source": [
    "document_store = ElasticsearchDocumentStore(hosts = \"http://localhost:9200\")"
   ]
  },
  {
   "cell_type": "code",
   "execution_count": 11,
   "metadata": {
    "id": "NGvQLd_9Lohy",
    "tags": []
   },
   "outputs": [],
   "source": [
    "## pipeline component to write into the store\n",
    "from haystack.document_stores.types import DuplicatePolicy\n",
    "document_writer = DocumentWriter(document_store, policy=DuplicatePolicy.OVERWRITE)"
   ]
  },
  {
   "cell_type": "markdown",
   "metadata": {},
   "source": [
    "### 3.3 Create pipeline"
   ]
  },
  {
   "cell_type": "code",
   "execution_count": 12,
   "metadata": {
    "tags": []
   },
   "outputs": [
    {
     "data": {
      "image/jpeg": "[encoded data removed]",
      "text/plain": [
       "<IPython.core.display.Image object>"
      ]
     },
     "metadata": {},
     "output_type": "display_data"
    },
    {
     "data": {
      "text/plain": []
     },
     "execution_count": 12,
     "metadata": {},
     "output_type": "execute_result"
    }
   ],
   "source": [
    "indexing_pipeline = Pipeline()\n",
    "indexing_pipeline.add_component(\"document_cleaner\", document_cleaner)\n",
    "indexing_pipeline.add_component(\"document_splitter\", document_splitter)\n",
    "indexing_pipeline.add_component(\"document_embedder\", document_embedder)\n",
    "indexing_pipeline.add_component(\"document_writer\", document_writer)\n",
    "\n",
    "indexing_pipeline.connect(\"document_cleaner\", \"document_splitter\")\n",
    "indexing_pipeline.connect(\"document_splitter\", \"document_embedder\")\n",
    "indexing_pipeline.connect(\"document_embedder\", \"document_writer\")"
   ]
  },
  {
   "cell_type": "markdown",
   "metadata": {},
   "source": [
    "### 3.4 Run the pipeline\n",
    "Depending on data quantity, this can take a long time."
   ]
  },
  {
   "cell_type": "code",
   "execution_count": 13,
   "metadata": {
    "scrolled": true,
    "tags": []
   },
   "outputs": [
    {
     "data": {
      "application/vnd.jupyter.widget-view+json": {
       "model_id": "51e66ceef04241029912c75c4516636b",
       "version_major": 2,
       "version_minor": 0
      },
      "text/plain": [
       "Batches:   0%|          | 0/4 [00:00<?, ?it/s]"
      ]
     },
     "metadata": {},
     "output_type": "display_data"
    },
    {
     "data": {
      "text/plain": [
       "{'document_writer': {'documents_written': 100}}"
      ]
     },
     "execution_count": 13,
     "metadata": {},
     "output_type": "execute_result"
    }
   ],
   "source": [
    "indexing_pipeline.run({\"document_cleaner\": {\"documents\": docs}})"
   ]
  },
  {
   "cell_type": "markdown",
   "metadata": {},
   "source": [
    "## 4. Create hybrid retriever\n",
    "We'll build a pipeline that uses both a bm25 retriever and a vector one"
   ]
  },
  {
   "cell_type": "code",
   "execution_count": 14,
   "metadata": {
    "tags": []
   },
   "outputs": [],
   "source": [
    "from haystack_integrations.components.retrievers.elasticsearch import ElasticsearchBM25Retriever, ElasticsearchEmbeddingRetriever\n",
    "from haystack.components.embedders import SentenceTransformersTextEmbedder\n",
    "\n",
    "text_embedder = SentenceTransformersTextEmbedder(\n",
    "    model=\"BAAI/bge-large-en-v1.5\",\n",
    "    device=ComponentDevice.from_str(\"cuda:0\")\n",
    ")\n",
    "embedding_retriever = ElasticsearchEmbeddingRetriever(document_store=document_store)\n",
    "bm25_retriever = ElasticsearchBM25Retriever(document_store=document_store)\n"
   ]
  },
  {
   "cell_type": "markdown",
   "metadata": {},
   "source": [
    "### 4.1 Join retrieval results"
   ]
  },
  {
   "cell_type": "code",
   "execution_count": 15,
   "metadata": {
    "tags": []
   },
   "outputs": [],
   "source": [
    "from haystack.components.joiners import DocumentJoiner\n",
    "\n",
    "document_joiner = DocumentJoiner(join_mode=\"concatenate\")"
   ]
  },
  {
   "cell_type": "markdown",
   "metadata": {},
   "source": [
    "### 4.2 Re-rank results \n",
    "using a cross-encoder"
   ]
  },
  {
   "cell_type": "code",
   "execution_count": 16,
   "metadata": {
    "tags": []
   },
   "outputs": [],
   "source": [
    "from haystack.components.rankers import TransformersSimilarityRanker\n",
    "\n",
    "ranker = TransformersSimilarityRanker(model=\"BAAI/bge-reranker-base\")"
   ]
  },
  {
   "cell_type": "markdown",
   "metadata": {},
   "source": [
    "### 4.3 Create retrieval pipeline"
   ]
  },
  {
   "cell_type": "code",
   "execution_count": 17,
   "metadata": {
    "tags": []
   },
   "outputs": [
    {
     "data": {
      "image/jpeg": "[encoded data removed]",
      "text/plain": [
       "<IPython.core.display.Image object>"
      ]
     },
     "metadata": {},
     "output_type": "display_data"
    },
    {
     "data": {
      "text/plain": []
     },
     "execution_count": 17,
     "metadata": {},
     "output_type": "execute_result"
    }
   ],
   "source": [
    "hybrid_retrieval = Pipeline()\n",
    "hybrid_retrieval.add_component(\"text_embedder\", text_embedder)\n",
    "hybrid_retrieval.add_component(\"embedding_retriever\", embedding_retriever)\n",
    "hybrid_retrieval.add_component(\"bm25_retriever\", bm25_retriever)\n",
    "hybrid_retrieval.add_component(\"document_joiner\", document_joiner)\n",
    "hybrid_retrieval.add_component(\"ranker\", ranker)\n",
    "\n",
    "hybrid_retrieval.connect(\"text_embedder\", \"embedding_retriever\")\n",
    "hybrid_retrieval.connect(\"bm25_retriever\", \"document_joiner\")\n",
    "hybrid_retrieval.connect(\"embedding_retriever\", \"document_joiner\")\n",
    "hybrid_retrieval.connect(\"document_joiner\", \"ranker\")\n"
   ]
  },
  {
   "cell_type": "markdown",
   "metadata": {},
   "source": [
    "## 5. Retrieve documents"
   ]
  },
  {
   "cell_type": "code",
   "execution_count": 18,
   "metadata": {
    "tags": []
   },
   "outputs": [
    {
     "data": {
      "application/vnd.jupyter.widget-view+json": {
       "model_id": "9660d78c9acf4ba680f83fdb8832aa20",
       "version_major": 2,
       "version_minor": 0
      },
      "text/plain": [
       "Batches:   0%|          | 0/1 [00:00<?, ?it/s]"
      ]
     },
     "metadata": {},
     "output_type": "display_data"
    }
   ],
   "source": [
    "query = \"solid state batteries\"\n",
    "\n",
    "retrieved_docs = hybrid_retrieval.run(\n",
    "    {\"text_embedder\": {\"text\": query}, \"bm25_retriever\": {\"query\": query}, \"ranker\": {\"query\": query}},\n",
    "    debug=True\n",
    ")\n"
   ]
  },
  {
   "cell_type": "code",
   "execution_count": 19,
   "metadata": {
    "tags": []
   },
   "outputs": [
    {
     "data": {
      "text/plain": [
       "{'ranker': {'documents': [Document(id=04a9e7b807c59af3fcb4a3a0e22dccbf699f06022ed816679f3c785fe9220060, content: 'All-solid-state battery is considered as one of the most promising competitors to Li ion batteries. ...', meta: {'title': 'Synergistic effects of chlorine substitution in sulfide electrolyte solid state batteries', 'year': '2022', 'source_id': '20d3002ffd106f48b246254546d1c203363e842800e9a5a7cf19133d1e3a72f3'}, score: 0.9948267340660095, embedding: vector of size 1024),\n",
       "   Document(id=d9caff4f06bc4f39a4c89788dbfaffa8a258175a35e0987721245bc9baf9ea70, content: 'Here we demonstrate a theory-driven, novel dual-shell coating system of Li2SrSiO4 and Al2O3, achieve...', meta: {'title': 'Dual-shell silicate and alumina coating for long lasting and high capacity lithium ion batteries', 'year': '2022', 'source_id': 'f0b5cc70966d18422d6ccec522d35c743e6309582488eea1f71f365c2da9b3d5'}, score: 0.0028873381670564413, embedding: vector of size 1024),\n",
       "   Document(id=f59189768f4d5b7ffebe54cbaa9d0351d52b209accdb6ebd4611c3d6c34c5ef0, content: 'Biofuels are particularly attractive and play an increasingly important role in sustainable energy. ...', meta: {'title': 'Effects of temperature and time on supercritical methanol Co-Liquefaction of rice straw and linear low-density polyethylene wastes', 'year': '2022', 'source_id': '47c3130c7ce655c55be0958f03b14d813439205b6636598e5cfd1d8fb40f6cf8'}, score: 0.0026177081745117903, embedding: vector of size 1024),\n",
       "   Document(id=a128adc5a604920874a96508931099a57d4d8c0dbcce404fd5e96fe39cbb8b41, content: '<p> Lithium iron silicate, Li <sub>2</sub> FeSiO <sub>4</sub> , is a promising cathode material for ...', meta: {'title': 'Approaching theoretical specific capacity of iron-rich lithium iron silicate using graphene-incorporation and fluorine-doping', 'year': '2022', 'source_id': '98f18d3c8768cfa3a9dd7d7031fec6c786eaf32c491af6dbf2867f373b68cbc4'}, score: 0.0020904396660625935, embedding: vector of size 1024),\n",
       "   Document(id=f644bcdf4eb9c827c2397454a72883ce15c4f8e260550a3e946669b6774286ae, content: 'This slide deck report identifies objectives and key indicators for state activities that advance de...', meta: {'title': 'State Indicators for Advancing Demand Flexibility and Energy Efficiency in Buildings - Part I', 'year': '2022', 'source_id': '7ced8809053956a9c5898d4e251a1bd0fda96377d1b8a544d75a0e724d787828'}, score: 0.0009581950143910944, embedding: vector of size 1024),\n",
       "   Document(id=8a200e01eb39d0f9e4e215191d7658ce032df1fa990f3440378808d1d5458b3f, content: '<p>Control and drive functional systems with light and metastable state photoacids.</p>', meta: {'title': 'Reversible photo control of proton chemistry', 'year': '2022', 'source_id': 'd451d7c5888421c23ff905832957efa3af03e157118aa8e24f1e481747af2b13'}, score: 0.0004349479277152568, embedding: vector of size 1024),\n",
       "   Document(id=087ad19b66eff36e5e9b981bde78c50dd6ccef2efe87b1eeaf0d78471d2fcfb7, content: '<title>Abstract</title> <p>Permanent magnets produce magnetic fields and maintain the field even in ...', meta: {'title': 'Manufacturing Processes for Permanent Magnets: Part II—Bonding and Emerging Methods', 'year': '2022', 'source_id': 'b0d009333688cb723095e221cb9c18c1dba6a1c2250e98b752cfb72c37a1e8eb'}, score: 0.00028715780354104936, embedding: vector of size 1024),\n",
       "   Document(id=5a8f42488678ab8644467070ace431f6249b59d73a5890c368930f17c12db857, content: '<title>Abstract</title> <p> The 2020 wildfire season (May through December) in the United States was...', meta: {'title': 'Smoke from 2020 United States wildfires responsible for substantial solar energy forecast errors', 'year': '2022', 'source_id': '2d74e7a4bd6739fdc871c6f6eea97d939a501e874aad252d81bb0c8f0ccb32b7'}, score: 0.00028482815832830966, embedding: vector of size 1024),\n",
       "   Document(id=4a93598769185dbab5e5f768a158618a7577c7ef4b027472c5daeadcb89e9e40, content: '<p>Abstract. This paper presents the state-of-the-art technologies and development trends of wind tu...', meta: {'title': 'Wind turbine drivetrains: state-of-the-art technologies and future development trends', 'year': '2022', 'source_id': 'f18d2db474caa9640efc89c68fb8bf61a80e59d29f7022f7a6d9faef44e6e67c'}, score: 0.00019380914454814047, embedding: vector of size 1024),\n",
       "   Document(id=eec99ea1c886910d30eabe6286868a63328df0b519cf155dceb1c40982f0d2e0, content: '<p> With the implementation of China’s Green Fence Policy and the following National Sword Policy, t...', meta: {'title': 'Decontamination of Mixed Paper and Plastic Municipal Solid Waste Increases Low and High Temperature Conversion Yields', 'year': '2022', 'source_id': 'd774f5f71120e8fdcbd02b8a7ff3972927ea918b4b48db14419d7bbcade726d1'}, score: 4.103008905076422e-05, embedding: vector of size 1024)]}}"
      ]
     },
     "execution_count": 19,
     "metadata": {},
     "output_type": "execute_result"
    }
   ],
   "source": [
    "retrieved_docs"
   ]
  },
  {
   "cell_type": "code",
   "execution_count": 20,
   "metadata": {
    "tags": []
   },
   "outputs": [
    {
     "data": {
      "text/plain": [
       "dict_items([('ranker', {'documents': [Document(id=04a9e7b807c59af3fcb4a3a0e22dccbf699f06022ed816679f3c785fe9220060, content: 'All-solid-state battery is considered as one of the most promising competitors to Li ion batteries. ...', meta: {'title': 'Synergistic effects of chlorine substitution in sulfide electrolyte solid state batteries', 'year': '2022', 'source_id': '20d3002ffd106f48b246254546d1c203363e842800e9a5a7cf19133d1e3a72f3'}, score: 0.9948267340660095, embedding: vector of size 1024), Document(id=d9caff4f06bc4f39a4c89788dbfaffa8a258175a35e0987721245bc9baf9ea70, content: 'Here we demonstrate a theory-driven, novel dual-shell coating system of Li2SrSiO4 and Al2O3, achieve...', meta: {'title': 'Dual-shell silicate and alumina coating for long lasting and high capacity lithium ion batteries', 'year': '2022', 'source_id': 'f0b5cc70966d18422d6ccec522d35c743e6309582488eea1f71f365c2da9b3d5'}, score: 0.0028873381670564413, embedding: vector of size 1024), Document(id=f59189768f4d5b7ffebe54cbaa9d0351d52b209accdb6ebd4611c3d6c34c5ef0, content: 'Biofuels are particularly attractive and play an increasingly important role in sustainable energy. ...', meta: {'title': 'Effects of temperature and time on supercritical methanol Co-Liquefaction of rice straw and linear low-density polyethylene wastes', 'year': '2022', 'source_id': '47c3130c7ce655c55be0958f03b14d813439205b6636598e5cfd1d8fb40f6cf8'}, score: 0.0026177081745117903, embedding: vector of size 1024), Document(id=a128adc5a604920874a96508931099a57d4d8c0dbcce404fd5e96fe39cbb8b41, content: '<p> Lithium iron silicate, Li <sub>2</sub> FeSiO <sub>4</sub> , is a promising cathode material for ...', meta: {'title': 'Approaching theoretical specific capacity of iron-rich lithium iron silicate using graphene-incorporation and fluorine-doping', 'year': '2022', 'source_id': '98f18d3c8768cfa3a9dd7d7031fec6c786eaf32c491af6dbf2867f373b68cbc4'}, score: 0.0020904396660625935, embedding: vector of size 1024), Document(id=f644bcdf4eb9c827c2397454a72883ce15c4f8e260550a3e946669b6774286ae, content: 'This slide deck report identifies objectives and key indicators for state activities that advance de...', meta: {'title': 'State Indicators for Advancing Demand Flexibility and Energy Efficiency in Buildings - Part I', 'year': '2022', 'source_id': '7ced8809053956a9c5898d4e251a1bd0fda96377d1b8a544d75a0e724d787828'}, score: 0.0009581950143910944, embedding: vector of size 1024), Document(id=8a200e01eb39d0f9e4e215191d7658ce032df1fa990f3440378808d1d5458b3f, content: '<p>Control and drive functional systems with light and metastable state photoacids.</p>', meta: {'title': 'Reversible photo control of proton chemistry', 'year': '2022', 'source_id': 'd451d7c5888421c23ff905832957efa3af03e157118aa8e24f1e481747af2b13'}, score: 0.0004349479277152568, embedding: vector of size 1024), Document(id=087ad19b66eff36e5e9b981bde78c50dd6ccef2efe87b1eeaf0d78471d2fcfb7, content: '<title>Abstract</title> <p>Permanent magnets produce magnetic fields and maintain the field even in ...', meta: {'title': 'Manufacturing Processes for Permanent Magnets: Part II—Bonding and Emerging Methods', 'year': '2022', 'source_id': 'b0d009333688cb723095e221cb9c18c1dba6a1c2250e98b752cfb72c37a1e8eb'}, score: 0.00028715780354104936, embedding: vector of size 1024), Document(id=5a8f42488678ab8644467070ace431f6249b59d73a5890c368930f17c12db857, content: '<title>Abstract</title> <p> The 2020 wildfire season (May through December) in the United States was...', meta: {'title': 'Smoke from 2020 United States wildfires responsible for substantial solar energy forecast errors', 'year': '2022', 'source_id': '2d74e7a4bd6739fdc871c6f6eea97d939a501e874aad252d81bb0c8f0ccb32b7'}, score: 0.00028482815832830966, embedding: vector of size 1024), Document(id=4a93598769185dbab5e5f768a158618a7577c7ef4b027472c5daeadcb89e9e40, content: '<p>Abstract. This paper presents the state-of-the-art technologies and development trends of wind tu...', meta: {'title': 'Wind turbine drivetrains: state-of-the-art technologies and future development trends', 'year': '2022', 'source_id': 'f18d2db474caa9640efc89c68fb8bf61a80e59d29f7022f7a6d9faef44e6e67c'}, score: 0.00019380914454814047, embedding: vector of size 1024), Document(id=eec99ea1c886910d30eabe6286868a63328df0b519cf155dceb1c40982f0d2e0, content: '<p> With the implementation of China’s Green Fence Policy and the following National Sword Policy, t...', meta: {'title': 'Decontamination of Mixed Paper and Plastic Municipal Solid Waste Increases Low and High Temperature Conversion Yields', 'year': '2022', 'source_id': 'd774f5f71120e8fdcbd02b8a7ff3972927ea918b4b48db14419d7bbcade726d1'}, score: 4.103008905076422e-05, embedding: vector of size 1024)]})])"
      ]
     },
     "execution_count": 20,
     "metadata": {},
     "output_type": "execute_result"
    }
   ],
   "source": [
    "retrieved_docs.items()"
   ]
  },
  {
   "cell_type": "code",
   "execution_count": 21,
   "metadata": {
    "tags": []
   },
   "outputs": [],
   "source": [
    "def pretty_print_results(prediction):\n",
    "    for doc in prediction[\"documents\"]:\n",
    "        print(doc.meta[\"title\"], \"\\t\", doc.meta[\"year\"], \"\\t\", doc.score)\n",
    "        print(doc.content)\n",
    "        print(\"\\n\", \"\\n\")\n"
   ]
  },
  {
   "cell_type": "code",
   "execution_count": 22,
   "metadata": {
    "tags": []
   },
   "outputs": [
    {
     "name": "stdout",
     "output_type": "stream",
     "text": [
      "Synergistic effects of chlorine substitution in sulfide electrolyte solid state batteries \t 2022 \t 0.9948267340660095\n",
      "All-solid-state battery is considered as one of the most promising competitors to Li ion batteries. Two widely known performance metrics for solid electrolytes, among others, are ionic conductivity and stability. In this study, it is found that both can be improved by the synergistic effects of chlorine substitution in sulfide-based solid electrolytes. Particularly, instabilities arising from both bulk decompositions and interfacial reactions to electrodes can be better inhibited in the chlorine substituted sulfide solid electrolytes through the increased susceptibility to the mechanical constriction induced enhancement of voltage stability. As a result, the stability window of some chlorine-rich Li-argyrodites can be systematically higher than some other chlorine-deficient or chlorine-free electrolytes, especially under the implementation of the mechanical constriction battery assembly and test conditions. Thus, a solid-state battery system of 4 V to 5 V-class cathodes paired with lithium metal anode is demonstrated using these chlorine-rich Li-argyrodites without additional coatings. Furthermore, since Cl composition modulates the stability and instability of Li-argyrodite at low voltages, it allows us to design a multilayer configuration with a hierarchy of Li metal stabilities to demonstrate the stable cycling at relatively high current densities for solid-state batteries. It is found that a moderate Cl composition in the electrolyte is the best to inhibit Li dendrite penetration as the central electrolyte layer, emphasizing a slightly increased “instability” as the hidden performance metric of relevance here, in addition to the two well-known metrics of stability and ionic conductivity. The understanding of the chlorine substitution effect in sulfide electrolytes provides an important design principle for all-solid-state batteries.\n",
      "\n",
      " \n",
      "\n",
      "Dual-shell silicate and alumina coating for long lasting and high capacity lithium ion batteries \t 2022 \t 0.0028873381670564413\n",
      "Here we demonstrate a theory-driven, novel dual-shell coating system of Li2SrSiO4 and Al2O3, achieved via a facile and scalable sol-gel technique on LiCoO2 electrode particles. The optimal thickness of each coating can lead to increased specific capacity (~185 mAh/g at 0.5 C-rate) at a cut-off potential of 4.5 V, and greater cycling stability at very high C rates (up to 10 C) in half-cells with lithium metal. The mechanism of this superior performance was investigated using a combination of X-ray and electron characterization methods. It shows that the results of this investigation can inform future studies to identify still better dual-shell coating schemes, achieved by such industrially feasible techniques, for application on similar, nickel-rich cathode materials.\n",
      "\n",
      " \n",
      "\n",
      "Effects of temperature and time on supercritical methanol Co-Liquefaction of rice straw and linear low-density polyethylene wastes \t 2022 \t 0.0026177081745117903\n",
      "Biofuels are particularly attractive and play an increasingly important role in sustainable energy. However, biofuels originating from lignocellulosic biomass (LCB) are extremely challenging because of their low carbon content, low stability, and high oxygen content. This work evaluates the supercritical methanol (scMeOH) co-liquefaction of rice straw and linear low-density polyethylene (LLDPE) at temperature range of 240–340 °C for 0–2 h, to obtain hydrocarbons (HCs)-rich oil and carbon-rich solid product. Results show that reaction temperature dominated the yield and properties of products, but not the holding time. Among parameters tested, 30.07 wt% oil yield with 75.79% HCs content and 33.05 wt% oil yield with 70.91% HCs content were obtained at 300 °C for 1 h and 1.5 h, respectively. Simultaneously, the remaining solid products were still as high as 53.85 wt% with a carbon content of 79.59% and 48.28 wt% with carbon content of 81.34% under 300 °C for 1 h and 1.5 h, respectively. Ultimate analysis, FT-IR, TGA, and SEM show that solid products could be used as sustainable carbon resources, and solid fuel rather than soil amendment because of risk of micro plastic or adsorbent due to smooth surface without pores.\n",
      "\n",
      " \n",
      "\n",
      "Approaching theoretical specific capacity of iron-rich lithium iron silicate using graphene-incorporation and fluorine-doping \t 2022 \t 0.0020904396660625935\n",
      "<p> Lithium iron silicate, Li <sub>2</sub> FeSiO <sub>4</sub> , is a promising cathode material for lithium ion batteries due to its high theoretical specific capacity, earth abundance, low cost, and environmental friendliness. </p>\n",
      "\n",
      " \n",
      "\n",
      "State Indicators for Advancing Demand Flexibility and Energy Efficiency in Buildings - Part I \t 2022 \t 0.0009581950143910944\n",
      "This slide deck report identifies objectives and key indicators for state activities that advance demand flexibility in buildings — legislation, utility regulatory proceedings, executive orders and programs. It also illustrates progress to date and identifies trends, gaps, and opportunities. Part I of the report focuses on (1) demand response and (2) energy efficiency targeted to reduce peak demand or integrate with demand response. This section covers building energy codes, appliance and equipment standards, resource standards, utility planning, utility programs, advanced metering infrastructure and meter data, rate design, state programs, state energy planning, and related state policies and regulations. Part II of the report addresses traditional energy efficiency indicators, including utility and state programs, codes, and standards that support annual energy savings. See the additional links for an infographic, library of cited state documents on demand flexibility, and presentation to the NASEO-NARUC Grid-Interactive Efficient Buildings Working Group.\n",
      "\n",
      " \n",
      "\n",
      "Reversible photo control of proton chemistry \t 2022 \t 0.0004349479277152568\n",
      "<p>Control and drive functional systems with light and metastable state photoacids.</p>\n",
      "\n",
      " \n",
      "\n",
      "Manufacturing Processes for Permanent Magnets: Part II—Bonding and Emerging Methods \t 2022 \t 0.00028715780354104936\n",
      "<title>Abstract</title> <p>Permanent magnets produce magnetic fields and maintain the field even in the presence of an opposing magnetic field. They are widely used in electric machines, electronics, and medical devices. Part I reviews the conventional manufacturing processes for commercial magnets, including Nd-Fe-B, Sm-Co, alnico, and ferrite in cast and sintered forms. In Part II, bonding, emerging advanced manufacturing processes, as well as magnet recycling methods are briefly reviewed for their current status, challenges, and future directions.</p>\n",
      "\n",
      " \n",
      "\n",
      "Smoke from 2020 United States wildfires responsible for substantial solar energy forecast errors \t 2022 \t 0.00028482815832830966\n",
      "<title>Abstract</title> <p> The 2020 wildfire season (May through December) in the United States was exceptionally active, with the National Interagency Fire Center reporting over 10 million acres ( <inline-formula> <tex-math> <CDATA/> </tex-math> <math overflow='scroll'> <mo>></mo> </math> <inline-graphic href='erlac5143ieqn1.gif' type='simple'/> </inline-formula> 40 000 km <sup>2</sup> ) burned. During the September 2020 wildfire events, large concentrations of smoke particulates were emitted into the atmosphere. As a result, smoke was responsible for ∼10%–30% reduction in solar power production during peak hours as recorded by the California Independent System Operator (CAISO) sites. In this study, we focus on a 9 d period in September when wildfire smoke had a profound impact on solar energy production. During the smoke episodes, hour-ahead forecasts utilized by CAISO did not include the effects of smoke and therefore overestimated the expected power production by ∼10%–50%. Here we use multiple observational networks and a numerical weather prediction (NWP) model to show that the wildfire events of 2020 had a significantly detrimental influence on solar energy production due to high aerosol loading. We find that including the contribution of biomass burning particles greatly improves the day-ahead solar energy bias forecast of both global horizontal irradiance and direct normal irradiance by nearly ∼50%. Our results suggest that a more comprehensive treatment of aerosols, including biomass burning aerosols, in NWP models may be an important consideration for energy grid balancing, in addition to solar resource assessment, as solar power reliance increases. </p>\n",
      "\n",
      " \n",
      "\n",
      "Wind turbine drivetrains: state-of-the-art technologies and future development trends \t 2022 \t 0.00019380914454814047\n",
      "<p>Abstract. This paper presents the state-of-the-art technologies and development trends of wind turbine drivetrains – the system that converts kinetic energy of the wind to electrical energy – in different stages of their life cycle: design, manufacturing, installation, operation, lifetime extension, decommissioning and recycling. Offshore development and digitalization are also a focal point in this study. Drivetrain in this context includes the whole power conversion system: main bearing, shafts, gearbox, generator and power converter. The main aim of this article is to review the drivetrain technology development as well as to identify future challenges and research gaps. The main challenges in drivetrain research identified in this paper include drivetrain dynamic responses in large or floating turbines, aerodynamic and farm control effects, use of rare-earth material in generators, improving reliability through prognostics, and use of advances in digitalization. These challenges illustrate the multidisciplinary aspect of wind turbine drivetrains, which emphasizes the need for more interdisciplinary research and collaboration.</p>\n",
      "\n",
      " \n",
      "\n",
      "Decontamination of Mixed Paper and Plastic Municipal Solid Waste Increases Low and High Temperature Conversion Yields \t 2022 \t 4.103008905076422e-05\n",
      "<p> With the implementation of China’s Green Fence Policy and the following National Sword Policy, there is a need to divert previously accepted waste materials away from the landfill. Mixed plastic and paper wastes that are too contaminated to be economically recycled can be used for conversion into fuels and products. The effect of common contaminants present in waste streams must be determined to make municipal solid waste (MSW) a viable alternative to agricultural feedstocks for conversion. In this study, MSW was sourced from a dual stream materials recovery facility (MRF) in Emmet County, Michigan and characterized <italic>via</italic> mass balance. The most common contaminants in mixed paper and plastic were quantified and targeted for decontamination when mixed paper was explored for low temperature conversion pathways and plastics for high temperature conversion pathways. Ink, stickies, and plastic contamination were sorted out of the mixed paper stream and did not have an impact on sugar yields during enzymatic hydrolysis (EH). Although no improvement in yield was found, it was noted that copy paper within the mixed paper stream had an elevated pH and higher concentration of fermentation inhibitors, suggesting that intrinsic properties of some paper types may not be ideal for EH and fermentation conversion. Dilute alkaline pretreatment and mechanical refining of mixed paper increased the EH yield of mixed paper, suggesting this previously established process could be used as a decontamination method. “Dirt” and particulates were washed from mixed plastic using either an aqueous detergent or a non-aqueous chemical washing method. Liquid oil yields were increased during microwave assisted fast pyrolysis. All decontamination techniques met the cost target of less than $30/dry ton with plastic decontamination ranging from $18.16 to $24.81/dry ton. Because dilute alkaline pre-treatment and mechanical refining is considered part of the conversion process, the decontamination cost during feedstock preprocessing was considered $0/dry ton. </p>\n",
      "\n",
      " \n",
      "\n"
     ]
    }
   ],
   "source": [
    "pretty_print_results(retrieved_docs[\"ranker\"])\n"
   ]
  },
  {
   "cell_type": "markdown",
   "metadata": {},
   "source": [
    "## 6. Generate answer"
   ]
  },
  {
   "cell_type": "markdown",
   "metadata": {},
   "source": [
    "### 6.1 with Gemini"
   ]
  },
  {
   "cell_type": "code",
   "execution_count": 23,
   "metadata": {
    "tags": []
   },
   "outputs": [],
   "source": [
    "from haystack_integrations.components.generators.google_vertex import VertexAIGeminiGenerator\n",
    "from haystack.components.builders.prompt_builder import PromptBuilder"
   ]
  },
  {
   "cell_type": "code",
   "execution_count": 24,
   "metadata": {
    "tags": []
   },
   "outputs": [],
   "source": [
    "PROJECT_ID=\"<INSERT_PROJECT_ID_HERE>\""
   ]
  },
  {
   "cell_type": "code",
   "execution_count": 25,
   "metadata": {
    "tags": []
   },
   "outputs": [],
   "source": [
    "gemini = VertexAIGeminiGenerator(model=\"gemini-pro\", project_id=PROJECT_ID,\n",
    "                                generation_config={\n",
    "                                    \"temperature\": 0.2,\n",
    "                                    \"top_p\": 0.5,\n",
    "                                    \"top_k\": 40,\n",
    "                                    \"max_output_tokens\": 4096 ,\n",
    "                                    #\"stop_sequences\": config._raw_generation_config.stop_sequences,\n",
    "                                })\n",
    "\n",
    "prompt_template = \"\"\"\n",
    "According to these documents:\n",
    "\n",
    "{% for doc in documents %}\n",
    "  {{ doc.content }}\n",
    "{% endfor %}\n",
    "\n",
    "Answer the question: {{question}}\n",
    "\"\"\"\n",
    "prompt_builder = PromptBuilder(template=prompt_template)"
   ]
  },
  {
   "cell_type": "code",
   "execution_count": 26,
   "metadata": {
    "tags": []
   },
   "outputs": [],
   "source": [
    "gen_pipe=Pipeline()"
   ]
  },
  {
   "cell_type": "code",
   "execution_count": 27,
   "metadata": {
    "tags": []
   },
   "outputs": [],
   "source": [
    "gen_pipe.add_component(\"prompt_builder\", prompt_builder)\n",
    "gen_pipe.add_component(\"gemini\", gemini)"
   ]
  },
  {
   "cell_type": "code",
   "execution_count": 28,
   "metadata": {
    "tags": []
   },
   "outputs": [
    {
     "data": {
      "image/jpeg": "[encoded data removed]",
      "text/plain": [
       "<IPython.core.display.Image object>"
      ]
     },
     "metadata": {},
     "output_type": "display_data"
    },
    {
     "data": {
      "text/plain": []
     },
     "execution_count": 28,
     "metadata": {},
     "output_type": "execute_result"
    }
   ],
   "source": [
    "gen_pipe.connect(\"prompt_builder.prompt\", \"gemini\")"
   ]
  },
  {
   "cell_type": "code",
   "execution_count": 29,
   "metadata": {},
   "outputs": [],
   "source": [
    "result=gen_pipe.run(\n",
    "    {\"prompt_builder\": {\"question\": query, \"documents\": retrieved_docs[\"ranker\"][\"documents\"]}\n",
    "    }\n",
    ")"
   ]
  },
  {
   "cell_type": "code",
   "execution_count": 30,
   "metadata": {
    "tags": []
   },
   "outputs": [
    {
     "data": {
      "text/plain": [
       "{'gemini': {'answers': ['All-solid-state battery is considered as one of the most promising competitors to Li ion batteries. Two widely known performance metrics for solid electrolytes, among others, are ionic conductivity and stability. In this study, it is found that both can be improved by the synergistic effects of chlorine substitution in sulfide-based solid electrolytes. Particularly, instabilities arising from both bulk decompositions and interfacial reactions to electrodes can be better inhibited in the chlorine substituted sulfide solid electrolytes through the increased susceptibility to the mechanical constriction induced enhancement of voltage stability. As a result, the stability window of some chlorine-rich Li-argyrodites can be systematically higher than some other chlorine-deficient or chlorine-free electrolytes, especially under the implementation of the mechanical constriction battery assembly and test conditions. Thus, a solid-state battery system of 4 V to 5 V-class cathodes paired with lithium metal anode is demonstrated using these chlorine-rich Li-argyrodites without additional coatings. Furthermore, since Cl composition modulates the stability and instability of Li-argyrodite at low voltages, it allows us to design a multilayer configuration with a hierarchy of Li metal stabilities to demonstrate the stable cycling at relatively high current densities for solid-state batteries. It is found that a moderate Cl composition in the electrolyte is the best to inhibit Li dendrite penetration as the central electrolyte layer, emphasizing a slightly increased “instability” as the hidden performance metric of relevance here, in addition to the two well-known metrics of stability and ionic conductivity. The understanding of the chlorine substitution effect in sulfide electrolytes provides an important design principle for all-solid-state batteries.']}}"
      ]
     },
     "execution_count": 30,
     "metadata": {},
     "output_type": "execute_result"
    }
   ],
   "source": [
    "result"
   ]
  },
  {
   "cell_type": "code",
   "execution_count": 31,
   "metadata": {
    "tags": []
   },
   "outputs": [],
   "source": [
    "def qa(question: str):\n",
    "    retrieved_docs = hybrid_retrieval.run(\n",
    "        {\"text_embedder\": {\"text\": question}, \"bm25_retriever\": {\"query\": question}, \"ranker\": {\"query\": question}}\n",
    "    )\n",
    "    answers = gen_pipe.run(\n",
    "        {\"prompt_builder\": {\"question\": question, \"documents\": retrieved_docs[\"ranker\"][\"documents\"]}}\n",
    "    )\n",
    "    return retrieved_docs, answers\n",
    "    \n",
    "         "
   ]
  },
  {
   "cell_type": "code",
   "execution_count": 32,
   "metadata": {
    "tags": []
   },
   "outputs": [
    {
     "data": {
      "application/vnd.jupyter.widget-view+json": {
       "model_id": "13750210d0374d0db354e6bb8cba1c27",
       "version_major": 2,
       "version_minor": 0
      },
      "text/plain": [
       "Batches:   0%|          | 0/1 [00:00<?, ?it/s]"
      ]
     },
     "metadata": {},
     "output_type": "display_data"
    }
   ],
   "source": [
    "retrieved_docs, answers= qa(\"solid state batteries\")"
   ]
  },
  {
   "cell_type": "code",
   "execution_count": 33,
   "metadata": {
    "tags": []
   },
   "outputs": [
    {
     "data": {
      "text/plain": [
       "{'gemini': {'answers': ['All-solid-state battery is considered as one of the most promising competitors to Li ion batteries. Two widely known performance metrics for solid electrolytes, among others, are ionic conductivity and stability. In this study, it is found that both can be improved by the synergistic effects of chlorine substitution in sulfide-based solid electrolytes. Particularly, instabilities arising from both bulk decompositions and interfacial reactions to electrodes can be better inhibited in the chlorine substituted sulfide solid electrolytes through the increased susceptibility to the mechanical constriction induced enhancement of voltage stability. As a result, the stability window of some chlorine-rich Li-argyrodites can be systematically higher than some other chlorine-deficient or chlorine-free electrolytes, especially under the implementation of the mechanical constriction battery assembly and test conditions. Thus, a solid-state battery system of 4 V to 5 V-class cathodes paired with lithium metal anode is demonstrated using these chlorine-rich Li-argyrodites without additional coatings. Furthermore, since Cl composition modulates the stability and instability of Li-argyrodite at low voltages, it allows us to design a multilayer configuration with a hierarchy of Li metal stabilities to demonstrate the stable cycling at relatively high current densities for solid-state batteries. It is found that a moderate Cl composition in the electrolyte is the best to inhibit Li dendrite penetration as the central electrolyte layer, emphasizing a slightly increased “instability” as the hidden performance metric of relevance here, in addition to the two well-known metrics of stability and ionic conductivity. The understanding of the chlorine substitution effect in sulfide electrolytes provides an important design principle for all-solid-state batteries.']}}"
      ]
     },
     "execution_count": 33,
     "metadata": {},
     "output_type": "execute_result"
    }
   ],
   "source": [
    "answers"
   ]
  },
  {
   "cell_type": "code",
   "execution_count": 34,
   "metadata": {
    "tags": []
   },
   "outputs": [],
   "source": [
    "from tabulate import tabulate\n",
    "def tabulate_results(prediction):\n",
    "    table=[]\n",
    "    for doc in prediction[\"documents\"]:\n",
    "        table.append([doc.meta[\"title\"], doc.meta[\"year\"], doc.score, doc.content])\n",
    "    return pd.DataFrame(table, columns=[\"title\", \"year\", \"score\", \"content\"])"
   ]
  },
  {
   "cell_type": "code",
   "execution_count": 35,
   "metadata": {
    "tags": []
   },
   "outputs": [],
   "source": [
    "table=tabulate_results(retrieved_docs[\"ranker\"])"
   ]
  },
  {
   "cell_type": "code",
   "execution_count": 36,
   "metadata": {
    "tags": []
   },
   "outputs": [
    {
     "name": "stdout",
     "output_type": "stream",
     "text": [
      "    title                                                                                                                                 year        score\n",
      "--  ----------------------------------------------------------------------------------------------------------------------------------  ------  -----------\n",
      " 0  Synergistic effects of chlorine substitution in sulfide electrolyte solid state batteries                                             2022  0.994827\n",
      " 1  Dual-shell silicate and alumina coating for long lasting and high capacity lithium ion batteries                                      2022  0.00288734\n",
      " 2  Effects of temperature and time on supercritical methanol Co-Liquefaction of rice straw and linear low-density polyethylene wastes    2022  0.00261771\n",
      " 3  Approaching theoretical specific capacity of iron-rich lithium iron silicate using graphene-incorporation and fluorine-doping         2022  0.00209044\n",
      " 4  State Indicators for Advancing Demand Flexibility and Energy Efficiency in Buildings - Part I                                         2022  0.000958195\n",
      " 5  Reversible photo control of proton chemistry                                                                                          2022  0.000434948\n",
      " 6  Manufacturing Processes for Permanent Magnets: Part II—Bonding and Emerging Methods                                                   2022  0.000287158\n",
      " 7  Smoke from 2020 United States wildfires responsible for substantial solar energy forecast errors                                      2022  0.000284828\n",
      " 8  Wind turbine drivetrains: state-of-the-art technologies and future development trends                                                 2022  0.000193809\n",
      " 9  Decontamination of Mixed Paper and Plastic Municipal Solid Waste Increases Low and High Temperature Conversion Yields                 2022  4.10301e-05\n"
     ]
    }
   ],
   "source": [
    "print(tabulate(table.iloc[:,:-1], headers=table.columns[:-1]))"
   ]
  },
  {
   "cell_type": "code",
   "execution_count": 37,
   "metadata": {
    "tags": []
   },
   "outputs": [
    {
     "name": "stdout",
     "output_type": "stream",
     "text": [
      "['All-solid-state battery is considered as one of the most promising competitors to Li ion batteries. Two widely known performance metrics for solid electrolytes, among others, are ionic conductivity and stability. In this study, it is found that both can be improved by the synergistic effects of chlorine substitution in sulfide-based solid electrolytes. Particularly, instabilities arising from both bulk decompositions and interfacial reactions to electrodes can be better inhibited in the chlorine substituted sulfide solid electrolytes through the increased susceptibility to the mechanical constriction induced enhancement of voltage stability. As a result, the stability window of some chlorine-rich Li-argyrodites can be systematically higher than some other chlorine-deficient or chlorine-free electrolytes, especially under the implementation of the mechanical constriction battery assembly and test conditions. Thus, a solid-state battery system of 4 V to 5 V-class cathodes paired with lithium metal anode is demonstrated using these chlorine-rich Li-argyrodites without additional coatings. Furthermore, since Cl composition modulates the stability and instability of Li-argyrodite at low voltages, it allows us to design a multilayer configuration with a hierarchy of Li metal stabilities to demonstrate the stable cycling at relatively high current densities for solid-state batteries. It is found that a moderate Cl composition in the electrolyte is the best to inhibit Li dendrite penetration as the central electrolyte layer, emphasizing a slightly increased “instability” as the hidden performance metric of relevance here, in addition to the two well-known metrics of stability and ionic conductivity. The understanding of the chlorine substitution effect in sulfide electrolytes provides an important design principle for all-solid-state batteries.']\n"
     ]
    }
   ],
   "source": [
    "print(answers[\"gemini\"][\"answers\"])"
   ]
  },
  {
   "cell_type": "markdown",
   "metadata": {},
   "source": [
    "### 6.2 with Gemma\n",
    "We are downloading Gemma from HuggingFace. You will need a token (freely provided) from huggingface.com"
   ]
  },
  {
   "cell_type": "code",
   "execution_count": 25,
   "metadata": {
    "tags": []
   },
   "outputs": [],
   "source": [
    "import getpass, os\n",
    "HUGGING_FACE_TOKEN=getpass.getpass(\"Your hugging face access token: \")\n",
    "os.environ[\"HF_API_TOKEN\"] = HUGGING_FACE_TOKEN "
   ]
  },
  {
   "cell_type": "code",
   "execution_count": 26,
   "metadata": {
    "tags": []
   },
   "outputs": [
    {
     "data": {
      "application/vnd.jupyter.widget-view+json": {
       "model_id": "3b81f4b4be8e48f9af9f45b172ed47d2",
       "version_major": 2,
       "version_minor": 0
      },
      "text/plain": [
       "Loading checkpoint shards:   0%|          | 0/2 [00:00<?, ?it/s]"
      ]
     },
     "metadata": {},
     "output_type": "display_data"
    }
   ],
   "source": [
    "from haystack.components.generators import HuggingFaceLocalGenerator\n",
    "\n",
    "generator = HuggingFaceLocalGenerator(\n",
    "    model=\"google/gemma-2b-it\",\n",
    "    generation_kwargs={\"max_new_tokens\": 500, \"temperature\": 0.2},\n",
    "    device=ComponentDevice.from_str(\"cuda:1\")\n",
    ")\n",
    "\n",
    "generator.warm_up()"
   ]
  },
  {
   "cell_type": "code",
   "execution_count": 27,
   "metadata": {
    "tags": []
   },
   "outputs": [],
   "source": [
    "gemma_prompt_template= \"\"\"\n",
    "Using ONLY these documents:\n",
    "\n",
    "{% for doc in documents %}\n",
    "  {{ doc.content }}\n",
    "{% endfor %}\n",
    "\n",
    "Answer the question: {{question}}\n",
    "\"\"\""
   ]
  },
  {
   "cell_type": "code",
   "execution_count": 28,
   "metadata": {
    "tags": []
   },
   "outputs": [],
   "source": [
    "gemma_prompt_builder = PromptBuilder(template=gemma_prompt_template)"
   ]
  },
  {
   "cell_type": "code",
   "execution_count": 35,
   "metadata": {
    "tags": []
   },
   "outputs": [],
   "source": [
    "gemma_pipe=Pipeline()\n",
    "\n",
    "gemma_pipe.add_component(\"gemma_prompt_builder\", gemma_prompt_builder)\n",
    "\n",
    "gemma_pipe.add_component(\"gemma\", generator)\n",
    "\n",
    "gemma_pipe.connect(\"gemma_prompt_builder.prompt\", \"gemma\")"
   ]
  },
  {
   "cell_type": "code",
   "execution_count": 29,
   "metadata": {
    "tags": []
   },
   "outputs": [],
   "source": [
    "question=\"summarize finding about solid state batteries\"\n"
   ]
  },
  {
   "cell_type": "code",
   "execution_count": 65,
   "metadata": {
    "tags": []
   },
   "outputs": [],
   "source": [
    "def gemma_qa(question, topk, temp):\n",
    "    retrieved_docs = hybrid_retrieval.run(\n",
    "        {\"text_embedder\": {\"text\": question}, \"bm25_retriever\": {\"query\": question}, \"ranker\": {\"query\": question}}\n",
    "    )\n",
    "    answers = gemma_pipe.run(\n",
    "        {\"gemma_prompt_builder\": {\"question\": question, \"documents\": retrieved_docs[\"ranker\"][\"documents\"]}}\n",
    "    )\n",
    "    table=tabulate_results(retrieved_docs[\"ranker\"])\n",
    "    answer0=gemma_answers[\"gemma\"][\"replies\"][0]\n",
    "    return answer0, table.iloc[:,:-1] #retrieved_docs, answers"
   ]
  },
  {
   "cell_type": "code",
   "execution_count": 69,
   "metadata": {},
   "outputs": [
    {
     "data": {
      "application/vnd.jupyter.widget-view+json": {
       "model_id": "9a25fbfc9f004c3f9af6bf16c136fddc",
       "version_major": 2,
       "version_minor": 0
      },
      "text/plain": [
       "Batches:   0%|          | 0/1 [00:00<?, ?it/s]"
      ]
     },
     "metadata": {},
     "output_type": "display_data"
    }
   ],
   "source": [
    "gemma_answer, gemma_table= gemma_qa(question, 1, 2)"
   ]
  },
  {
   "cell_type": "code",
   "execution_count": 70,
   "metadata": {
    "tags": []
   },
   "outputs": [
    {
     "name": "stdout",
     "output_type": "stream",
     "text": [
      "    title                                                                                                                            year       score\n",
      "--  -----------------------------------------------------------------------------------------------------------------------------  ------  ----------\n",
      " 0  Synergistic effects of chlorine substitution in sulfide electrolyte solid state batteries                                        2022  0.400996\n",
      " 1  Dual-shell silicate and alumina coating for long lasting and high capacity lithium ion batteries                                 2022  0.0200244\n",
      " 2  Unraveling transition-metal-mediated stability of spinel oxide via in situ neutron scattering                                    2022  0.0179024\n",
      " 3  Excited states of lutetium oxide and its singly charged cation                                                                   2022  0.0073172\n",
      " 4  Density of states prediction for materials discovery via contrastive learning from probabilistic embeddings                      2022  0.00582217\n",
      " 5  Wind turbine drivetrains: state-of-the-art technologies and future development trends                                            2022  0.00298885\n",
      " 6  State Indicators for Advancing Demand Flexibility and Energy Efficiency in Buildings - Part I                                    2022  0.00298783\n",
      " 7  Approaching theoretical specific capacity of iron-rich lithium iron silicate using graphene-incorporation and fluorine-doping    2022  0.00180101\n",
      " 8  Tunable band gaps and optical absorption properties of bent MoS2 nanoribbons                                                     2022  0.00152014\n",
      " 9  Nano-scale insights regarding coke formation in zeolite SSZ-13 subject to the methanol-to-hydrocarbons reaction                  2022  0.00136074\n"
     ]
    }
   ],
   "source": [
    "print(tabulate(gemma_table, gemma_table.columns))"
   ]
  },
  {
   "cell_type": "code",
   "execution_count": 71,
   "metadata": {
    "tags": []
   },
   "outputs": [
    {
     "name": "stdout",
     "output_type": "stream",
     "text": [
      "\n",
      "\n",
      "A solid state battery is a type of battery that uses a solid electrolyte instead of a liquid electrolyte. This solid electrolyte allows the battery to operate at higher temperatures and to store more energy than a liquid electrolyte battery. Solid state batteries are also more environmentally friendly than liquid electrolyte batteries, as they do not require the use of hazardous chemicals.\n"
     ]
    }
   ],
   "source": [
    "print(gemma_answer)"
   ]
  },
  {
   "cell_type": "markdown",
   "metadata": {},
   "source": [
    "## 7. Build an interface\n",
    "Simple interface with Gradio https://www.gradio.app/. Also consider Streamlit."
   ]
  },
  {
   "cell_type": "code",
   "execution_count": 72,
   "metadata": {
    "tags": []
   },
   "outputs": [],
   "source": [
    "import gradio as gr"
   ]
  },
  {
   "cell_type": "code",
   "execution_count": 79,
   "metadata": {
    "tags": []
   },
   "outputs": [],
   "source": [
    "# Gradio interface definition\n",
    "interface = gr.Interface(\n",
    "    fn=gemma_qa,\n",
    "    inputs=[gr.Textbox(label=\"Search\"), gr.Slider(minimum=1, maximum=10, label=\"Top_K\"), gr.Slider(minimum=0.0, maximum=1.0, label=\"Temperature\")],\n",
    "    outputs=[gr.Text(), gr.Dataframe(headers=[\"Title\", \"Year\", \"Score\"], wrap=True)],\n",
    "    title=\"Elsa 1.5\",\n",
    "    description=\"\",\n",
    ")"
   ]
  },
  {
   "cell_type": "code",
   "execution_count": 80,
   "metadata": {
    "tags": []
   },
   "outputs": [
    {
     "name": "stdout",
     "output_type": "stream",
     "text": [
      "Running on local URL:  http://127.0.0.1:7860\n",
      "Running on public URL: https://eb6134694688d506bb.gradio.live\n",
      "\n",
      "This share link expires in 72 hours. For free permanent hosting and GPU upgrades, run `gradio deploy` from Terminal to deploy to Spaces (https://huggingface.co/spaces)\n"
     ]
    },
    {
     "data": {
      "text/html": [
       "<div><iframe src=\"https://eb6134694688d506bb.gradio.live\" width=\"100%\" height=\"500\" allow=\"autoplay; camera; microphone; clipboard-read; clipboard-write;\" frameborder=\"0\" allowfullscreen></iframe></div>"
      ],
      "text/plain": [
       "<IPython.core.display.HTML object>"
      ]
     },
     "metadata": {},
     "output_type": "display_data"
    },
    {
     "data": {
      "text/plain": []
     },
     "execution_count": 80,
     "metadata": {},
     "output_type": "execute_result"
    },
    {
     "data": {
      "application/vnd.jupyter.widget-view+json": {
       "model_id": "a60f060707f645e1b9e11e838daf5cde",
       "version_major": 2,
       "version_minor": 0
      },
      "text/plain": [
       "Batches:   0%|          | 0/1 [00:00<?, ?it/s]"
      ]
     },
     "metadata": {},
     "output_type": "display_data"
    },
    {
     "name": "stderr",
     "output_type": "stream",
     "text": [
      "/opt/conda/envs/pytorch/lib/python3.10/site-packages/transformers/generation/configuration_utils.py:410: UserWarning: `do_sample` is set to `False`. However, `temperature` is set to `0.2` -- this flag is only used in sample-based generation modes. You should set `do_sample=True` or unset `temperature`.\n",
      "  warnings.warn(\n"
     ]
    }
   ],
   "source": [
    "interface.launch(share=True)"
   ]
  },
  {
   "cell_type": "code",
   "execution_count": 81,
   "metadata": {
    "tags": []
   },
   "outputs": [
    {
     "name": "stdout",
     "output_type": "stream",
     "text": [
      "Closing server running on port: 7860\n"
     ]
    }
   ],
   "source": [
    "interface.close()"
   ]
  },
  {
   "cell_type": "code",
   "execution_count": null,
   "metadata": {},
   "outputs": [],
   "source": []
  }
 ],
 "metadata": {
  "colab": {
   "provenance": []
  },
  "environment": {
   "kernel": "conda-env-pytorch-pytorch",
   "name": "workbench-notebooks.m117",
   "type": "gcloud",
   "uri": "us-docker.pkg.dev/deeplearning-platform-release/gcr.io/workbench-notebooks:m117"
  },
  "kernelspec": {
   "display_name": "PyTorch 1-13",
   "language": "python",
   "name": "conda-env-pytorch-pytorch"
  },
  "language_info": {
   "codemirror_mode": {
    "name": "ipython",
    "version": 3
   },
   "file_extension": ".py",
   "mimetype": "text/x-python",
   "name": "python",
   "nbconvert_exporter": "python",
   "pygments_lexer": "ipython3",
   "version": "3.10.13"
  }
 },
 "nbformat": 4,
 "nbformat_minor": 4
}
