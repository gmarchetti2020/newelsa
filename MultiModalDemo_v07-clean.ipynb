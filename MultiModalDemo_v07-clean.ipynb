{
 "cells": [
  {
   "cell_type": "raw",
   "id": "0acab8e0-673e-4b22-8031-38155ed26bb1",
   "metadata": {
    "id": "307804a3-c02b-4a57-ac0d-172c30ddc851"
   },
   "source": [
    "/*\n",
    " * THIS IS SAMPLE CODE\n",
    " *\n",
    " * Copyright 2024 Google\n",
    " *\n",
    " * Licensed under the Apache License, Version 2.0 (the \"License\");\n",
    " * you may not use this file except in compliance with the License.\n",
    " * You may obtain a copy of the License at\n",
    " *\n",
    " * http://www.apache.org/licenses/LICENSE-2.0\n",
    " *\n",
    " * Unless required by applicable law or agreed to in writing, software\n",
    " * distributed under the License is distributed on an \"AS IS\" BASIS,\n",
    " * WITHOUT WARRANTIES OR CONDITIONS OF ANY KIND, either express or implied.\n",
    " * See the License for the specific language governing permissions and\n",
    " * limitations under the License.\n",
    " */"
   ]
  },
  {
   "cell_type": "markdown",
   "id": "465f95be-e60b-43b6-89e8-b762f0e8aa69",
   "metadata": {
    "id": "307804a3-c02b-4a57-ac0d-172c30ddc851"
   },
   "source": [
    "# Multi-Modal RAG\n",
    "with LlamaIndex and Gemini  \n",
    "Code accompanies Medium [article](https://medium.com/@gmarchetti/unlock-sharepoint-with-google-gemini-and-llamaindex-bab54f77ab90).  "
   ]
  },
  {
   "cell_type": "markdown",
   "id": "b5331b6b",
   "metadata": {
    "id": "b5331b6b",
    "tags": []
   },
   "source": [
    "In this example, we:\n",
    "- Download some documents containing text and pictures or diagrams\n",
    "- Create a multimodal data store\n",
    "- Embed the documents, create a vector index and a retriever\n",
    "- Given a user's query, retrieve the most relevant paragraphs (pictures and text therein) from the vector store\n",
    "- And finally generate the answer to the query."
   ]
  },
  {
   "cell_type": "markdown",
   "id": "5be7768c-48f1-4e59-bade-0769f3b3ee1d",
   "metadata": {
    "id": "5be7768c-48f1-4e59-bade-0769f3b3ee1d"
   },
   "source": [
    "## The problem\n",
    "* Documents are in Sharepoint\n",
    "* They are long, complex and multimodal, i.e. they contain pictures and tables.\n",
    "* Vertex AI Search does not index Sharepoint (yet), nor multimodal documents (yet).\n",
    "* Access control is required (work in progress - not implemented yet)"
   ]
  },
  {
   "cell_type": "markdown",
   "id": "59d79900-d2a9-4136-abde-7df5946d39e7",
   "metadata": {
    "id": "59d79900-d2a9-4136-abde-7df5946d39e7",
    "tags": []
   },
   "source": [
    "## Installations"
   ]
  },
  {
   "cell_type": "code",
   "execution_count": null,
   "id": "283LAtqYFs2c",
   "metadata": {
    "colab": {
     "base_uri": "https://localhost:8080/"
    },
    "executionInfo": {
     "elapsed": 23426,
     "status": "ok",
     "timestamp": 1706062079311,
     "user": {
      "displayName": "Giovanni Marchetti",
      "userId": "01878792717019610745"
     },
     "user_tz": 480
    },
    "id": "283LAtqYFs2c",
    "outputId": "2e7f42b5-30a6-422c-8613-cccb3c55f411"
   },
   "outputs": [
    {
     "name": "stdout",
     "output_type": "stream",
     "text": [
      "Mounted at /content/drive\n"
     ]
    }
   ],
   "source": [
    "#this only works on classic Colab\n",
    "from google.colab import drive\n",
    "drive.mount('/content/drive')"
   ]
  },
  {
   "cell_type": "code",
   "execution_count": null,
   "id": "0ffe7d98",
   "metadata": {
    "colab": {
     "base_uri": "https://localhost:8080/",
     "height": 1000
    },
    "executionInfo": {
     "elapsed": 32870,
     "status": "ok",
     "timestamp": 1706062113786,
     "user": {
      "displayName": "Giovanni Marchetti",
      "userId": "01878792717019610745"
     },
     "user_tz": 480
    },
    "id": "0ffe7d98",
    "outputId": "0f8f2e05-2e2c-4495-e695-db6c1b0d089c",
    "tags": []
   },
   "outputs": [
    {
     "name": "stdout",
     "output_type": "stream",
     "text": [
      "Collecting llama-index>=0.9.32\n",
      "  Downloading llama_index-0.9.36-py3-none-any.whl (15.9 MB)\n",
      "\u001b[2K     \u001b[90m━━━━━━━━━━━━━━━━━━━━━━━━━━━━━━━━━━━━━━━━\u001b[0m \u001b[32m15.9/15.9 MB\u001b[0m \u001b[31m34.1 MB/s\u001b[0m eta \u001b[36m0:00:00\u001b[0m\n",
      "\u001b[?25hRequirement already satisfied: google-generativeai>=0.3 in /usr/local/lib/python3.10/dist-packages (0.3.2)\n",
      "Requirement already satisfied: google-ai-generativelanguage>=0.4 in /usr/local/lib/python3.10/dist-packages (0.4.0)\n",
      "Collecting google-ai-generativelanguage>=0.4\n",
      "  Downloading google_ai_generativelanguage-0.4.1-py3-none-any.whl (598 kB)\n",
      "\u001b[2K     \u001b[90m━━━━━━━━━━━━━━━━━━━━━━━━━━━━━━━━━━━━━━━━\u001b[0m \u001b[32m598.7/598.7 kB\u001b[0m \u001b[31m44.4 MB/s\u001b[0m eta \u001b[36m0:00:00\u001b[0m\n",
      "\u001b[?25hRequirement already satisfied: matplotlib in /usr/local/lib/python3.10/dist-packages (3.7.1)\n",
      "Collecting matplotlib\n",
      "  Downloading matplotlib-3.8.2-cp310-cp310-manylinux_2_17_x86_64.manylinux2014_x86_64.whl (11.6 MB)\n",
      "\u001b[2K     \u001b[90m━━━━━━━━━━━━━━━━━━━━━━━━━━━━━━━━━━━━━━━━\u001b[0m \u001b[32m11.6/11.6 MB\u001b[0m \u001b[31m63.8 MB/s\u001b[0m eta \u001b[36m0:00:00\u001b[0m\n",
      "\u001b[?25hCollecting qdrant_client\n",
      "  Downloading qdrant_client-1.7.1-py3-none-any.whl (205 kB)\n",
      "\u001b[2K     \u001b[90m━━━━━━━━━━━━━━━━━━━━━━━━━━━━━━━━━━━━━━━━\u001b[0m \u001b[32m205.9/205.9 kB\u001b[0m \u001b[31m24.9 MB/s\u001b[0m eta \u001b[36m0:00:00\u001b[0m\n",
      "\u001b[?25hRequirement already satisfied: SQLAlchemy[asyncio]>=1.4.49 in /usr/local/lib/python3.10/dist-packages (from llama-index>=0.9.32) (2.0.24)\n",
      "Requirement already satisfied: aiohttp<4.0.0,>=3.8.6 in /usr/local/lib/python3.10/dist-packages (from llama-index>=0.9.32) (3.9.1)\n",
      "Collecting dataclasses-json (from llama-index>=0.9.32)\n",
      "  Downloading dataclasses_json-0.6.3-py3-none-any.whl (28 kB)\n",
      "Collecting deprecated>=1.2.9.3 (from llama-index>=0.9.32)\n",
      "  Downloading Deprecated-1.2.14-py2.py3-none-any.whl (9.6 kB)\n",
      "Requirement already satisfied: fsspec>=2023.5.0 in /usr/local/lib/python3.10/dist-packages (from llama-index>=0.9.32) (2023.6.0)\n",
      "Collecting httpx (from llama-index>=0.9.32)\n",
      "  Downloading httpx-0.26.0-py3-none-any.whl (75 kB)\n",
      "\u001b[2K     \u001b[90m━━━━━━━━━━━━━━━━━━━━━━━━━━━━━━━━━━━━━━━━\u001b[0m \u001b[32m75.9/75.9 kB\u001b[0m \u001b[31m10.8 MB/s\u001b[0m eta \u001b[36m0:00:00\u001b[0m\n",
      "\u001b[?25hRequirement already satisfied: nest-asyncio<2.0.0,>=1.5.8 in /usr/local/lib/python3.10/dist-packages (from llama-index>=0.9.32) (1.6.0)\n",
      "Requirement already satisfied: networkx>=3.0 in /usr/local/lib/python3.10/dist-packages (from llama-index>=0.9.32) (3.2.1)\n",
      "Requirement already satisfied: nltk<4.0.0,>=3.8.1 in /usr/local/lib/python3.10/dist-packages (from llama-index>=0.9.32) (3.8.1)\n",
      "Requirement already satisfied: numpy in /usr/local/lib/python3.10/dist-packages (from llama-index>=0.9.32) (1.23.5)\n",
      "Collecting openai>=1.1.0 (from llama-index>=0.9.32)\n",
      "  Downloading openai-1.9.0-py3-none-any.whl (223 kB)\n",
      "\u001b[2K     \u001b[90m━━━━━━━━━━━━━━━━━━━━━━━━━━━━━━━━━━━━━━━━\u001b[0m \u001b[32m223.4/223.4 kB\u001b[0m \u001b[31m26.7 MB/s\u001b[0m eta \u001b[36m0:00:00\u001b[0m\n",
      "\u001b[?25hRequirement already satisfied: pandas in /usr/local/lib/python3.10/dist-packages (from llama-index>=0.9.32) (1.5.3)\n",
      "Requirement already satisfied: requests>=2.31.0 in /usr/local/lib/python3.10/dist-packages (from llama-index>=0.9.32) (2.31.0)\n",
      "Requirement already satisfied: tenacity<9.0.0,>=8.2.0 in /usr/local/lib/python3.10/dist-packages (from llama-index>=0.9.32) (8.2.3)\n",
      "Collecting tiktoken>=0.3.3 (from llama-index>=0.9.32)\n",
      "  Downloading tiktoken-0.5.2-cp310-cp310-manylinux_2_17_x86_64.manylinux2014_x86_64.whl (2.0 MB)\n",
      "\u001b[2K     \u001b[90m━━━━━━━━━━━━━━━━━━━━━━━━━━━━━━━━━━━━━━━━\u001b[0m \u001b[32m2.0/2.0 MB\u001b[0m \u001b[31m69.9 MB/s\u001b[0m eta \u001b[36m0:00:00\u001b[0m\n",
      "\u001b[?25hRequirement already satisfied: typing-extensions>=4.5.0 in /usr/local/lib/python3.10/dist-packages (from llama-index>=0.9.32) (4.5.0)\n",
      "Collecting typing-inspect>=0.8.0 (from llama-index>=0.9.32)\n",
      "  Downloading typing_inspect-0.9.0-py3-none-any.whl (8.8 kB)\n",
      "Requirement already satisfied: google-auth in /usr/local/lib/python3.10/dist-packages (from google-generativeai>=0.3) (2.17.3)\n",
      "Requirement already satisfied: google-api-core in /usr/local/lib/python3.10/dist-packages (from google-generativeai>=0.3) (2.11.1)\n",
      "Requirement already satisfied: protobuf in /usr/local/lib/python3.10/dist-packages (from google-generativeai>=0.3) (3.20.3)\n",
      "Requirement already satisfied: tqdm in /usr/local/lib/python3.10/dist-packages (from google-generativeai>=0.3) (4.66.1)\n",
      "Requirement already satisfied: proto-plus<2.0.0dev,>=1.22.3 in /usr/local/lib/python3.10/dist-packages (from google-ai-generativelanguage>=0.4) (1.23.0)\n",
      "Requirement already satisfied: contourpy>=1.0.1 in /usr/local/lib/python3.10/dist-packages (from matplotlib) (1.2.0)\n",
      "Requirement already satisfied: cycler>=0.10 in /usr/local/lib/python3.10/dist-packages (from matplotlib) (0.12.1)\n",
      "Requirement already satisfied: fonttools>=4.22.0 in /usr/local/lib/python3.10/dist-packages (from matplotlib) (4.47.2)\n",
      "Requirement already satisfied: kiwisolver>=1.3.1 in /usr/local/lib/python3.10/dist-packages (from matplotlib) (1.4.5)\n",
      "Requirement already satisfied: packaging>=20.0 in /usr/local/lib/python3.10/dist-packages (from matplotlib) (23.2)\n",
      "Requirement already satisfied: pillow>=8 in /usr/local/lib/python3.10/dist-packages (from matplotlib) (9.4.0)\n",
      "Requirement already satisfied: pyparsing>=2.3.1 in /usr/local/lib/python3.10/dist-packages (from matplotlib) (3.1.1)\n",
      "Requirement already satisfied: python-dateutil>=2.7 in /usr/local/lib/python3.10/dist-packages (from matplotlib) (2.8.2)\n",
      "Requirement already satisfied: grpcio>=1.41.0 in /usr/local/lib/python3.10/dist-packages (from qdrant_client) (1.60.0)\n",
      "Collecting grpcio-tools>=1.41.0 (from qdrant_client)\n",
      "  Downloading grpcio_tools-1.60.0-cp310-cp310-manylinux_2_17_x86_64.manylinux2014_x86_64.whl (2.8 MB)\n",
      "\u001b[2K     \u001b[90m━━━━━━━━━━━━━━━━━━━━━━━━━━━━━━━━━━━━━━━━\u001b[0m \u001b[32m2.8/2.8 MB\u001b[0m \u001b[31m66.0 MB/s\u001b[0m eta \u001b[36m0:00:00\u001b[0m\n",
      "\u001b[?25hCollecting portalocker<3.0.0,>=2.7.0 (from qdrant_client)\n",
      "  Downloading portalocker-2.8.2-py3-none-any.whl (17 kB)\n",
      "Requirement already satisfied: pydantic>=1.10.8 in /usr/local/lib/python3.10/dist-packages (from qdrant_client) (1.10.14)\n",
      "Requirement already satisfied: urllib3<3,>=1.26.14 in /usr/local/lib/python3.10/dist-packages (from qdrant_client) (2.0.7)\n",
      "Requirement already satisfied: attrs>=17.3.0 in /usr/local/lib/python3.10/dist-packages (from aiohttp<4.0.0,>=3.8.6->llama-index>=0.9.32) (23.2.0)\n",
      "Requirement already satisfied: multidict<7.0,>=4.5 in /usr/local/lib/python3.10/dist-packages (from aiohttp<4.0.0,>=3.8.6->llama-index>=0.9.32) (6.0.4)\n",
      "Requirement already satisfied: yarl<2.0,>=1.0 in /usr/local/lib/python3.10/dist-packages (from aiohttp<4.0.0,>=3.8.6->llama-index>=0.9.32) (1.9.4)\n",
      "Requirement already satisfied: frozenlist>=1.1.1 in /usr/local/lib/python3.10/dist-packages (from aiohttp<4.0.0,>=3.8.6->llama-index>=0.9.32) (1.4.1)\n",
      "Requirement already satisfied: aiosignal>=1.1.2 in /usr/local/lib/python3.10/dist-packages (from aiohttp<4.0.0,>=3.8.6->llama-index>=0.9.32) (1.3.1)\n",
      "Requirement already satisfied: async-timeout<5.0,>=4.0 in /usr/local/lib/python3.10/dist-packages (from aiohttp<4.0.0,>=3.8.6->llama-index>=0.9.32) (4.0.3)\n",
      "Requirement already satisfied: wrapt<2,>=1.10 in /usr/local/lib/python3.10/dist-packages (from deprecated>=1.2.9.3->llama-index>=0.9.32) (1.14.1)\n",
      "Requirement already satisfied: googleapis-common-protos<2.0.dev0,>=1.56.2 in /usr/local/lib/python3.10/dist-packages (from google-api-core->google-generativeai>=0.3) (1.62.0)\n",
      "Requirement already satisfied: grpcio-status<2.0.dev0,>=1.33.2 in /usr/local/lib/python3.10/dist-packages (from google-api-core->google-generativeai>=0.3) (1.48.2)\n",
      "Requirement already satisfied: cachetools<6.0,>=2.0.0 in /usr/local/lib/python3.10/dist-packages (from google-auth->google-generativeai>=0.3) (5.3.2)\n",
      "Requirement already satisfied: pyasn1-modules>=0.2.1 in /usr/local/lib/python3.10/dist-packages (from google-auth->google-generativeai>=0.3) (0.3.0)\n",
      "Requirement already satisfied: six>=1.9.0 in /usr/local/lib/python3.10/dist-packages (from google-auth->google-generativeai>=0.3) (1.16.0)\n",
      "Requirement already satisfied: rsa<5,>=3.1.4 in /usr/local/lib/python3.10/dist-packages (from google-auth->google-generativeai>=0.3) (4.9)\n",
      "Collecting protobuf (from google-generativeai>=0.3)\n",
      "  Downloading protobuf-4.25.2-cp37-abi3-manylinux2014_x86_64.whl (294 kB)\n",
      "\u001b[2K     \u001b[90m━━━━━━━━━━━━━━━━━━━━━━━━━━━━━━━━━━━━━━━━\u001b[0m \u001b[32m294.6/294.6 kB\u001b[0m \u001b[31m29.0 MB/s\u001b[0m eta \u001b[36m0:00:00\u001b[0m\n",
      "\u001b[?25hRequirement already satisfied: setuptools in /usr/local/lib/python3.10/dist-packages (from grpcio-tools>=1.41.0->qdrant_client) (67.7.2)\n",
      "Requirement already satisfied: anyio in /usr/local/lib/python3.10/dist-packages (from httpx->llama-index>=0.9.32) (3.7.1)\n",
      "Requirement already satisfied: certifi in /usr/local/lib/python3.10/dist-packages (from httpx->llama-index>=0.9.32) (2023.11.17)\n",
      "Collecting httpcore==1.* (from httpx->llama-index>=0.9.32)\n",
      "  Downloading httpcore-1.0.2-py3-none-any.whl (76 kB)\n",
      "\u001b[2K     \u001b[90m━━━━━━━━━━━━━━━━━━━━━━━━━━━━━━━━━━━━━━━━\u001b[0m \u001b[32m76.9/76.9 kB\u001b[0m \u001b[31m10.0 MB/s\u001b[0m eta \u001b[36m0:00:00\u001b[0m\n",
      "\u001b[?25hRequirement already satisfied: idna in /usr/local/lib/python3.10/dist-packages (from httpx->llama-index>=0.9.32) (3.6)\n",
      "Requirement already satisfied: sniffio in /usr/local/lib/python3.10/dist-packages (from httpx->llama-index>=0.9.32) (1.3.0)\n",
      "Collecting h2<5,>=3 (from httpx->llama-index>=0.9.32)\n",
      "  Downloading h2-4.1.0-py3-none-any.whl (57 kB)\n",
      "\u001b[2K     \u001b[90m━━━━━━━━━━━━━━━━━━━━━━━━━━━━━━━━━━━━━━━━\u001b[0m \u001b[32m57.5/57.5 kB\u001b[0m \u001b[31m7.1 MB/s\u001b[0m eta \u001b[36m0:00:00\u001b[0m\n",
      "\u001b[?25hCollecting h11<0.15,>=0.13 (from httpcore==1.*->httpx->llama-index>=0.9.32)\n",
      "  Downloading h11-0.14.0-py3-none-any.whl (58 kB)\n",
      "\u001b[2K     \u001b[90m━━━━━━━━━━━━━━━━━━━━━━━━━━━━━━━━━━━━━━━━\u001b[0m \u001b[32m58.3/58.3 kB\u001b[0m \u001b[31m9.0 MB/s\u001b[0m eta \u001b[36m0:00:00\u001b[0m\n",
      "\u001b[?25hRequirement already satisfied: click in /usr/local/lib/python3.10/dist-packages (from nltk<4.0.0,>=3.8.1->llama-index>=0.9.32) (8.1.7)\n",
      "Requirement already satisfied: joblib in /usr/local/lib/python3.10/dist-packages (from nltk<4.0.0,>=3.8.1->llama-index>=0.9.32) (1.3.2)\n",
      "Requirement already satisfied: regex>=2021.8.3 in /usr/local/lib/python3.10/dist-packages (from nltk<4.0.0,>=3.8.1->llama-index>=0.9.32) (2023.6.3)\n",
      "Requirement already satisfied: distro<2,>=1.7.0 in /usr/lib/python3/dist-packages (from openai>=1.1.0->llama-index>=0.9.32) (1.7.0)\n",
      "Collecting typing-extensions>=4.5.0 (from llama-index>=0.9.32)\n",
      "  Downloading typing_extensions-4.9.0-py3-none-any.whl (32 kB)\n",
      "Requirement already satisfied: charset-normalizer<4,>=2 in /usr/local/lib/python3.10/dist-packages (from requests>=2.31.0->llama-index>=0.9.32) (3.3.2)\n",
      "Requirement already satisfied: greenlet!=0.4.17 in /usr/local/lib/python3.10/dist-packages (from SQLAlchemy[asyncio]>=1.4.49->llama-index>=0.9.32) (3.0.3)\n",
      "Collecting mypy-extensions>=0.3.0 (from typing-inspect>=0.8.0->llama-index>=0.9.32)\n",
      "  Downloading mypy_extensions-1.0.0-py3-none-any.whl (4.7 kB)\n",
      "Collecting marshmallow<4.0.0,>=3.18.0 (from dataclasses-json->llama-index>=0.9.32)\n",
      "  Downloading marshmallow-3.20.2-py3-none-any.whl (49 kB)\n",
      "\u001b[2K     \u001b[90m━━━━━━━━━━━━━━━━━━━━━━━━━━━━━━━━━━━━━━━━\u001b[0m \u001b[32m49.4/49.4 kB\u001b[0m \u001b[31m6.1 MB/s\u001b[0m eta \u001b[36m0:00:00\u001b[0m\n",
      "\u001b[?25hRequirement already satisfied: pytz>=2020.1 in /usr/local/lib/python3.10/dist-packages (from pandas->llama-index>=0.9.32) (2023.3.post1)\n",
      "Requirement already satisfied: exceptiongroup in /usr/local/lib/python3.10/dist-packages (from anyio->httpx->llama-index>=0.9.32) (1.2.0)\n",
      "Collecting hyperframe<7,>=6.0 (from h2<5,>=3->httpx->llama-index>=0.9.32)\n",
      "  Downloading hyperframe-6.0.1-py3-none-any.whl (12 kB)\n",
      "Collecting hpack<5,>=4.0 (from h2<5,>=3->httpx->llama-index>=0.9.32)\n",
      "  Downloading hpack-4.0.0-py3-none-any.whl (32 kB)\n",
      "Requirement already satisfied: pyasn1<0.6.0,>=0.4.6 in /usr/local/lib/python3.10/dist-packages (from pyasn1-modules>=0.2.1->google-auth->google-generativeai>=0.3) (0.5.1)\n",
      "Installing collected packages: typing-extensions, protobuf, portalocker, mypy-extensions, marshmallow, hyperframe, hpack, h11, deprecated, typing-inspect, tiktoken, matplotlib, httpcore, h2, grpcio-tools, httpx, dataclasses-json, openai, qdrant_client, llama-index\n",
      "  Attempting uninstall: typing-extensions\n",
      "    Found existing installation: typing_extensions 4.5.0\n",
      "    Uninstalling typing_extensions-4.5.0:\n",
      "      Successfully uninstalled typing_extensions-4.5.0\n",
      "  Attempting uninstall: protobuf\n",
      "    Found existing installation: protobuf 3.20.3\n",
      "    Uninstalling protobuf-3.20.3:\n",
      "      Successfully uninstalled protobuf-3.20.3\n",
      "  Attempting uninstall: matplotlib\n",
      "    Found existing installation: matplotlib 3.7.1\n",
      "    Uninstalling matplotlib-3.7.1:\n",
      "      Successfully uninstalled matplotlib-3.7.1\n",
      "\u001b[31mERROR: pip's dependency resolver does not currently take into account all the packages that are installed. This behaviour is the source of the following dependency conflicts.\n",
      "lida 0.0.10 requires fastapi, which is not installed.\n",
      "lida 0.0.10 requires kaleido, which is not installed.\n",
      "lida 0.0.10 requires python-multipart, which is not installed.\n",
      "lida 0.0.10 requires uvicorn, which is not installed.\n",
      "llmx 0.0.15a0 requires cohere, which is not installed.\n",
      "tensorboard 2.15.1 requires protobuf<4.24,>=3.19.6, but you have protobuf 4.25.2 which is incompatible.\n",
      "tensorflow-metadata 1.14.0 requires protobuf<4.21,>=3.20.3, but you have protobuf 4.25.2 which is incompatible.\n",
      "tensorflow-probability 0.22.0 requires typing-extensions<4.6.0, but you have typing-extensions 4.9.0 which is incompatible.\u001b[0m\u001b[31m\n",
      "\u001b[0mSuccessfully installed dataclasses-json-0.6.3 deprecated-1.2.14 grpcio-tools-1.60.0 h11-0.14.0 h2-4.1.0 hpack-4.0.0 httpcore-1.0.2 httpx-0.26.0 hyperframe-6.0.1 llama-index-0.9.36 marshmallow-3.20.2 matplotlib-3.8.2 mypy-extensions-1.0.0 openai-1.9.0 portalocker-2.8.2 protobuf-4.25.2 qdrant_client-1.7.1 tiktoken-0.5.2 typing-extensions-4.9.0 typing-inspect-0.9.0\n"
     ]
    },
    {
     "data": {
      "application/vnd.colab-display-data+json": {
       "pip_warning": {
        "packages": [
         "matplotlib",
         "mpl_toolkits"
        ]
       }
      }
     },
     "metadata": {},
     "output_type": "display_data"
    }
   ],
   "source": [
    "!pip install --upgrade 'llama-index>=0.9.32' 'google-generativeai>=0.3' 'google-ai-generativelanguage>=0.4' matplotlib qdrant_client"
   ]
  },
  {
   "cell_type": "code",
   "execution_count": null,
   "id": "O7cUeuexm4ks",
   "metadata": {
    "colab": {
     "base_uri": "https://localhost:8080/"
    },
    "executionInfo": {
     "elapsed": 19018,
     "status": "ok",
     "timestamp": 1706062147801,
     "user": {
      "displayName": "Giovanni Marchetti",
      "userId": "01878792717019610745"
     },
     "user_tz": 480
    },
    "id": "O7cUeuexm4ks",
    "outputId": "18a7a758-3746-4f44-9e08-5539e187a889",
    "tags": []
   },
   "outputs": [
    {
     "name": "stdout",
     "output_type": "stream",
     "text": [
      "Collecting git+https://github.com/openai/CLIP.git\n",
      "  Cloning https://github.com/openai/CLIP.git to /tmp/pip-req-build-ly6hq_8n\n",
      "  Running command git clone --filter=blob:none --quiet https://github.com/openai/CLIP.git /tmp/pip-req-build-ly6hq_8n\n",
      "  Resolved https://github.com/openai/CLIP.git to commit a1d071733d7111c9c014f024669f959182114e33\n",
      "  Preparing metadata (setup.py) ... \u001b[?25l\u001b[?25hdone\n",
      "Collecting ftfy (from clip==1.0)\n",
      "  Downloading ftfy-6.1.3-py3-none-any.whl (53 kB)\n",
      "\u001b[2K     \u001b[90m━━━━━━━━━━━━━━━━━━━━━━━━━━━━━━━━━━━━━━━━\u001b[0m \u001b[32m53.4/53.4 kB\u001b[0m \u001b[31m963.5 kB/s\u001b[0m eta \u001b[36m0:00:00\u001b[0m\n",
      "\u001b[?25hRequirement already satisfied: regex in /usr/local/lib/python3.10/dist-packages (from clip==1.0) (2023.6.3)\n",
      "Requirement already satisfied: tqdm in /usr/local/lib/python3.10/dist-packages (from clip==1.0) (4.66.1)\n",
      "Requirement already satisfied: torch in /usr/local/lib/python3.10/dist-packages (from clip==1.0) (2.1.0+cu121)\n",
      "Requirement already satisfied: torchvision in /usr/local/lib/python3.10/dist-packages (from clip==1.0) (0.16.0+cu121)\n",
      "Requirement already satisfied: wcwidth<0.3.0,>=0.2.12 in /usr/local/lib/python3.10/dist-packages (from ftfy->clip==1.0) (0.2.13)\n",
      "Requirement already satisfied: filelock in /usr/local/lib/python3.10/dist-packages (from torch->clip==1.0) (3.13.1)\n",
      "Requirement already satisfied: typing-extensions in /usr/local/lib/python3.10/dist-packages (from torch->clip==1.0) (4.9.0)\n",
      "Requirement already satisfied: sympy in /usr/local/lib/python3.10/dist-packages (from torch->clip==1.0) (1.12)\n",
      "Requirement already satisfied: networkx in /usr/local/lib/python3.10/dist-packages (from torch->clip==1.0) (3.2.1)\n",
      "Requirement already satisfied: jinja2 in /usr/local/lib/python3.10/dist-packages (from torch->clip==1.0) (3.1.3)\n",
      "Requirement already satisfied: fsspec in /usr/local/lib/python3.10/dist-packages (from torch->clip==1.0) (2023.6.0)\n",
      "Requirement already satisfied: triton==2.1.0 in /usr/local/lib/python3.10/dist-packages (from torch->clip==1.0) (2.1.0)\n",
      "Requirement already satisfied: numpy in /usr/local/lib/python3.10/dist-packages (from torchvision->clip==1.0) (1.23.5)\n",
      "Requirement already satisfied: requests in /usr/local/lib/python3.10/dist-packages (from torchvision->clip==1.0) (2.31.0)\n",
      "Requirement already satisfied: pillow!=8.3.*,>=5.3.0 in /usr/local/lib/python3.10/dist-packages (from torchvision->clip==1.0) (9.4.0)\n",
      "Requirement already satisfied: MarkupSafe>=2.0 in /usr/local/lib/python3.10/dist-packages (from jinja2->torch->clip==1.0) (2.1.4)\n",
      "Requirement already satisfied: charset-normalizer<4,>=2 in /usr/local/lib/python3.10/dist-packages (from requests->torchvision->clip==1.0) (3.3.2)\n",
      "Requirement already satisfied: idna<4,>=2.5 in /usr/local/lib/python3.10/dist-packages (from requests->torchvision->clip==1.0) (3.6)\n",
      "Requirement already satisfied: urllib3<3,>=1.21.1 in /usr/local/lib/python3.10/dist-packages (from requests->torchvision->clip==1.0) (2.0.7)\n",
      "Requirement already satisfied: certifi>=2017.4.17 in /usr/local/lib/python3.10/dist-packages (from requests->torchvision->clip==1.0) (2023.11.17)\n",
      "Requirement already satisfied: mpmath>=0.19 in /usr/local/lib/python3.10/dist-packages (from sympy->torch->clip==1.0) (1.3.0)\n",
      "Building wheels for collected packages: clip\n",
      "  Building wheel for clip (setup.py) ... \u001b[?25l\u001b[?25hdone\n",
      "  Created wheel for clip: filename=clip-1.0-py3-none-any.whl size=1369497 sha256=697cc4698c42eda0c0ef92adafc4107f1583cb1486010fe20771bc0c2a708a99\n",
      "  Stored in directory: /tmp/pip-ephem-wheel-cache-20owc1xg/wheels/da/2b/4c/d6691fa9597aac8bb85d2ac13b112deb897d5b50f5ad9a37e4\n",
      "Successfully built clip\n",
      "Installing collected packages: ftfy, clip\n",
      "Successfully installed clip-1.0 ftfy-6.1.3\n"
     ]
    }
   ],
   "source": [
    "!pip install git+https://github.com/openai/CLIP.git"
   ]
  },
  {
   "cell_type": "code",
   "execution_count": null,
   "id": "b3df0b97",
   "metadata": {
    "colab": {
     "base_uri": "https://localhost:8080/"
    },
    "executionInfo": {
     "elapsed": 63327,
     "status": "ok",
     "timestamp": 1706062211123,
     "user": {
      "displayName": "Giovanni Marchetti",
      "userId": "01878792717019610745"
     },
     "user_tz": 480
    },
    "id": "b3df0b97",
    "outputId": "ad39d7f0-45fd-4777-cb50-7af633222080",
    "tags": []
   },
   "outputs": [
    {
     "name": "stdout",
     "output_type": "stream",
     "text": [
      "Collecting pypdf\n",
      "  Downloading pypdf-4.0.0-py3-none-any.whl (283 kB)\n",
      "\u001b[2K     \u001b[90m━━━━━━━━━━━━━━━━━━━━━━━━━━━━━━━━━━━━━━━━\u001b[0m \u001b[32m283.9/283.9 kB\u001b[0m \u001b[31m2.3 MB/s\u001b[0m eta \u001b[36m0:00:00\u001b[0m\n",
      "\u001b[?25hCollecting pymupdf\n",
      "  Downloading PyMuPDF-1.23.18-cp310-none-manylinux2014_x86_64.whl (4.4 MB)\n",
      "\u001b[2K     \u001b[90m━━━━━━━━━━━━━━━━━━━━━━━━━━━━━━━━━━━━━━━━\u001b[0m \u001b[32m4.4/4.4 MB\u001b[0m \u001b[31m12.7 MB/s\u001b[0m eta \u001b[36m0:00:00\u001b[0m\n",
      "\u001b[?25hCollecting frontend\n",
      "  Downloading frontend-0.0.3-py3-none-any.whl (32 kB)\n",
      "Collecting tools\n",
      "  Downloading tools-0.1.9.tar.gz (34 kB)\n",
      "  Preparing metadata (setup.py) ... \u001b[?25l\u001b[?25hdone\n",
      "Collecting llama-hub\n",
      "  Downloading llama_hub-0.0.74-py3-none-any.whl (11.9 MB)\n",
      "\u001b[2K     \u001b[90m━━━━━━━━━━━━━━━━━━━━━━━━━━━━━━━━━━━━━━━━\u001b[0m \u001b[32m11.9/11.9 MB\u001b[0m \u001b[31m33.3 MB/s\u001b[0m eta \u001b[36m0:00:00\u001b[0m\n",
      "\u001b[?25hCollecting PyMuPDFb==1.23.9 (from pymupdf)\n",
      "  Downloading PyMuPDFb-1.23.9-py3-none-manylinux2014_x86_64.manylinux_2_17_x86_64.whl (30.6 MB)\n",
      "\u001b[2K     \u001b[90m━━━━━━━━━━━━━━━━━━━━━━━━━━━━━━━━━━━━━━━━\u001b[0m \u001b[32m30.6/30.6 MB\u001b[0m \u001b[31m22.2 MB/s\u001b[0m eta \u001b[36m0:00:00\u001b[0m\n",
      "\u001b[?25hCollecting starlette>=0.12.0 (from frontend)\n",
      "  Downloading starlette-0.36.1-py3-none-any.whl (71 kB)\n",
      "\u001b[2K     \u001b[90m━━━━━━━━━━━━━━━━━━━━━━━━━━━━━━━━━━━━━━━━\u001b[0m \u001b[32m71.4/71.4 kB\u001b[0m \u001b[31m8.6 MB/s\u001b[0m eta \u001b[36m0:00:00\u001b[0m\n",
      "\u001b[?25hCollecting uvicorn>=0.7.1 (from frontend)\n",
      "  Downloading uvicorn-0.27.0-py3-none-any.whl (60 kB)\n",
      "\u001b[2K     \u001b[90m━━━━━━━━━━━━━━━━━━━━━━━━━━━━━━━━━━━━━━━━\u001b[0m \u001b[32m60.6/60.6 kB\u001b[0m \u001b[31m7.1 MB/s\u001b[0m eta \u001b[36m0:00:00\u001b[0m\n",
      "\u001b[?25hRequirement already satisfied: itsdangerous>=1.1.0 in /usr/local/lib/python3.10/dist-packages (from frontend) (2.1.2)\n",
      "Collecting aiofiles (from frontend)\n",
      "  Downloading aiofiles-23.2.1-py3-none-any.whl (15 kB)\n",
      "Collecting pytils (from tools)\n",
      "  Downloading pytils-0.4.1.tar.gz (99 kB)\n",
      "\u001b[2K     \u001b[90m━━━━━━━━━━━━━━━━━━━━━━━━━━━━━━━━━━━━━━━━\u001b[0m \u001b[32m99.1/99.1 kB\u001b[0m \u001b[31m12.3 MB/s\u001b[0m eta \u001b[36m0:00:00\u001b[0m\n",
      "\u001b[?25h  Installing build dependencies ... \u001b[?25l\u001b[?25hdone\n",
      "  Getting requirements to build wheel ... \u001b[?25l\u001b[?25hdone\n",
      "  Preparing metadata (pyproject.toml) ... \u001b[?25l\u001b[?25hdone\n",
      "Requirement already satisfied: six in /usr/local/lib/python3.10/dist-packages (from tools) (1.16.0)\n",
      "Requirement already satisfied: lxml in /usr/local/lib/python3.10/dist-packages (from tools) (4.9.4)\n",
      "Collecting html2text (from llama-hub)\n",
      "  Downloading html2text-2020.1.16-py3-none-any.whl (32 kB)\n",
      "Requirement already satisfied: llama-index>=0.9.29 in /usr/local/lib/python3.10/dist-packages (from llama-hub) (0.9.36)\n",
      "Requirement already satisfied: psutil in /usr/local/lib/python3.10/dist-packages (from llama-hub) (5.9.5)\n",
      "Collecting pyaml<24.0.0,>=23.9.7 (from llama-hub)\n",
      "  Downloading pyaml-23.12.0-py3-none-any.whl (23 kB)\n",
      "Collecting retrying (from llama-hub)\n",
      "  Downloading retrying-1.3.4-py3-none-any.whl (11 kB)\n",
      "Requirement already satisfied: SQLAlchemy[asyncio]>=1.4.49 in /usr/local/lib/python3.10/dist-packages (from llama-index>=0.9.29->llama-hub) (2.0.24)\n",
      "Requirement already satisfied: aiohttp<4.0.0,>=3.8.6 in /usr/local/lib/python3.10/dist-packages (from llama-index>=0.9.29->llama-hub) (3.9.1)\n",
      "Requirement already satisfied: dataclasses-json in /usr/local/lib/python3.10/dist-packages (from llama-index>=0.9.29->llama-hub) (0.6.3)\n",
      "Requirement already satisfied: deprecated>=1.2.9.3 in /usr/local/lib/python3.10/dist-packages (from llama-index>=0.9.29->llama-hub) (1.2.14)\n",
      "Requirement already satisfied: fsspec>=2023.5.0 in /usr/local/lib/python3.10/dist-packages (from llama-index>=0.9.29->llama-hub) (2023.6.0)\n",
      "Requirement already satisfied: httpx in /usr/local/lib/python3.10/dist-packages (from llama-index>=0.9.29->llama-hub) (0.26.0)\n",
      "Requirement already satisfied: nest-asyncio<2.0.0,>=1.5.8 in /usr/local/lib/python3.10/dist-packages (from llama-index>=0.9.29->llama-hub) (1.6.0)\n",
      "Requirement already satisfied: networkx>=3.0 in /usr/local/lib/python3.10/dist-packages (from llama-index>=0.9.29->llama-hub) (3.2.1)\n",
      "Requirement already satisfied: nltk<4.0.0,>=3.8.1 in /usr/local/lib/python3.10/dist-packages (from llama-index>=0.9.29->llama-hub) (3.8.1)\n",
      "Requirement already satisfied: numpy in /usr/local/lib/python3.10/dist-packages (from llama-index>=0.9.29->llama-hub) (1.23.5)\n",
      "Requirement already satisfied: openai>=1.1.0 in /usr/local/lib/python3.10/dist-packages (from llama-index>=0.9.29->llama-hub) (1.9.0)\n",
      "Requirement already satisfied: pandas in /usr/local/lib/python3.10/dist-packages (from llama-index>=0.9.29->llama-hub) (1.5.3)\n",
      "Requirement already satisfied: requests>=2.31.0 in /usr/local/lib/python3.10/dist-packages (from llama-index>=0.9.29->llama-hub) (2.31.0)\n",
      "Requirement already satisfied: tenacity<9.0.0,>=8.2.0 in /usr/local/lib/python3.10/dist-packages (from llama-index>=0.9.29->llama-hub) (8.2.3)\n",
      "Requirement already satisfied: tiktoken>=0.3.3 in /usr/local/lib/python3.10/dist-packages (from llama-index>=0.9.29->llama-hub) (0.5.2)\n",
      "Requirement already satisfied: typing-extensions>=4.5.0 in /usr/local/lib/python3.10/dist-packages (from llama-index>=0.9.29->llama-hub) (4.9.0)\n",
      "Requirement already satisfied: typing-inspect>=0.8.0 in /usr/local/lib/python3.10/dist-packages (from llama-index>=0.9.29->llama-hub) (0.9.0)\n",
      "Requirement already satisfied: PyYAML in /usr/local/lib/python3.10/dist-packages (from pyaml<24.0.0,>=23.9.7->llama-hub) (6.0.1)\n",
      "Requirement already satisfied: anyio<5,>=3.4.0 in /usr/local/lib/python3.10/dist-packages (from starlette>=0.12.0->frontend) (3.7.1)\n",
      "Requirement already satisfied: click>=7.0 in /usr/local/lib/python3.10/dist-packages (from uvicorn>=0.7.1->frontend) (8.1.7)\n",
      "Requirement already satisfied: h11>=0.8 in /usr/local/lib/python3.10/dist-packages (from uvicorn>=0.7.1->frontend) (0.14.0)\n",
      "Requirement already satisfied: attrs>=17.3.0 in /usr/local/lib/python3.10/dist-packages (from aiohttp<4.0.0,>=3.8.6->llama-index>=0.9.29->llama-hub) (23.2.0)\n",
      "Requirement already satisfied: multidict<7.0,>=4.5 in /usr/local/lib/python3.10/dist-packages (from aiohttp<4.0.0,>=3.8.6->llama-index>=0.9.29->llama-hub) (6.0.4)\n",
      "Requirement already satisfied: yarl<2.0,>=1.0 in /usr/local/lib/python3.10/dist-packages (from aiohttp<4.0.0,>=3.8.6->llama-index>=0.9.29->llama-hub) (1.9.4)\n",
      "Requirement already satisfied: frozenlist>=1.1.1 in /usr/local/lib/python3.10/dist-packages (from aiohttp<4.0.0,>=3.8.6->llama-index>=0.9.29->llama-hub) (1.4.1)\n",
      "Requirement already satisfied: aiosignal>=1.1.2 in /usr/local/lib/python3.10/dist-packages (from aiohttp<4.0.0,>=3.8.6->llama-index>=0.9.29->llama-hub) (1.3.1)\n",
      "Requirement already satisfied: async-timeout<5.0,>=4.0 in /usr/local/lib/python3.10/dist-packages (from aiohttp<4.0.0,>=3.8.6->llama-index>=0.9.29->llama-hub) (4.0.3)\n",
      "Requirement already satisfied: idna>=2.8 in /usr/local/lib/python3.10/dist-packages (from anyio<5,>=3.4.0->starlette>=0.12.0->frontend) (3.6)\n",
      "Requirement already satisfied: sniffio>=1.1 in /usr/local/lib/python3.10/dist-packages (from anyio<5,>=3.4.0->starlette>=0.12.0->frontend) (1.3.0)\n",
      "Requirement already satisfied: exceptiongroup in /usr/local/lib/python3.10/dist-packages (from anyio<5,>=3.4.0->starlette>=0.12.0->frontend) (1.2.0)\n",
      "Requirement already satisfied: wrapt<2,>=1.10 in /usr/local/lib/python3.10/dist-packages (from deprecated>=1.2.9.3->llama-index>=0.9.29->llama-hub) (1.14.1)\n",
      "Requirement already satisfied: joblib in /usr/local/lib/python3.10/dist-packages (from nltk<4.0.0,>=3.8.1->llama-index>=0.9.29->llama-hub) (1.3.2)\n",
      "Requirement already satisfied: regex>=2021.8.3 in /usr/local/lib/python3.10/dist-packages (from nltk<4.0.0,>=3.8.1->llama-index>=0.9.29->llama-hub) (2023.6.3)\n",
      "Requirement already satisfied: tqdm in /usr/local/lib/python3.10/dist-packages (from nltk<4.0.0,>=3.8.1->llama-index>=0.9.29->llama-hub) (4.66.1)\n",
      "Requirement already satisfied: distro<2,>=1.7.0 in /usr/lib/python3/dist-packages (from openai>=1.1.0->llama-index>=0.9.29->llama-hub) (1.7.0)\n",
      "Requirement already satisfied: pydantic<3,>=1.9.0 in /usr/local/lib/python3.10/dist-packages (from openai>=1.1.0->llama-index>=0.9.29->llama-hub) (1.10.14)\n",
      "Requirement already satisfied: certifi in /usr/local/lib/python3.10/dist-packages (from httpx->llama-index>=0.9.29->llama-hub) (2023.11.17)\n",
      "Requirement already satisfied: httpcore==1.* in /usr/local/lib/python3.10/dist-packages (from httpx->llama-index>=0.9.29->llama-hub) (1.0.2)\n",
      "Requirement already satisfied: charset-normalizer<4,>=2 in /usr/local/lib/python3.10/dist-packages (from requests>=2.31.0->llama-index>=0.9.29->llama-hub) (3.3.2)\n",
      "Requirement already satisfied: urllib3<3,>=1.21.1 in /usr/local/lib/python3.10/dist-packages (from requests>=2.31.0->llama-index>=0.9.29->llama-hub) (2.0.7)\n",
      "Requirement already satisfied: greenlet!=0.4.17 in /usr/local/lib/python3.10/dist-packages (from SQLAlchemy[asyncio]>=1.4.49->llama-index>=0.9.29->llama-hub) (3.0.3)\n",
      "Requirement already satisfied: mypy-extensions>=0.3.0 in /usr/local/lib/python3.10/dist-packages (from typing-inspect>=0.8.0->llama-index>=0.9.29->llama-hub) (1.0.0)\n",
      "Requirement already satisfied: marshmallow<4.0.0,>=3.18.0 in /usr/local/lib/python3.10/dist-packages (from dataclasses-json->llama-index>=0.9.29->llama-hub) (3.20.2)\n",
      "Requirement already satisfied: python-dateutil>=2.8.1 in /usr/local/lib/python3.10/dist-packages (from pandas->llama-index>=0.9.29->llama-hub) (2.8.2)\n",
      "Requirement already satisfied: pytz>=2020.1 in /usr/local/lib/python3.10/dist-packages (from pandas->llama-index>=0.9.29->llama-hub) (2023.3.post1)\n",
      "Requirement already satisfied: packaging>=17.0 in /usr/local/lib/python3.10/dist-packages (from marshmallow<4.0.0,>=3.18.0->dataclasses-json->llama-index>=0.9.29->llama-hub) (23.2)\n",
      "Building wheels for collected packages: tools, pytils\n",
      "  Building wheel for tools (setup.py) ... \u001b[?25l\u001b[?25hdone\n",
      "  Created wheel for tools: filename=tools-0.1.9-py3-none-any.whl size=46731 sha256=17817f24cf7f9eb7ac0ca4515af10e29401c3df68a5ebba17727a470fd600670\n",
      "  Stored in directory: /root/.cache/pip/wheels/c0/d0/70/a33bd4bed2af4f7038b038c16faab552cd0e9d9f4125223a71\n",
      "  Building wheel for pytils (pyproject.toml) ... \u001b[?25l\u001b[?25hdone\n",
      "  Created wheel for pytils: filename=pytils-0.4.1-py3-none-any.whl size=32536 sha256=f0180fb3e8976369d57fb6394f3786803a8f261f52b449fe41dfa276ec876547\n",
      "  Stored in directory: /root/.cache/pip/wheels/5a/eb/7c/3b6f0c25815749883152b2caca34c35dbaab13ec2864270cbd\n",
      "Successfully built tools pytils\n",
      "Installing collected packages: uvicorn, retrying, pytils, pypdf, PyMuPDFb, pyaml, html2text, aiofiles, tools, starlette, pymupdf, frontend, llama-hub\n",
      "\u001b[31mERROR: pip's dependency resolver does not currently take into account all the packages that are installed. This behaviour is the source of the following dependency conflicts.\n",
      "lida 0.0.10 requires fastapi, which is not installed.\n",
      "lida 0.0.10 requires kaleido, which is not installed.\n",
      "lida 0.0.10 requires python-multipart, which is not installed.\u001b[0m\u001b[31m\n",
      "\u001b[0mSuccessfully installed PyMuPDFb-1.23.9 aiofiles-23.2.1 frontend-0.0.3 html2text-2020.1.16 llama-hub-0.0.74 pyaml-23.12.0 pymupdf-1.23.18 pypdf-4.0.0 pytils-0.4.1 retrying-1.3.4 starlette-0.36.1 tools-0.1.9 uvicorn-0.27.0\n",
      "Collecting sentence-transformers\n",
      "  Downloading sentence-transformers-2.2.2.tar.gz (85 kB)\n",
      "\u001b[2K     \u001b[90m━━━━━━━━━━━━━━━━━━━━━━━━━━━━━━━━━━━━━━━━\u001b[0m \u001b[32m86.0/86.0 kB\u001b[0m \u001b[31m2.0 MB/s\u001b[0m eta \u001b[36m0:00:00\u001b[0m\n",
      "\u001b[?25h  Preparing metadata (setup.py) ... \u001b[?25l\u001b[?25hdone\n",
      "Requirement already satisfied: transformers<5.0.0,>=4.6.0 in /usr/local/lib/python3.10/dist-packages (from sentence-transformers) (4.35.2)\n",
      "Requirement already satisfied: tqdm in /usr/local/lib/python3.10/dist-packages (from sentence-transformers) (4.66.1)\n",
      "Requirement already satisfied: torch>=1.6.0 in /usr/local/lib/python3.10/dist-packages (from sentence-transformers) (2.1.0+cu121)\n",
      "Requirement already satisfied: torchvision in /usr/local/lib/python3.10/dist-packages (from sentence-transformers) (0.16.0+cu121)\n",
      "Requirement already satisfied: numpy in /usr/local/lib/python3.10/dist-packages (from sentence-transformers) (1.23.5)\n",
      "Requirement already satisfied: scikit-learn in /usr/local/lib/python3.10/dist-packages (from sentence-transformers) (1.2.2)\n",
      "Requirement already satisfied: scipy in /usr/local/lib/python3.10/dist-packages (from sentence-transformers) (1.11.4)\n",
      "Requirement already satisfied: nltk in /usr/local/lib/python3.10/dist-packages (from sentence-transformers) (3.8.1)\n",
      "Collecting sentencepiece (from sentence-transformers)\n",
      "  Downloading sentencepiece-0.1.99-cp310-cp310-manylinux_2_17_x86_64.manylinux2014_x86_64.whl (1.3 MB)\n",
      "\u001b[2K     \u001b[90m━━━━━━━━━━━━━━━━━━━━━━━━━━━━━━━━━━━━━━━━\u001b[0m \u001b[32m1.3/1.3 MB\u001b[0m \u001b[31m8.4 MB/s\u001b[0m eta \u001b[36m0:00:00\u001b[0m\n",
      "\u001b[?25hRequirement already satisfied: huggingface-hub>=0.4.0 in /usr/local/lib/python3.10/dist-packages (from sentence-transformers) (0.20.3)\n",
      "Requirement already satisfied: filelock in /usr/local/lib/python3.10/dist-packages (from huggingface-hub>=0.4.0->sentence-transformers) (3.13.1)\n",
      "Requirement already satisfied: fsspec>=2023.5.0 in /usr/local/lib/python3.10/dist-packages (from huggingface-hub>=0.4.0->sentence-transformers) (2023.6.0)\n",
      "Requirement already satisfied: requests in /usr/local/lib/python3.10/dist-packages (from huggingface-hub>=0.4.0->sentence-transformers) (2.31.0)\n",
      "Requirement already satisfied: pyyaml>=5.1 in /usr/local/lib/python3.10/dist-packages (from huggingface-hub>=0.4.0->sentence-transformers) (6.0.1)\n",
      "Requirement already satisfied: typing-extensions>=3.7.4.3 in /usr/local/lib/python3.10/dist-packages (from huggingface-hub>=0.4.0->sentence-transformers) (4.9.0)\n",
      "Requirement already satisfied: packaging>=20.9 in /usr/local/lib/python3.10/dist-packages (from huggingface-hub>=0.4.0->sentence-transformers) (23.2)\n",
      "Requirement already satisfied: sympy in /usr/local/lib/python3.10/dist-packages (from torch>=1.6.0->sentence-transformers) (1.12)\n",
      "Requirement already satisfied: networkx in /usr/local/lib/python3.10/dist-packages (from torch>=1.6.0->sentence-transformers) (3.2.1)\n",
      "Requirement already satisfied: jinja2 in /usr/local/lib/python3.10/dist-packages (from torch>=1.6.0->sentence-transformers) (3.1.3)\n",
      "Requirement already satisfied: triton==2.1.0 in /usr/local/lib/python3.10/dist-packages (from torch>=1.6.0->sentence-transformers) (2.1.0)\n",
      "Requirement already satisfied: regex!=2019.12.17 in /usr/local/lib/python3.10/dist-packages (from transformers<5.0.0,>=4.6.0->sentence-transformers) (2023.6.3)\n",
      "Requirement already satisfied: tokenizers<0.19,>=0.14 in /usr/local/lib/python3.10/dist-packages (from transformers<5.0.0,>=4.6.0->sentence-transformers) (0.15.1)\n",
      "Requirement already satisfied: safetensors>=0.3.1 in /usr/local/lib/python3.10/dist-packages (from transformers<5.0.0,>=4.6.0->sentence-transformers) (0.4.1)\n",
      "Requirement already satisfied: click in /usr/local/lib/python3.10/dist-packages (from nltk->sentence-transformers) (8.1.7)\n",
      "Requirement already satisfied: joblib in /usr/local/lib/python3.10/dist-packages (from nltk->sentence-transformers) (1.3.2)\n",
      "Requirement already satisfied: threadpoolctl>=2.0.0 in /usr/local/lib/python3.10/dist-packages (from scikit-learn->sentence-transformers) (3.2.0)\n",
      "Requirement already satisfied: pillow!=8.3.*,>=5.3.0 in /usr/local/lib/python3.10/dist-packages (from torchvision->sentence-transformers) (9.4.0)\n",
      "Requirement already satisfied: MarkupSafe>=2.0 in /usr/local/lib/python3.10/dist-packages (from jinja2->torch>=1.6.0->sentence-transformers) (2.1.4)\n",
      "Requirement already satisfied: charset-normalizer<4,>=2 in /usr/local/lib/python3.10/dist-packages (from requests->huggingface-hub>=0.4.0->sentence-transformers) (3.3.2)\n",
      "Requirement already satisfied: idna<4,>=2.5 in /usr/local/lib/python3.10/dist-packages (from requests->huggingface-hub>=0.4.0->sentence-transformers) (3.6)\n",
      "Requirement already satisfied: urllib3<3,>=1.21.1 in /usr/local/lib/python3.10/dist-packages (from requests->huggingface-hub>=0.4.0->sentence-transformers) (2.0.7)\n",
      "Requirement already satisfied: certifi>=2017.4.17 in /usr/local/lib/python3.10/dist-packages (from requests->huggingface-hub>=0.4.0->sentence-transformers) (2023.11.17)\n",
      "Requirement already satisfied: mpmath>=0.19 in /usr/local/lib/python3.10/dist-packages (from sympy->torch>=1.6.0->sentence-transformers) (1.3.0)\n",
      "Building wheels for collected packages: sentence-transformers\n",
      "  Building wheel for sentence-transformers (setup.py) ... \u001b[?25l\u001b[?25hdone\n",
      "  Created wheel for sentence-transformers: filename=sentence_transformers-2.2.2-py3-none-any.whl size=125923 sha256=02c5eba1cc73519261b3222e5a84a488a2ab7237d66ed98716cf00d2b74198e3\n",
      "  Stored in directory: /root/.cache/pip/wheels/62/f2/10/1e606fd5f02395388f74e7462910fe851042f97238cbbd902f\n",
      "Successfully built sentence-transformers\n",
      "Installing collected packages: sentencepiece, sentence-transformers\n",
      "Successfully installed sentence-transformers-2.2.2 sentencepiece-0.1.99\n",
      "Collecting pydantic==1.10.11\n",
      "  Downloading pydantic-1.10.11-cp310-cp310-manylinux_2_17_x86_64.manylinux2014_x86_64.whl (3.1 MB)\n",
      "\u001b[2K     \u001b[90m━━━━━━━━━━━━━━━━━━━━━━━━━━━━━━━━━━━━━━━━\u001b[0m \u001b[32m3.1/3.1 MB\u001b[0m \u001b[31m6.8 MB/s\u001b[0m eta \u001b[36m0:00:00\u001b[0m\n",
      "\u001b[?25hRequirement already satisfied: typing-extensions>=4.2.0 in /usr/local/lib/python3.10/dist-packages (from pydantic==1.10.11) (4.9.0)\n",
      "Installing collected packages: pydantic\n",
      "  Attempting uninstall: pydantic\n",
      "    Found existing installation: pydantic 1.10.14\n",
      "    Uninstalling pydantic-1.10.14:\n",
      "      Successfully uninstalled pydantic-1.10.14\n",
      "\u001b[31mERROR: pip's dependency resolver does not currently take into account all the packages that are installed. This behaviour is the source of the following dependency conflicts.\n",
      "lida 0.0.10 requires fastapi, which is not installed.\n",
      "lida 0.0.10 requires kaleido, which is not installed.\n",
      "lida 0.0.10 requires python-multipart, which is not installed.\n",
      "llmx 0.0.15a0 requires cohere, which is not installed.\u001b[0m\u001b[31m\n",
      "\u001b[0mSuccessfully installed pydantic-1.10.11\n",
      "Collecting open-clip-torch\n",
      "  Downloading open_clip_torch-2.24.0-py3-none-any.whl (1.5 MB)\n",
      "\u001b[2K     \u001b[90m━━━━━━━━━━━━━━━━━━━━━━━━━━━━━━━━━━━━━━━━\u001b[0m \u001b[32m1.5/1.5 MB\u001b[0m \u001b[31m5.1 MB/s\u001b[0m eta \u001b[36m0:00:00\u001b[0m\n",
      "\u001b[?25hRequirement already satisfied: torch>=1.9.0 in /usr/local/lib/python3.10/dist-packages (from open-clip-torch) (2.1.0+cu121)\n",
      "Requirement already satisfied: torchvision in /usr/local/lib/python3.10/dist-packages (from open-clip-torch) (0.16.0+cu121)\n",
      "Requirement already satisfied: regex in /usr/local/lib/python3.10/dist-packages (from open-clip-torch) (2023.6.3)\n",
      "Requirement already satisfied: ftfy in /usr/local/lib/python3.10/dist-packages (from open-clip-torch) (6.1.3)\n",
      "Requirement already satisfied: tqdm in /usr/local/lib/python3.10/dist-packages (from open-clip-torch) (4.66.1)\n",
      "Requirement already satisfied: huggingface-hub in /usr/local/lib/python3.10/dist-packages (from open-clip-torch) (0.20.3)\n",
      "Requirement already satisfied: sentencepiece in /usr/local/lib/python3.10/dist-packages (from open-clip-torch) (0.1.99)\n",
      "Requirement already satisfied: protobuf in /usr/local/lib/python3.10/dist-packages (from open-clip-torch) (4.25.2)\n",
      "Collecting timm (from open-clip-torch)\n",
      "  Downloading timm-0.9.12-py3-none-any.whl (2.2 MB)\n",
      "\u001b[2K     \u001b[90m━━━━━━━━━━━━━━━━━━━━━━━━━━━━━━━━━━━━━━━━\u001b[0m \u001b[32m2.2/2.2 MB\u001b[0m \u001b[31m10.0 MB/s\u001b[0m eta \u001b[36m0:00:00\u001b[0m\n",
      "\u001b[?25hRequirement already satisfied: filelock in /usr/local/lib/python3.10/dist-packages (from torch>=1.9.0->open-clip-torch) (3.13.1)\n",
      "Requirement already satisfied: typing-extensions in /usr/local/lib/python3.10/dist-packages (from torch>=1.9.0->open-clip-torch) (4.9.0)\n",
      "Requirement already satisfied: sympy in /usr/local/lib/python3.10/dist-packages (from torch>=1.9.0->open-clip-torch) (1.12)\n",
      "Requirement already satisfied: networkx in /usr/local/lib/python3.10/dist-packages (from torch>=1.9.0->open-clip-torch) (3.2.1)\n",
      "Requirement already satisfied: jinja2 in /usr/local/lib/python3.10/dist-packages (from torch>=1.9.0->open-clip-torch) (3.1.3)\n",
      "Requirement already satisfied: fsspec in /usr/local/lib/python3.10/dist-packages (from torch>=1.9.0->open-clip-torch) (2023.6.0)\n",
      "Requirement already satisfied: triton==2.1.0 in /usr/local/lib/python3.10/dist-packages (from torch>=1.9.0->open-clip-torch) (2.1.0)\n",
      "Requirement already satisfied: wcwidth<0.3.0,>=0.2.12 in /usr/local/lib/python3.10/dist-packages (from ftfy->open-clip-torch) (0.2.13)\n",
      "Requirement already satisfied: requests in /usr/local/lib/python3.10/dist-packages (from huggingface-hub->open-clip-torch) (2.31.0)\n",
      "Requirement already satisfied: pyyaml>=5.1 in /usr/local/lib/python3.10/dist-packages (from huggingface-hub->open-clip-torch) (6.0.1)\n",
      "Requirement already satisfied: packaging>=20.9 in /usr/local/lib/python3.10/dist-packages (from huggingface-hub->open-clip-torch) (23.2)\n",
      "Requirement already satisfied: safetensors in /usr/local/lib/python3.10/dist-packages (from timm->open-clip-torch) (0.4.1)\n",
      "Requirement already satisfied: numpy in /usr/local/lib/python3.10/dist-packages (from torchvision->open-clip-torch) (1.23.5)\n",
      "Requirement already satisfied: pillow!=8.3.*,>=5.3.0 in /usr/local/lib/python3.10/dist-packages (from torchvision->open-clip-torch) (9.4.0)\n",
      "Requirement already satisfied: MarkupSafe>=2.0 in /usr/local/lib/python3.10/dist-packages (from jinja2->torch>=1.9.0->open-clip-torch) (2.1.4)\n",
      "Requirement already satisfied: charset-normalizer<4,>=2 in /usr/local/lib/python3.10/dist-packages (from requests->huggingface-hub->open-clip-torch) (3.3.2)\n",
      "Requirement already satisfied: idna<4,>=2.5 in /usr/local/lib/python3.10/dist-packages (from requests->huggingface-hub->open-clip-torch) (3.6)\n",
      "Requirement already satisfied: urllib3<3,>=1.21.1 in /usr/local/lib/python3.10/dist-packages (from requests->huggingface-hub->open-clip-torch) (2.0.7)\n",
      "Requirement already satisfied: certifi>=2017.4.17 in /usr/local/lib/python3.10/dist-packages (from requests->huggingface-hub->open-clip-torch) (2023.11.17)\n",
      "Requirement already satisfied: mpmath>=0.19 in /usr/local/lib/python3.10/dist-packages (from sympy->torch>=1.9.0->open-clip-torch) (1.3.0)\n",
      "Installing collected packages: timm, open-clip-torch\n",
      "Successfully installed open-clip-torch-2.24.0 timm-0.9.12\n"
     ]
    }
   ],
   "source": [
    "!pip install pypdf pymupdf frontend tools llama-hub\n",
    "!pip install sentence-transformers\n",
    "!pip install pydantic==1.10.11\n",
    "!pip install open-clip-torch"
   ]
  },
  {
   "cell_type": "code",
   "execution_count": null,
   "id": "71b34456-4a4d-4cef-844a-f7351b0ce900",
   "metadata": {
    "colab": {
     "base_uri": "https://localhost:8080/"
    },
    "executionInfo": {
     "elapsed": 15264,
     "status": "ok",
     "timestamp": 1706062226382,
     "user": {
      "displayName": "Giovanni Marchetti",
      "userId": "01878792717019610745"
     },
     "user_tz": 480
    },
    "id": "71b34456-4a4d-4cef-844a-f7351b0ce900",
    "outputId": "5ef84d28-17df-4834-9cf0-b4fa6f2d839a",
    "tags": []
   },
   "outputs": [
    {
     "name": "stdout",
     "output_type": "stream",
     "text": [
      "Collecting msal\n",
      "  Downloading msal-1.26.0-py2.py3-none-any.whl (99 kB)\n",
      "\u001b[2K     \u001b[90m━━━━━━━━━━━━━━━━━━━━━━━━━━━━━━━━━━━━━━━━\u001b[0m \u001b[32m99.0/99.0 kB\u001b[0m \u001b[31m1.1 MB/s\u001b[0m eta \u001b[36m0:00:00\u001b[0m\n",
      "\u001b[?25hRequirement already satisfied: requests<3,>=2.0.0 in /usr/local/lib/python3.10/dist-packages (from msal) (2.31.0)\n",
      "Requirement already satisfied: PyJWT[crypto]<3,>=1.0.0 in /usr/lib/python3/dist-packages (from msal) (2.3.0)\n",
      "Requirement already satisfied: cryptography<44,>=0.6 in /usr/local/lib/python3.10/dist-packages (from msal) (41.0.7)\n",
      "Requirement already satisfied: cffi>=1.12 in /usr/local/lib/python3.10/dist-packages (from cryptography<44,>=0.6->msal) (1.16.0)\n",
      "Requirement already satisfied: charset-normalizer<4,>=2 in /usr/local/lib/python3.10/dist-packages (from requests<3,>=2.0.0->msal) (3.3.2)\n",
      "Requirement already satisfied: idna<4,>=2.5 in /usr/local/lib/python3.10/dist-packages (from requests<3,>=2.0.0->msal) (3.6)\n",
      "Requirement already satisfied: urllib3<3,>=1.21.1 in /usr/local/lib/python3.10/dist-packages (from requests<3,>=2.0.0->msal) (2.0.7)\n",
      "Requirement already satisfied: certifi>=2017.4.17 in /usr/local/lib/python3.10/dist-packages (from requests<3,>=2.0.0->msal) (2023.11.17)\n",
      "Requirement already satisfied: pycparser in /usr/local/lib/python3.10/dist-packages (from cffi>=1.12->cryptography<44,>=0.6->msal) (2.21)\n",
      "Installing collected packages: msal\n",
      "Successfully installed msal-1.26.0\n"
     ]
    }
   ],
   "source": [
    "!pip install msal"
   ]
  },
  {
   "cell_type": "code",
   "execution_count": null,
   "id": "13e2a4f3-96a5-486a-afb4-def23663c837",
   "metadata": {
    "colab": {
     "base_uri": "https://localhost:8080/"
    },
    "executionInfo": {
     "elapsed": 13626,
     "status": "ok",
     "timestamp": 1706062240005,
     "user": {
      "displayName": "Giovanni Marchetti",
      "userId": "01878792717019610745"
     },
     "user_tz": 480
    },
    "id": "13e2a4f3-96a5-486a-afb4-def23663c837",
    "outputId": "3bcb5bae-94b1-4e41-b91c-db2f49add728"
   },
   "outputs": [
    {
     "name": "stdout",
     "output_type": "stream",
     "text": [
      "Requirement already satisfied: nest_asyncio in /usr/local/lib/python3.10/dist-packages (1.6.0)\n"
     ]
    }
   ],
   "source": [
    "# Make sure nest_asyncio is installed\n",
    "!pip install nest_asyncio"
   ]
  },
  {
   "cell_type": "markdown",
   "id": "nbuXt9vQ9bAK",
   "metadata": {
    "id": "nbuXt9vQ9bAK"
   },
   "source": [
    "**Remember to restart the kernel after the installations**.  \n",
    "Click Runtime->Restart Session\n",
    "\n"
   ]
  },
  {
   "cell_type": "markdown",
   "id": "f7010b1d-d1bb-4f08-9309-a328bb4ea396",
   "metadata": {
    "id": "f7010b1d-d1bb-4f08-9309-a328bb4ea396",
    "tags": []
   },
   "source": [
    "## Imports"
   ]
  },
  {
   "cell_type": "code",
   "execution_count": null,
   "id": "d48af8e1",
   "metadata": {
    "id": "d48af8e1",
    "tags": []
   },
   "outputs": [],
   "source": [
    "# import\n",
    "from llama_index import VectorStoreIndex, SimpleDirectoryReader, Document\n",
    "from llama_index.vector_stores import QdrantVectorStore\n",
    "from llama_index.storage.storage_context import StorageContext\n",
    "from llama_index.service_context import ServiceContext\n",
    "#from llama_index.embeddings import HuggingFaceEmbedding\n",
    "from IPython.display import Markdown, display\n",
    "import qdrant_client"
   ]
  },
  {
   "cell_type": "code",
   "execution_count": null,
   "id": "sbsBJXIOkmqo",
   "metadata": {
    "id": "sbsBJXIOkmqo",
    "tags": []
   },
   "outputs": [],
   "source": [
    "from llama_index.indices.multi_modal.base import MultiModalVectorStoreIndex"
   ]
  },
  {
   "cell_type": "code",
   "execution_count": null,
   "id": "rtKf9-lU7L08",
   "metadata": {
    "id": "rtKf9-lU7L08",
    "tags": []
   },
   "outputs": [],
   "source": [
    "from PIL import Image\n",
    "import matplotlib.pyplot as plt"
   ]
  },
  {
   "cell_type": "code",
   "execution_count": null,
   "id": "d67ee2bd-8efa-41ed-b4a1-e0b946374fd3",
   "metadata": {
    "id": "d67ee2bd-8efa-41ed-b4a1-e0b946374fd3"
   },
   "outputs": [],
   "source": [
    "import pypdf\n",
    "import fitz\n",
    "import io\n",
    "import os\n",
    "from pathlib import Path"
   ]
  },
  {
   "cell_type": "code",
   "execution_count": null,
   "id": "a8723037-5e60-4b51-8a2d-f060645f4bf3",
   "metadata": {
    "id": "a8723037-5e60-4b51-8a2d-f060645f4bf3"
   },
   "outputs": [],
   "source": [
    "# Allow nested asyncio loops\n",
    "import asyncio, nest_asyncio\n",
    "nest_asyncio.apply()"
   ]
  },
  {
   "cell_type": "markdown",
   "id": "tBFHF1db7ZvX",
   "metadata": {
    "id": "tBFHF1db7ZvX"
   },
   "source": [
    "## Set up Gemini\n",
    "Get your key from [Google AI Studio](https://makersuite.google.com/app/prompts/new_freeform)."
   ]
  },
  {
   "cell_type": "code",
   "execution_count": null,
   "id": "td01AfW9BlS8",
   "metadata": {
    "id": "td01AfW9BlS8",
    "tags": []
   },
   "outputs": [],
   "source": [
    "# set up Gemini\n",
    "GOOGLE_API_KEY = \"INSERT_GOOGLE_API_KEY_HERE\" # @param {type:\"string\"}\n",
    "os.environ[\"GOOGLE_API_KEY\"] = GOOGLE_API_KEY"
   ]
  },
  {
   "cell_type": "code",
   "execution_count": null,
   "id": "65a56eb8",
   "metadata": {
    "id": "65a56eb8"
   },
   "outputs": [],
   "source": [
    "# Relax safety settings if documents contain text that may trigger the safety response\n",
    "safety_settings = [\n",
    "  {\n",
    "    \"category\": \"HARM_CATEGORY_HARASSMENT\",\n",
    "    \"threshold\": \"BLOCK_ONLY_HIGH\"\n",
    "  },\n",
    "  {\n",
    "    \"category\": \"HARM_CATEGORY_HATE_SPEECH\",\n",
    "    \"threshold\": \"BLOCK_ONLY_HIGH\"\n",
    "  },\n",
    "  {\n",
    "    \"category\": \"HARM_CATEGORY_SEXUALLY_EXPLICIT\",\n",
    "    \"threshold\": \"BLOCK_ONLY_HIGH\"\n",
    "  },\n",
    "  {\n",
    "    \"category\": \"HARM_CATEGORY_DANGEROUS_CONTENT\",\n",
    "    \"threshold\": \"BLOCK_ONLY_HIGH\"\n",
    "  },\n",
    "]"
   ]
  },
  {
   "cell_type": "code",
   "execution_count": null,
   "id": "4sqIHPSuEKjf",
   "metadata": {
    "id": "4sqIHPSuEKjf",
    "tags": []
   },
   "outputs": [],
   "source": [
    "from llama_index.multi_modal_llms.gemini import GeminiMultiModal\n",
    "gemini_pro = GeminiMultiModal(model_name=\"models/gemini-pro-vision\", safety_settings=safety_settings)\n",
    "from llama_index.llms import Gemini\n",
    "# For RAG applications, keep temperature low 0.0-0.2\n",
    "gemini = Gemini(model_name=\"models/gemini-pro\", temperature=0.0, max_tokens=2048, safety_settings=safety_settings)\n",
    "from llama_index.embeddings import GeminiEmbedding\n",
    "gemini_embedding = GeminiEmbedding(model_name=\"models/embedding-001\")"
   ]
  },
  {
   "cell_type": "markdown",
   "id": "7b9a55de",
   "metadata": {
    "id": "7b9a55de"
   },
   "source": [
    "## Part 1: Multimodal Documents\n",
    "No Sharepoint required. Just upload at least one PDF in a source directory on your Google Drive.\n"
   ]
  },
  {
   "cell_type": "code",
   "execution_count": null,
   "id": "WISYuk0SALCG",
   "metadata": {
    "id": "WISYuk0SALCG"
   },
   "outputs": [],
   "source": [
    "SOURCE = \"./pdfs/\" # @param {type:\"string\"}"
   ]
  },
  {
   "cell_type": "markdown",
   "id": "tO5alaizA4yb",
   "metadata": {
    "id": "tO5alaizA4yb"
   },
   "source": [
    "Specify where to store the documents database (local instance only)"
   ]
  },
  {
   "cell_type": "code",
   "execution_count": null,
   "id": "SlZiJnMmA5F-",
   "metadata": {
    "id": "SlZiJnMmA5F-"
   },
   "outputs": [],
   "source": [
    "DOCDB = \"./QDrant.db\" # @param {type:\"string\"}"
   ]
  },
  {
   "cell_type": "markdown",
   "id": "P6CuujayA5PH",
   "metadata": {
    "id": "P6CuujayA5PH"
   },
   "source": [
    "Specify where to store the pre-processed documents."
   ]
  },
  {
   "cell_type": "code",
   "execution_count": null,
   "id": "pqy9QUqxBmSL",
   "metadata": {
    "id": "pqy9QUqxBmSL"
   },
   "outputs": [],
   "source": [
    "TARGET = \"./mixed_docs/\" # @param {type:\"string\"}"
   ]
  },
  {
   "cell_type": "code",
   "execution_count": null,
   "id": "5jyXMCkwz2yr",
   "metadata": {
    "id": "5jyXMCkwz2yr",
    "tags": []
   },
   "outputs": [],
   "source": [
    "# Helper function to plot images\n",
    "def plot_images(image_paths):\n",
    "    images_shown = 0\n",
    "    plt.figure(figsize=(16, 10))\n",
    "    for img_path in image_paths:\n",
    "        if os.path.isfile(img_path):\n",
    "            image = Image.open(img_path)\n",
    "\n",
    "            plt.subplot(2, 3, images_shown + 1)\n",
    "            plt.imshow(image)\n",
    "            plt.xticks([])\n",
    "            plt.yticks([])\n",
    "\n",
    "            images_shown += 1\n",
    "            if images_shown >= 9:\n",
    "                break\n"
   ]
  },
  {
   "cell_type": "code",
   "execution_count": null,
   "id": "791f7195-033b-4dcb-b0ca-7e411bba21ee",
   "metadata": {
    "id": "791f7195-033b-4dcb-b0ca-7e411bba21ee"
   },
   "outputs": [],
   "source": [
    "data_path = Path(TARGET)\n",
    "if not data_path.exists():\n",
    "    Path.mkdir(data_path)"
   ]
  },
  {
   "cell_type": "markdown",
   "id": "9423e3a1-4d4e-4a94-b337-7b4dbe39d224",
   "metadata": {
    "id": "9423e3a1-4d4e-4a94-b337-7b4dbe39d224",
    "tags": []
   },
   "source": [
    "### Split PDFs\n",
    "Extract text and images in a PDF file. It is also possible to extract tables."
   ]
  },
  {
   "cell_type": "code",
   "execution_count": null,
   "id": "d37c2396-608f-4019-b6e8-afab927507bd",
   "metadata": {
    "id": "d37c2396-608f-4019-b6e8-afab927507bd"
   },
   "outputs": [],
   "source": [
    "def split_pdf(input_file, output_path):\n",
    "    file_name=input_file.split('/')[-1].split('.')[0]\n",
    "    pdf_file = open(input_file, \"rb\")\n",
    "    pdf_reader = pypdf.PdfReader(pdf_file)\n",
    "    text = \"\"\n",
    "    for page_num in range(len(pdf_reader.pages)):\n",
    "        page = pdf_reader.pages[page_num]\n",
    "        text += page.extract_text()\n",
    "\n",
    "    with open(output_path+file_name+\"_text.txt\", \"w\") as f:\n",
    "        f.write(text)\n",
    "    f.close()\n",
    "    pdf_file.close()\n",
    "\n",
    "    pdf_file = fitz.open(input_file)\n",
    "    # iterate over pdf pages\n",
    "    for page_index in range(len(pdf_file)):\n",
    "        # get the page itself\n",
    "        page = pdf_file[page_index]\n",
    "        image_list = page.get_images()\n",
    "        # printing number of images found in this page\n",
    "        if image_list:\n",
    "            print(f\"[+] Found a total of {len(image_list)} images in page {page_index}\")\n",
    "        else:\n",
    "            print(\"[!] No images found on page\", page_index)\n",
    "        for image_index, img in enumerate(page.get_images(), start=1):\n",
    "            # get the XREF of the image\n",
    "            xref = img[0]\n",
    "            # extract the image bytes\n",
    "            base_image = pdf_file.extract_image(xref)\n",
    "            image_bytes = base_image[\"image\"]\n",
    "            # get the image extension\n",
    "            image_ext = base_image[\"ext\"]\n",
    "            # load it to PIL\n",
    "            image = Image.open(io.BytesIO(image_bytes))\n",
    "            # save it to local disk\n",
    "            image.save(open(output_path+f\"{file_name}_image{page_index+1}_{image_index}.{image_ext}\", \"wb\"))"
   ]
  },
  {
   "cell_type": "code",
   "execution_count": null,
   "id": "xPRIbR_lD6ly",
   "metadata": {
    "colab": {
     "base_uri": "https://localhost:8080/"
    },
    "executionInfo": {
     "elapsed": 118991,
     "status": "ok",
     "timestamp": 1706062519529,
     "user": {
      "displayName": "Giovanni Marchetti",
      "userId": "01878792717019610745"
     },
     "user_tz": 480
    },
    "id": "xPRIbR_lD6ly",
    "outputId": "13cc43f1-81ee-4e76-cc43-f3601e46459d",
    "scrolled": true,
    "tags": []
   },
   "outputs": [
    {
     "name": "stdout",
     "output_type": "stream",
     "text": [
      "[+] Found a total of 2 images in page 0\n",
      "[!] No images found on page 1\n",
      "[!] No images found on page 2\n",
      "[!] No images found on page 3\n",
      "[!] No images found on page 4\n",
      "[!] No images found on page 5\n",
      "[!] No images found on page 6\n",
      "[!] No images found on page 7\n",
      "[!] No images found on page 8\n",
      "[+] Found a total of 1 images in page 9\n",
      "[+] Found a total of 2 images in page 10\n",
      "[+] Found a total of 1 images in page 11\n",
      "[+] Found a total of 1 images in page 12\n",
      "[!] No images found on page 13\n",
      "[!] No images found on page 14\n",
      "[!] No images found on page 15\n",
      "[!] No images found on page 16\n",
      "[!] No images found on page 17\n",
      "[!] No images found on page 18\n",
      "[!] No images found on page 19\n",
      "[!] No images found on page 20\n",
      "[+] Found a total of 5 images in page 21\n",
      "[!] No images found on page 22\n",
      "[!] No images found on page 23\n",
      "[!] No images found on page 24\n",
      "[!] No images found on page 25\n",
      "[!] No images found on page 26\n",
      "[+] Found a total of 1 images in page 27\n",
      "[!] No images found on page 28\n",
      "[!] No images found on page 29\n",
      "[!] No images found on page 30\n",
      "[!] No images found on page 31\n",
      "[+] Found a total of 2 images in page 32\n",
      "[+] Found a total of 1 images in page 33\n",
      "[+] Found a total of 2 images in page 34\n",
      "[!] No images found on page 35\n",
      "[!] No images found on page 36\n",
      "[+] Found a total of 1 images in page 37\n",
      "[!] No images found on page 38\n",
      "[!] No images found on page 39\n",
      "[+] Found a total of 2 images in page 40\n",
      "[+] Found a total of 1 images in page 41\n",
      "[+] Found a total of 1 images in page 42\n",
      "[+] Found a total of 1 images in page 43\n",
      "[!] No images found on page 44\n",
      "[+] Found a total of 1 images in page 45\n",
      "[!] No images found on page 46\n",
      "[+] Found a total of 2 images in page 47\n",
      "[+] Found a total of 1 images in page 48\n",
      "[!] No images found on page 49\n",
      "[+] Found a total of 1 images in page 50\n",
      "[+] Found a total of 1 images in page 51\n",
      "[+] Found a total of 2 images in page 52\n",
      "[+] Found a total of 1 images in page 53\n",
      "[+] Found a total of 2 images in page 54\n",
      "[!] No images found on page 55\n",
      "[+] Found a total of 1 images in page 56\n",
      "[+] Found a total of 1 images in page 57\n",
      "[!] No images found on page 58\n",
      "[+] Found a total of 1 images in page 59\n",
      "[+] Found a total of 1 images in page 60\n",
      "[+] Found a total of 1 images in page 61\n",
      "[!] No images found on page 62\n",
      "[!] No images found on page 63\n",
      "[!] No images found on page 64\n",
      "[!] No images found on page 65\n",
      "[+] Found a total of 3 images in page 66\n",
      "[+] Found a total of 1 images in page 67\n",
      "[!] No images found on page 68\n",
      "[+] Found a total of 1 images in page 69\n",
      "[+] Found a total of 1 images in page 70\n",
      "[+] Found a total of 1 images in page 71\n",
      "[!] No images found on page 72\n",
      "[!] No images found on page 73\n",
      "[+] Found a total of 1 images in page 74\n",
      "[+] Found a total of 1 images in page 75\n",
      "[+] Found a total of 1 images in page 76\n",
      "[+] Found a total of 1 images in page 77\n",
      "[!] No images found on page 78\n",
      "[+] Found a total of 1 images in page 79\n",
      "[+] Found a total of 1 images in page 80\n",
      "[!] No images found on page 81\n",
      "[!] No images found on page 82\n",
      "[!] No images found on page 83\n",
      "[!] No images found on page 84\n",
      "[+] Found a total of 1 images in page 85\n",
      "[!] No images found on page 86\n",
      "[!] No images found on page 87\n",
      "[!] No images found on page 88\n",
      "[!] No images found on page 89\n",
      "[!] No images found on page 90\n",
      "[!] No images found on page 91\n",
      "[!] No images found on page 92\n",
      "[!] No images found on page 93\n",
      "[!] No images found on page 94\n",
      "[!] No images found on page 95\n",
      "[!] No images found on page 96\n",
      "[+] Found a total of 1 images in page 0\n",
      "[+] Found a total of 1 images in page 1\n",
      "[!] No images found on page 2\n",
      "[!] No images found on page 3\n",
      "[!] No images found on page 4\n",
      "[!] No images found on page 5\n",
      "[!] No images found on page 6\n",
      "[!] No images found on page 7\n",
      "[!] No images found on page 8\n",
      "[!] No images found on page 9\n",
      "[+] Found a total of 2 images in page 10\n",
      "[!] No images found on page 11\n",
      "[!] No images found on page 12\n",
      "[!] No images found on page 13\n",
      "[!] No images found on page 14\n",
      "[!] No images found on page 15\n",
      "[!] No images found on page 16\n",
      "[!] No images found on page 17\n",
      "[!] No images found on page 18\n",
      "[!] No images found on page 19\n",
      "[!] No images found on page 20\n",
      "[!] No images found on page 21\n",
      "[!] No images found on page 22\n",
      "[!] No images found on page 23\n",
      "[!] No images found on page 24\n",
      "[!] No images found on page 25\n",
      "[!] No images found on page 26\n",
      "[!] No images found on page 27\n",
      "[!] No images found on page 28\n",
      "[!] No images found on page 29\n",
      "[!] No images found on page 30\n",
      "[!] No images found on page 31\n",
      "[!] No images found on page 32\n",
      "[!] No images found on page 33\n",
      "[!] No images found on page 34\n",
      "[!] No images found on page 35\n",
      "[!] No images found on page 36\n",
      "[!] No images found on page 37\n",
      "[!] No images found on page 38\n",
      "[+] Found a total of 1 images in page 39\n",
      "[!] No images found on page 40\n",
      "[!] No images found on page 41\n",
      "[!] No images found on page 42\n",
      "[!] No images found on page 43\n",
      "[!] No images found on page 44\n",
      "[!] No images found on page 45\n",
      "[!] No images found on page 46\n",
      "[!] No images found on page 47\n",
      "[!] No images found on page 48\n",
      "[!] No images found on page 49\n",
      "[!] No images found on page 50\n",
      "[!] No images found on page 51\n",
      "[!] No images found on page 52\n",
      "[!] No images found on page 53\n",
      "[!] No images found on page 54\n",
      "[!] No images found on page 55\n",
      "[!] No images found on page 56\n",
      "[!] No images found on page 57\n",
      "[!] No images found on page 58\n",
      "[!] No images found on page 59\n",
      "[!] No images found on page 60\n",
      "[!] No images found on page 61\n",
      "[!] No images found on page 62\n",
      "[!] No images found on page 63\n",
      "[!] No images found on page 64\n",
      "[!] No images found on page 65\n",
      "[!] No images found on page 66\n",
      "[!] No images found on page 67\n",
      "[!] No images found on page 68\n",
      "[!] No images found on page 69\n",
      "[!] No images found on page 70\n",
      "[!] No images found on page 71\n",
      "[!] No images found on page 72\n",
      "[!] No images found on page 73\n",
      "[!] No images found on page 74\n",
      "[!] No images found on page 75\n",
      "[!] No images found on page 76\n",
      "[!] No images found on page 77\n",
      "[!] No images found on page 78\n",
      "[!] No images found on page 79\n",
      "[!] No images found on page 80\n",
      "[!] No images found on page 81\n",
      "[!] No images found on page 82\n",
      "[!] No images found on page 83\n",
      "[!] No images found on page 84\n",
      "[!] No images found on page 85\n",
      "[!] No images found on page 86\n",
      "[!] No images found on page 87\n",
      "[!] No images found on page 88\n",
      "[!] No images found on page 89\n",
      "[!] No images found on page 90\n",
      "[!] No images found on page 91\n",
      "[!] No images found on page 92\n",
      "[!] No images found on page 93\n",
      "[!] No images found on page 94\n",
      "[!] No images found on page 95\n",
      "[!] No images found on page 96\n",
      "[!] No images found on page 97\n",
      "[!] No images found on page 98\n",
      "[!] No images found on page 99\n",
      "[!] No images found on page 100\n",
      "[!] No images found on page 101\n",
      "[!] No images found on page 102\n",
      "[!] No images found on page 103\n",
      "[!] No images found on page 104\n",
      "[!] No images found on page 105\n",
      "[!] No images found on page 106\n",
      "[!] No images found on page 107\n",
      "[!] No images found on page 108\n",
      "[!] No images found on page 109\n",
      "[!] No images found on page 110\n",
      "[!] No images found on page 111\n",
      "[!] No images found on page 112\n",
      "[!] No images found on page 113\n",
      "[!] No images found on page 114\n",
      "[!] No images found on page 115\n",
      "[!] No images found on page 116\n",
      "[!] No images found on page 117\n",
      "[!] No images found on page 118\n",
      "[+] Found a total of 1 images in page 119\n",
      "[!] No images found on page 120\n",
      "[!] No images found on page 121\n",
      "[!] No images found on page 122\n",
      "[!] No images found on page 123\n",
      "[!] No images found on page 124\n",
      "[!] No images found on page 125\n",
      "[+] Found a total of 1 images in page 126\n",
      "[+] Found a total of 1 images in page 127\n",
      "[!] No images found on page 128\n",
      "[!] No images found on page 129\n",
      "[!] No images found on page 130\n",
      "[!] No images found on page 131\n",
      "[!] No images found on page 132\n",
      "[!] No images found on page 133\n",
      "[!] No images found on page 134\n",
      "[!] No images found on page 135\n",
      "[!] No images found on page 136\n",
      "[!] No images found on page 137\n",
      "[!] No images found on page 138\n",
      "[!] No images found on page 139\n",
      "[!] No images found on page 140\n",
      "[!] No images found on page 141\n",
      "[!] No images found on page 142\n",
      "[+] Found a total of 1 images in page 143\n",
      "[!] No images found on page 144\n",
      "[!] No images found on page 145\n",
      "[!] No images found on page 146\n",
      "[!] No images found on page 147\n",
      "[!] No images found on page 148\n",
      "[+] Found a total of 1 images in page 149\n",
      "[!] No images found on page 150\n",
      "[!] No images found on page 151\n",
      "[!] No images found on page 152\n",
      "[!] No images found on page 153\n",
      "[!] No images found on page 154\n",
      "[!] No images found on page 155\n",
      "[+] Found a total of 1 images in page 156\n",
      "[!] No images found on page 157\n",
      "[!] No images found on page 158\n",
      "[!] No images found on page 159\n",
      "[!] No images found on page 160\n",
      "[!] No images found on page 161\n",
      "[!] No images found on page 162\n",
      "[!] No images found on page 163\n",
      "[!] No images found on page 164\n",
      "[+] Found a total of 1 images in page 165\n",
      "[!] No images found on page 166\n",
      "[!] No images found on page 167\n",
      "[!] No images found on page 168\n",
      "[!] No images found on page 169\n",
      "[!] No images found on page 170\n",
      "[!] No images found on page 171\n",
      "[!] No images found on page 172\n",
      "[!] No images found on page 173\n",
      "[!] No images found on page 174\n",
      "[+] Found a total of 1 images in page 175\n",
      "[!] No images found on page 176\n",
      "[+] Found a total of 73 images in page 177\n",
      "[!] No images found on page 178\n",
      "[!] No images found on page 179\n",
      "[!] No images found on page 180\n",
      "[!] No images found on page 181\n",
      "[+] Found a total of 1 images in page 182\n",
      "[!] No images found on page 183\n",
      "[!] No images found on page 184\n",
      "[!] No images found on page 185\n",
      "[!] No images found on page 186\n",
      "[!] No images found on page 187\n",
      "[!] No images found on page 188\n",
      "[+] Found a total of 1 images in page 189\n",
      "[!] No images found on page 190\n",
      "[!] No images found on page 191\n",
      "[!] No images found on page 192\n",
      "[!] No images found on page 193\n",
      "[+] Found a total of 1 images in page 194\n",
      "[!] No images found on page 195\n",
      "[!] No images found on page 196\n",
      "[!] No images found on page 197\n",
      "[!] No images found on page 198\n",
      "[!] No images found on page 199\n",
      "[!] No images found on page 200\n",
      "[!] No images found on page 201\n",
      "[!] No images found on page 202\n",
      "[+] Found a total of 1 images in page 203\n",
      "[!] No images found on page 204\n",
      "[!] No images found on page 205\n",
      "[!] No images found on page 206\n",
      "[!] No images found on page 207\n",
      "[!] No images found on page 208\n",
      "[!] No images found on page 209\n",
      "[+] Found a total of 1 images in page 210\n",
      "[!] No images found on page 211\n",
      "[+] Found a total of 1 images in page 212\n",
      "[+] Found a total of 1 images in page 213\n",
      "[!] No images found on page 214\n",
      "[!] No images found on page 215\n",
      "[!] No images found on page 216\n",
      "[!] No images found on page 217\n",
      "[!] No images found on page 218\n",
      "[!] No images found on page 219\n",
      "[!] No images found on page 220\n",
      "[!] No images found on page 221\n",
      "[!] No images found on page 222\n",
      "[!] No images found on page 223\n",
      "[!] No images found on page 224\n",
      "[+] Found a total of 1 images in page 225\n",
      "[!] No images found on page 226\n",
      "[!] No images found on page 227\n",
      "[!] No images found on page 228\n",
      "[!] No images found on page 229\n",
      "[!] No images found on page 230\n",
      "[!] No images found on page 231\n",
      "[+] Found a total of 1 images in page 232\n",
      "[!] No images found on page 233\n",
      "[!] No images found on page 234\n",
      "[!] No images found on page 235\n",
      "[!] No images found on page 236\n",
      "[+] Found a total of 1 images in page 237\n",
      "[!] No images found on page 238\n",
      "[!] No images found on page 239\n",
      "[!] No images found on page 240\n",
      "[!] No images found on page 241\n",
      "[!] No images found on page 242\n",
      "[!] No images found on page 243\n",
      "[!] No images found on page 244\n",
      "[!] No images found on page 245\n",
      "[!] No images found on page 246\n",
      "[!] No images found on page 247\n",
      "[!] No images found on page 248\n",
      "[+] Found a total of 1 images in page 249\n",
      "[!] No images found on page 250\n",
      "[!] No images found on page 251\n",
      "[!] No images found on page 252\n",
      "[!] No images found on page 253\n",
      "[!] No images found on page 254\n",
      "[!] No images found on page 255\n",
      "[+] Found a total of 1 images in page 256\n",
      "[!] No images found on page 257\n",
      "[!] No images found on page 258\n",
      "[!] No images found on page 259\n",
      "[!] No images found on page 260\n",
      "[!] No images found on page 261\n",
      "[!] No images found on page 262\n",
      "[!] No images found on page 263\n",
      "[!] No images found on page 264\n",
      "[!] No images found on page 265\n",
      "[+] Found a total of 1 images in page 266\n",
      "[!] No images found on page 267\n",
      "[!] No images found on page 268\n",
      "[!] No images found on page 269\n",
      "[!] No images found on page 270\n",
      "[!] No images found on page 271\n",
      "[!] No images found on page 272\n",
      "[!] No images found on page 273\n",
      "[!] No images found on page 274\n",
      "[!] No images found on page 275\n",
      "[!] No images found on page 276\n",
      "[+] Found a total of 1 images in page 277\n",
      "[!] No images found on page 278\n",
      "[!] No images found on page 279\n",
      "[!] No images found on page 280\n",
      "[!] No images found on page 281\n",
      "[!] No images found on page 282\n",
      "[!] No images found on page 283\n",
      "[+] Found a total of 26 images in page 284\n",
      "[+] Found a total of 1 images in page 285\n",
      "[!] No images found on page 286\n",
      "[!] No images found on page 287\n",
      "[!] No images found on page 288\n",
      "[!] No images found on page 289\n",
      "[!] No images found on page 290\n",
      "[!] No images found on page 291\n",
      "[!] No images found on page 292\n",
      "[+] Found a total of 1 images in page 293\n",
      "[!] No images found on page 294\n",
      "[!] No images found on page 295\n",
      "[!] No images found on page 296\n",
      "[+] Found a total of 1 images in page 297\n",
      "[!] No images found on page 298\n",
      "[!] No images found on page 299\n",
      "[!] No images found on page 300\n",
      "[!] No images found on page 301\n",
      "[!] No images found on page 302\n",
      "[!] No images found on page 303\n",
      "[!] No images found on page 304\n",
      "[!] No images found on page 305\n",
      "[!] No images found on page 306\n",
      "[+] Found a total of 1 images in page 307\n",
      "[!] No images found on page 308\n",
      "[!] No images found on page 309\n",
      "[!] No images found on page 310\n",
      "[!] No images found on page 311\n",
      "[!] No images found on page 312\n",
      "[!] No images found on page 313\n",
      "[+] Found a total of 1 images in page 314\n",
      "[!] No images found on page 315\n",
      "[!] No images found on page 316\n",
      "[+] Found a total of 3 images in page 317\n",
      "[!] No images found on page 318\n",
      "[!] No images found on page 319\n",
      "[!] No images found on page 320\n",
      "[!] No images found on page 321\n",
      "[!] No images found on page 322\n",
      "[!] No images found on page 323\n",
      "[!] No images found on page 324\n",
      "[!] No images found on page 325\n",
      "[!] No images found on page 326\n",
      "[!] No images found on page 327\n",
      "[!] No images found on page 328\n",
      "[!] No images found on page 329\n",
      "[!] No images found on page 330\n",
      "[!] No images found on page 331\n",
      "[!] No images found on page 332\n",
      "[!] No images found on page 333\n",
      "[!] No images found on page 334\n",
      "[!] No images found on page 335\n",
      "[!] No images found on page 336\n",
      "[!] No images found on page 337\n",
      "[!] No images found on page 338\n",
      "[!] No images found on page 339\n",
      "[!] No images found on page 340\n",
      "[+] Found a total of 1 images in page 341\n",
      "[!] No images found on page 342\n",
      "[!] No images found on page 343\n",
      "[!] No images found on page 344\n",
      "[!] No images found on page 345\n",
      "[!] No images found on page 346\n",
      "[!] No images found on page 347\n",
      "[!] No images found on page 348\n",
      "[+] Found a total of 2 images in page 349\n",
      "[!] No images found on page 350\n",
      "[!] No images found on page 351\n",
      "[!] No images found on page 352\n",
      "[!] No images found on page 353\n",
      "[!] No images found on page 354\n",
      "[!] No images found on page 355\n",
      "[!] No images found on page 356\n",
      "[!] No images found on page 357\n",
      "[!] No images found on page 358\n",
      "[!] No images found on page 359\n",
      "[!] No images found on page 360\n",
      "[!] No images found on page 361\n",
      "[!] No images found on page 362\n",
      "[!] No images found on page 363\n",
      "[!] No images found on page 364\n",
      "[!] No images found on page 365\n",
      "[!] No images found on page 366\n",
      "[+] Found a total of 1 images in page 367\n",
      "[!] No images found on page 368\n",
      "[!] No images found on page 369\n",
      "[!] No images found on page 370\n",
      "[!] No images found on page 371\n",
      "[!] No images found on page 372\n",
      "[!] No images found on page 373\n",
      "[+] Found a total of 1 images in page 374\n",
      "[+] Found a total of 1 images in page 375\n",
      "[!] No images found on page 376\n",
      "[!] No images found on page 377\n",
      "[!] No images found on page 378\n",
      "[+] Found a total of 1 images in page 379\n",
      "[!] No images found on page 380\n",
      "[!] No images found on page 381\n",
      "[!] No images found on page 382\n",
      "[!] No images found on page 383\n",
      "[!] No images found on page 384\n",
      "[!] No images found on page 385\n",
      "[!] No images found on page 386\n",
      "[!] No images found on page 387\n",
      "[!] No images found on page 388\n",
      "[+] Found a total of 1 images in page 389\n",
      "[!] No images found on page 390\n",
      "[!] No images found on page 391\n",
      "[!] No images found on page 392\n",
      "[!] No images found on page 393\n",
      "[!] No images found on page 394\n",
      "[!] No images found on page 395\n",
      "[!] No images found on page 396\n",
      "[+] Found a total of 1 images in page 397\n",
      "[!] No images found on page 398\n",
      "[!] No images found on page 399\n",
      "[!] No images found on page 400\n",
      "[!] No images found on page 401\n",
      "[!] No images found on page 402\n",
      "[!] No images found on page 403\n",
      "[!] No images found on page 404\n",
      "[+] Found a total of 1 images in page 405\n",
      "[!] No images found on page 406\n",
      "[!] No images found on page 407\n",
      "[!] No images found on page 408\n",
      "[!] No images found on page 409\n",
      "[!] No images found on page 410\n",
      "[!] No images found on page 411\n",
      "[!] No images found on page 412\n",
      "[!] No images found on page 413\n",
      "[!] No images found on page 414\n",
      "[!] No images found on page 415\n",
      "[!] No images found on page 416\n",
      "[+] Found a total of 1 images in page 417\n",
      "[!] No images found on page 418\n",
      "[!] No images found on page 419\n",
      "[!] No images found on page 420\n",
      "[!] No images found on page 421\n",
      "[!] No images found on page 422\n",
      "[!] No images found on page 423\n",
      "[!] No images found on page 424\n",
      "[!] No images found on page 425\n",
      "[!] No images found on page 426\n",
      "[+] Found a total of 1 images in page 427\n",
      "[!] No images found on page 428\n",
      "[!] No images found on page 429\n",
      "[!] No images found on page 430\n",
      "[!] No images found on page 431\n",
      "[!] No images found on page 432\n",
      "[!] No images found on page 433\n",
      "[!] No images found on page 434\n",
      "[!] No images found on page 435\n",
      "[!] No images found on page 436\n",
      "[!] No images found on page 437\n",
      "[!] No images found on page 438\n",
      "[!] No images found on page 439\n",
      "[!] No images found on page 440\n",
      "[!] No images found on page 441\n",
      "[!] No images found on page 442\n",
      "[!] No images found on page 443\n",
      "[!] No images found on page 444\n",
      "[+] Found a total of 1 images in page 445\n",
      "[!] No images found on page 446\n",
      "[!] No images found on page 447\n",
      "[!] No images found on page 448\n",
      "[!] No images found on page 449\n",
      "[!] No images found on page 450\n",
      "[!] No images found on page 451\n",
      "[!] No images found on page 452\n",
      "[+] Found a total of 1 images in page 453\n",
      "[+] Found a total of 1 images in page 454\n",
      "[!] No images found on page 455\n",
      "[!] No images found on page 456\n",
      "[!] No images found on page 457\n",
      "[+] Found a total of 1 images in page 458\n",
      "[!] No images found on page 459\n",
      "[!] No images found on page 460\n",
      "[!] No images found on page 461\n",
      "[!] No images found on page 462\n",
      "[!] No images found on page 463\n",
      "[!] No images found on page 464\n",
      "[!] No images found on page 465\n",
      "[!] No images found on page 466\n",
      "[!] No images found on page 467\n",
      "[!] No images found on page 468\n",
      "[+] Found a total of 1 images in page 469\n",
      "[!] No images found on page 470\n",
      "[!] No images found on page 471\n",
      "[!] No images found on page 472\n",
      "[!] No images found on page 473\n",
      "[!] No images found on page 474\n",
      "[!] No images found on page 475\n",
      "[!] No images found on page 476\n",
      "[!] No images found on page 477\n",
      "[!] No images found on page 478\n",
      "[!] No images found on page 479\n",
      "[!] No images found on page 480\n",
      "[!] No images found on page 481\n",
      "[!] No images found on page 482\n",
      "[!] No images found on page 483\n",
      "[!] No images found on page 484\n",
      "[!] No images found on page 485\n",
      "[!] No images found on page 486\n",
      "[!] No images found on page 487\n",
      "[!] No images found on page 488\n",
      "[!] No images found on page 489\n",
      "[!] No images found on page 490\n",
      "[!] No images found on page 491\n",
      "[!] No images found on page 492\n",
      "[!] No images found on page 493\n",
      "[!] No images found on page 494\n",
      "[!] No images found on page 495\n",
      "[!] No images found on page 496\n",
      "[!] No images found on page 497\n",
      "[!] No images found on page 498\n",
      "[!] No images found on page 499\n",
      "[!] No images found on page 500\n",
      "[!] No images found on page 501\n",
      "[!] No images found on page 502\n",
      "[!] No images found on page 503\n",
      "[!] No images found on page 504\n",
      "[!] No images found on page 505\n",
      "[+] Found a total of 1 images in page 506\n",
      "[!] No images found on page 0\n",
      "[+] Found a total of 3 images in page 1\n",
      "[+] Found a total of 1 images in page 2\n",
      "[!] No images found on page 3\n",
      "[!] No images found on page 4\n",
      "[+] Found a total of 2 images in page 5\n",
      "[+] Found a total of 1 images in page 6\n",
      "[+] Found a total of 1 images in page 7\n",
      "[+] Found a total of 1 images in page 8\n",
      "[+] Found a total of 1 images in page 9\n",
      "[+] Found a total of 2 images in page 10\n",
      "[+] Found a total of 1 images in page 11\n",
      "[!] No images found on page 12\n",
      "[+] Found a total of 1 images in page 13\n",
      "[+] Found a total of 1 images in page 14\n",
      "[!] No images found on page 15\n"
     ]
    }
   ],
   "source": [
    "# prompt: using split_pdf function, write code to run it on all pdf files in source directory and save results in target directory\n",
    "\n",
    "for pdf_file in os.listdir(SOURCE):\n",
    "    if pdf_file.endswith(\".pdf\"):\n",
    "        split_pdf(SOURCE+pdf_file, TARGET)\n"
   ]
  },
  {
   "cell_type": "markdown",
   "id": "6v3U4lREwCD5",
   "metadata": {
    "id": "6v3U4lREwCD5"
   },
   "source": [
    "## Create a vector store"
   ]
  },
  {
   "cell_type": "code",
   "execution_count": null,
   "id": "lx4F3VlYwAox",
   "metadata": {
    "id": "lx4F3VlYwAox",
    "tags": []
   },
   "outputs": [],
   "source": [
    "# Create a local Qdrant vector store\n",
    "client = qdrant_client.QdrantClient(path=DOCDB)\n",
    "\n",
    "text_store = QdrantVectorStore(\n",
    "    client=client, collection_name=\"text_collection\"\n",
    ")\n",
    "image_store = QdrantVectorStore(\n",
    "    client=client, collection_name=\"image_collection\"\n",
    ")\n",
    "storage_context = StorageContext.from_defaults(\n",
    "    vector_store=text_store, image_store=image_store,\n",
    ")"
   ]
  },
  {
   "cell_type": "markdown",
   "id": "MWdTu5cC1JIT",
   "metadata": {
    "id": "MWdTu5cC1JIT"
   },
   "source": [
    "## Create a multimodal index\n",
    "By default images are encoded using the OpenClip model. As of writing, vertex ai multimodal embeddings are not supported by llamaindex yet."
   ]
  },
  {
   "cell_type": "code",
   "execution_count": null,
   "id": "D_Cj3WTv1ICv",
   "metadata": {
    "id": "D_Cj3WTv1ICv",
    "tags": []
   },
   "outputs": [],
   "source": [
    "from llama_index.node_parser import SentenceSplitter, TokenTextSplitter\n",
    "from llama_index.extractors import (\n",
    "    SummaryExtractor,\n",
    "    QuestionsAnsweredExtractor,\n",
    "    TitleExtractor,\n",
    "    KeywordExtractor,\n",
    "    EntityExtractor,\n",
    ")\n",
    "\n",
    "transformations=[TokenTextSplitter(chunk_size=512, chunk_overlap=20),\n",
    "                 #KeywordExtractor(llm=gemini) # metadata extractors tend to time out because they run out of quota\n",
    "                ]\n",
    "\n",
    "from llama_index.service_context import ServiceContext\n",
    "service_context=ServiceContext.from_defaults(\n",
    "    llm=gemini,\n",
    "    embed_model=gemini_embedding,\n",
    "    transformations=transformations\n",
    ")"
   ]
  },
  {
   "cell_type": "code",
   "execution_count": null,
   "id": "8326d494-8428-42ca-830e-beca01359af9",
   "metadata": {
    "id": "8326d494-8428-42ca-830e-beca01359af9"
   },
   "outputs": [],
   "source": [
    "loop = asyncio.get_event_loop()\n",
    "\n",
    "async def create_mm_index():\n",
    "    return MultiModalVectorStoreIndex.from_documents(\n",
    "        documents,\n",
    "        storage_context=storage_context,\n",
    "        service_context=service_context,\n",
    "    )"
   ]
  },
  {
   "cell_type": "code",
   "execution_count": null,
   "id": "1hgEjpD2wMaW",
   "metadata": {
    "id": "1hgEjpD2wMaW",
    "tags": []
   },
   "outputs": [],
   "source": [
    "# Create the MultiModal index\n",
    "documents = SimpleDirectoryReader(TARGET).load_data()\n",
    "index = loop.run_until_complete(create_mm_index())"
   ]
  },
  {
   "cell_type": "markdown",
   "id": "393564a0-5fb6-4126-aa73-911d1f3e14cf",
   "metadata": {
    "id": "393564a0-5fb6-4126-aa73-911d1f3e14cf"
   },
   "source": [
    "## Query"
   ]
  },
  {
   "cell_type": "code",
   "execution_count": null,
   "id": "IkFTvbKYwAwp",
   "metadata": {
    "id": "IkFTvbKYwAwp",
    "tags": []
   },
   "outputs": [],
   "source": [
    "from llama_index.prompts import PromptTemplate\n",
    "from llama_index.query_engine import SimpleMultiModalQueryEngine\n",
    "\n",
    "qa_template = (\n",
    "    \"Context information is below.\\n\"\n",
    "    \"---------------------\\n\"\n",
    "    \"{context_str}\\n\"\n",
    "    \"---------------------\\n\"\n",
    "    \"Given the context information and not prior knowledge, \"\n",
    "    \"answer the query.\\n\"\n",
    "    \"If the context contains no information to answer the query,\"\n",
    "    \"state that the context provided does not contain relevant information.\\n\"\n",
    "    \"Query: {query_str}\\n\"\n",
    "    \"Answer: \"\n",
    ")\n",
    "qa_tmpl = PromptTemplate(qa_template)\n",
    "\n",
    "query_engine = index.as_query_engine(\n",
    "    multi_modal_llm=gemini_pro, text_qa_template=qa_tmpl\n",
    ")\n"
   ]
  },
  {
   "cell_type": "code",
   "execution_count": null,
   "id": "zgyEiwtUyKvn",
   "metadata": {
    "id": "zgyEiwtUyKvn",
    "tags": []
   },
   "outputs": [],
   "source": [
    "query_engine.retriever.image_similarity_top_k=2\n",
    "query_engine.retriever.text_similarity_top_k=2"
   ]
  },
  {
   "cell_type": "code",
   "execution_count": null,
   "id": "il8oEBLdxFcq",
   "metadata": {
    "id": "il8oEBLdxFcq",
    "tags": []
   },
   "outputs": [],
   "source": [
    "query=\"What is a control moment gyroscope? Explain reasons of its failure.\" #@param {type:\"string\"}"
   ]
  },
  {
   "cell_type": "code",
   "execution_count": null,
   "id": "gWy1azxOw4t_",
   "metadata": {
    "id": "gWy1azxOw4t_",
    "tags": []
   },
   "outputs": [],
   "source": [
    "response = query_engine.query(query)"
   ]
  },
  {
   "cell_type": "code",
   "execution_count": null,
   "id": "TYyX1nBnwAz0",
   "metadata": {
    "colab": {
     "base_uri": "https://localhost:8080/",
     "height": 547
    },
    "executionInfo": {
     "elapsed": 581,
     "status": "ok",
     "timestamp": 1706063433733,
     "user": {
      "displayName": "Giovanni Marchetti",
      "userId": "01878792717019610745"
     },
     "user_tz": 480
    },
    "id": "TYyX1nBnwAz0",
    "outputId": "331dc2a7-f8ed-4cfe-c203-bc3a5b723b9a",
    "tags": []
   },
   "outputs": [
    {
     "name": "stdout",
     "output_type": "stream",
     "text": [
      "Query: What is a control moment gyroscope? Explain reasons of its failure.\n",
      "=======\n",
      "Retrieved Images:\n",
      "\n"
     ]
    },
    {
     "data": {
      "image/png": "[encoded data removed]",
      "text/plain": [
       "<Figure size 500x200 with 2 Axes>"
      ]
     },
     "metadata": {},
     "output_type": "display_data"
    },
    {
     "name": "stdout",
     "output_type": "stream",
     "text": [
      "=======\n",
      "Response:  A control moment gyroscope (CMG) is a type of actuator used to control the attitude of a spacecraft. It consists of a spinning wheel mounted on a gimbal, which allows it to be pointed in any direction. By changing the speed of the wheel and the angle of the gimbal, the CMG can create a torque that will cause the spacecraft to rotate.\n",
      "\n",
      "CMGs are used on a variety of spacecraft, including the International Space Station (ISS). The ISS has four CMGs, which are used to control the attitude of the station as it orbits the Earth.\n",
      "\n",
      "CMGs can fail for a variety of reasons, including mechanical failures, electrical failures, and software errors. In the case of the ISS, one of the CMGs failed in 2007 due to a mechanical failure. The CMG was replaced, and the ISS continued to operate normally.\n",
      "\n",
      "The context provided does not contain any information about the reasons for the failure of the CMGs on the ISS.\n",
      "=======\n",
      "\n"
     ]
    }
   ],
   "source": [
    "from llama_index.response.notebook_utils import (\n",
    "    display_query_and_multimodal_response,\n",
    ")\n",
    "\n",
    "display_query_and_multimodal_response(query, response)"
   ]
  },
  {
   "cell_type": "code",
   "execution_count": null,
   "id": "Gh7ARNdrwA2n",
   "metadata": {
    "id": "Gh7ARNdrwA2n",
    "outputId": "4bac30cd-c41e-4552-db67-aa3d38cf5eda",
    "tags": []
   },
   "outputs": [
    {
     "name": "stdout",
     "output_type": "stream",
     "text": [
      " A control moment gyroscope (CMG) is a type of actuator used to control the attitude of a spacecraft. It consists of a spinning wheel mounted on a gimbal, which allows it to be pointed in any direction. By changing the speed of the wheel and the angle of the gimbal, the CMG can create a torque that will cause the spacecraft to rotate.\n",
      "\n",
      "CMGs are used on a variety of spacecraft, including the International Space Station (ISS). The ISS has four CMGs, which are used to control the attitude of the station as it orbits the Earth.\n",
      "\n",
      "CMGs can fail for a variety of reasons, including mechanical failures, electrical failures, and software errors. In the case of the ISS, one of the CMGs failed in 2007 due to a mechanical failure. The CMG was replaced, and the ISS continued to operate normally.\n",
      "\n",
      "The context provided does not contain any information about the reasons for the failure of the CMGs on the ISS.\n"
     ]
    }
   ],
   "source": [
    "print(str(response))"
   ]
  },
  {
   "cell_type": "code",
   "execution_count": null,
   "id": "-ycgti5Wzlaz",
   "metadata": {
    "id": "-ycgti5Wzlaz",
    "outputId": "28a4ad33-58d0-4748-f828-c8c903b2d99d",
    "tags": []
   },
   "outputs": [
    {
     "data": {
      "text/markdown": [
       "**Node ID:** 4d183ff2-0625-4b33-b52c-cf911775a0d7<br>**Similarity:** 0.7319974270142829<br>**Text:** The Aerospace Corporation, L-3 S&N, and independent consultants resulted in comprehensive inve stigations that resulted in identifying the most \n",
       "probable cause for both anomalie s. Accolades we re ...<br>"
      ],
      "text/plain": [
       "<IPython.core.display.Markdown object>"
      ]
     },
     "metadata": {},
     "output_type": "display_data"
    },
    {
     "data": {
      "text/markdown": [
       "**Node ID:** f2555cc7-88b1-4b9a-b20a-d9189a2007d3<br>**Similarity:** 0.7118768183827231<br>**Text:** NASA/CP-2010-216272<br>"
      ],
      "text/plain": [
       "<IPython.core.display.Markdown object>"
      ]
     },
     "metadata": {},
     "output_type": "display_data"
    },
    {
     "data": {
      "image/png": "[encoded data removed]",
      "text/plain": [
       "<Figure size 1600x1000 with 2 Axes>"
      ]
     },
     "metadata": {},
     "output_type": "display_data"
    }
   ],
   "source": [
    "# show sources\n",
    "from llama_index.response.notebook_utils import display_source_node\n",
    "\n",
    "for text_node in response.metadata[\"text_nodes\"]:\n",
    "    display_source_node(text_node, source_length=200)\n",
    "plot_images(\n",
    "    [n.metadata[\"file_path\"] for n in response.metadata[\"image_nodes\"]]\n",
    ")"
   ]
  },
  {
   "cell_type": "markdown",
   "id": "037bc657-11bd-436a-afbf-db0671cbcbd1",
   "metadata": {
    "id": "037bc657-11bd-436a-afbf-db0671cbcbd1"
   },
   "source": [
    "## A Simple chatbot"
   ]
  },
  {
   "cell_type": "code",
   "execution_count": null,
   "id": "673dc046-d882-4bc9-828b-0be7e390516a",
   "metadata": {
    "id": "673dc046-d882-4bc9-828b-0be7e390516a",
    "tags": []
   },
   "outputs": [],
   "source": [
    "from llama_index.memory import ChatMemoryBuffer\n",
    "\n",
    "memory = ChatMemoryBuffer.from_defaults(token_limit=4096)\n",
    "\n",
    "chat_engine = index.as_chat_engine(\n",
    "    chat_mode=\"condense_plus_context\",\n",
    "    memory=memory,\n",
    "    context_prompt=(\n",
    "        \"You are a chatbot.\"\n",
    "        \"Here are the relevant documents for the context:\\n\"\n",
    "        \"{context_str}\"\n",
    "        \"\\nInstruction: Use the previous chat history, or the context above, to interact and help the user.\"\n",
    "    ),\n",
    "    llm=gemini,\n",
    "    verbose=False,\n",
    ")"
   ]
  },
  {
   "cell_type": "code",
   "execution_count": null,
   "id": "d44aa0e0-c248-4ba4-904d-5da778e3ea40",
   "metadata": {
    "id": "d44aa0e0-c248-4ba4-904d-5da778e3ea40",
    "tags": []
   },
   "outputs": [],
   "source": [
    "def chatbot():\n",
    "    quit=False\n",
    "    while quit == False:\n",
    "        question = str(input('\\n\\nQuestion: '))\n",
    "        ## quit command\n",
    "        if question == 'quit()':\n",
    "            chat_engine.reset()\n",
    "            quit=True\n",
    "        ## clear context command\n",
    "        elif question==\"clear()\":\n",
    "            chat_engine.reset()\n",
    "            print(\"Context cleared.\\n\")\n",
    "        else:\n",
    "            response = chat_engine.chat(question) #context+\"\\n\" context becomes too long for Clip\n",
    "            print(str(response.response))\n",
    "            #display_query_and_multimodal_response(question, response)\n"
   ]
  },
  {
   "cell_type": "code",
   "execution_count": null,
   "id": "ee5dc8d9-a7b6-4f10-a653-77c0cc6041a4",
   "metadata": {
    "id": "ee5dc8d9-a7b6-4f10-a653-77c0cc6041a4",
    "outputId": "6dc201b7-abf6-43d2-a3bc-3a52c39d0f9e",
    "tags": []
   },
   "outputs": [
    {
     "name": "stdin",
     "output_type": "stream",
     "text": [
      "\n",
      "\n",
      "Question:  why did cmg1 fail on the space station?\n"
     ]
    },
    {
     "name": "stdout",
     "output_type": "stream",
     "text": [
      "The exact cause of CMG1's failure on the space station is not specified in the context. However, it is mentioned that the failure was preceded by an increase in the Spin Motor Command Current (SMCC), which is an indicator of the combined bearing torques. This increase in SMCC was later concluded to be the start of the failure and was caused by an increase in the Hall Resolver side bearing torque. The increase in bearing temperature also indicated that the Hall Resolver side bearing may be in distress.\n",
      "\n",
      "Additionally, the context mentions that high gimbal rates were identified as a contributor to the failure. As a result, GN&C engineers limited all CMG gimbal rates to 0.014 rad/s (0.8 deg/s) within the GN&C software.\n",
      "\n",
      "Therefore, it is possible that the combination of high gimbal rates and the bearing issue led to the failure of CMG1 on the space station.\n",
      "The exact cause of CMG1's failure on the space station is not specified in the context. However, it is mentioned that the failure was preceded by an increase in the Spin Motor Command Current (SMCC), which is an indicator of the combined bearing torques. This increase in SMCC was later concluded to be the start of the failure and was caused by an increase in the Hall Resolver side bearing torque. The increase in bearing temperature also indicated that the Hall Resolver side bearing may be in distress.\n",
      "\n",
      "Additionally, the context mentions that high gimbal rates were identified as a contributor to the failure. As a result, GN&C engineers limited all CMG gimbal rates to 0.014 rad/s (0.8 deg/s) within the GN&C software.\n",
      "\n",
      "Therefore, it is possible that the combination of high gimbal rates and the bearing issue led to the failure of CMG1 on the space station.\n"
     ]
    },
    {
     "name": "stdin",
     "output_type": "stream",
     "text": [
      "\n",
      "\n",
      "Question:  quit()\n"
     ]
    }
   ],
   "source": [
    "chatbot()"
   ]
  },
  {
   "cell_type": "markdown",
   "id": "1b4221ca-fc3d-4663-a07a-db88f9672ee7",
   "metadata": {
    "id": "1b4221ca-fc3d-4663-a07a-db88f9672ee7"
   },
   "source": [
    "## Part 2: Azure / Sharepoint integration\n",
    "Let's access Onedrive (personal or business aka Sharepoint library) directly.  \n",
    "If you want to use Onedrive personal, you will have to run this notebook locally in order to complete the authentication workflow with your local browser.\n",
    "Register an application in your Azure AD tenant as described in the accompanying [article](https://medium.com/@gmarchetti/unlock-sharepoint-with-google-gemini-and-llamaindex-bab54f77ab90).  \n",
    "**Note:** This part is NOT multimodal. The loader ingests text only. It is possible to make it multimodal."
   ]
  },
  {
   "cell_type": "markdown",
   "id": "15ac6f10-c996-4003-b7a6-d24304febd9a",
   "metadata": {
    "id": "15ac6f10-c996-4003-b7a6-d24304febd9a"
   },
   "source": [
    "Specify sharepoint folder path relative to your library."
   ]
  },
  {
   "cell_type": "code",
   "execution_count": null,
   "id": "812a2421-fbaa-414d-ba7f-689dfdeb5414",
   "metadata": {
    "id": "812a2421-fbaa-414d-ba7f-689dfdeb5414"
   },
   "outputs": [],
   "source": [
    "SHAREPOINT_FOLDER = \"experiments/multimodal/pdfs\" # @param {type:\"string\"}"
   ]
  },
  {
   "cell_type": "markdown",
   "id": "1dddafd3-b3e9-4445-9963-718b396032bb",
   "metadata": {
    "id": "1dddafd3-b3e9-4445-9963-718b396032bb"
   },
   "source": [
    "Specify where to store the documents database (local instance only)"
   ]
  },
  {
   "cell_type": "code",
   "execution_count": null,
   "id": "716504e6-6456-4e9c-b750-06261fa4f026",
   "metadata": {
    "id": "716504e6-6456-4e9c-b750-06261fa4f026"
   },
   "outputs": [],
   "source": [
    "DOCDB = \"./QDrant-Sharepoint.db\" # @param {type:\"string\"}"
   ]
  },
  {
   "cell_type": "markdown",
   "id": "4230f7ea-fc26-4147-b31e-80632b2e9fca",
   "metadata": {
    "id": "4230f7ea-fc26-4147-b31e-80632b2e9fca"
   },
   "source": [
    "Now provide parameters supplied by MS Azure AD."
   ]
  },
  {
   "cell_type": "code",
   "execution_count": null,
   "id": "89b86cbc-7be2-44e0-a544-3baca0ca8f56",
   "metadata": {
    "id": "89b86cbc-7be2-44e0-a544-3baca0ca8f56"
   },
   "outputs": [],
   "source": [
    "# Your Azure AD Client ID\n",
    "CLIENT_ID = \"Azure_AD_client_id_here\" # @param {type:\"string\"}"
   ]
  },
  {
   "cell_type": "code",
   "execution_count": null,
   "id": "5395e336-6956-4a02-9d9f-24d365be7d01",
   "metadata": {
    "id": "5395e336-6956-4a02-9d9f-24d365be7d01"
   },
   "outputs": [],
   "source": [
    "# tenant_id is \"consumers\" for personal onedrive, or provided by Azure AD for Sharepoint\n",
    "TENANT_ID=\"consumers\" # @param {type:\"string\"}"
   ]
  },
  {
   "cell_type": "code",
   "execution_count": null,
   "id": "8ee6ef67-e528-4932-9d5f-b1297931ad37",
   "metadata": {
    "id": "8ee6ef67-e528-4932-9d5f-b1297931ad37"
   },
   "outputs": [],
   "source": [
    "#CLIENT_SECRET=\"your_secret_for_Sharepoint\" # @param {type:\"string\"}"
   ]
  },
  {
   "cell_type": "code",
   "execution_count": null,
   "id": "634f748b-2041-4c30-95b4-722ef5f23cb5",
   "metadata": {
    "id": "634f748b-2041-4c30-95b4-722ef5f23cb5"
   },
   "outputs": [],
   "source": [
    "#USER_PRINCIPAL_NAME = \"your_name@your_org.onmicrosoft.com\" # @param {type:\"string\"}"
   ]
  },
  {
   "cell_type": "code",
   "execution_count": null,
   "id": "1H0_9ozXSb10",
   "metadata": {
    "id": "1H0_9ozXSb10"
   },
   "outputs": [],
   "source": [
    "from llama_index import download_loader"
   ]
  },
  {
   "cell_type": "code",
   "execution_count": null,
   "id": "3145ba04-f4f7-4487-868a-b86505d889e4",
   "metadata": {
    "id": "3145ba04-f4f7-4487-868a-b86505d889e4",
    "tags": []
   },
   "outputs": [],
   "source": [
    "OneDriveReader = download_loader(\"OneDriveReader\")"
   ]
  },
  {
   "cell_type": "code",
   "execution_count": null,
   "id": "3d665315-f7be-4fcc-9a6d-d226db119011",
   "metadata": {
    "id": "3d665315-f7be-4fcc-9a6d-d226db119011",
    "tags": []
   },
   "outputs": [],
   "source": [
    "loader = OneDriveReader(\n",
    "    client_id = CLIENT_ID,\n",
    "    tenant_id= TENANT_ID,\n",
    "    #client_secret=CLIENT_SECRET\n",
    ")"
   ]
  },
  {
   "cell_type": "code",
   "execution_count": null,
   "id": "999bdbf1-a8c8-4851-9647-1977c5529137",
   "metadata": {
    "id": "999bdbf1-a8c8-4851-9647-1977c5529137",
    "tags": []
   },
   "outputs": [],
   "source": [
    "documents=loader.load_data(\n",
    "    folder_path=SHAREPOINT_FOLDER,\n",
    "    # userprincipalname is required for Sharepoint and provided by Azure AD\n",
    "    # userprincipalname = USER_PRINCIPAL_NAME\n",
    ")"
   ]
  },
  {
   "cell_type": "code",
   "execution_count": null,
   "id": "e0251edd-c0d5-451b-9bb9-2517c9ba6338",
   "metadata": {
    "id": "e0251edd-c0d5-451b-9bb9-2517c9ba6338",
    "outputId": "a340d2cd-6910-4d9a-ef39-12aad21e52d1"
   },
   "outputs": [
    {
     "data": {
      "text/plain": [
       "1705"
      ]
     },
     "execution_count": 19,
     "metadata": {},
     "output_type": "execute_result"
    }
   ],
   "source": [
    "len(documents)"
   ]
  },
  {
   "cell_type": "markdown",
   "id": "b9c44625",
   "metadata": {
    "id": "b9c44625"
   },
   "source": [
    "## Create a vector store"
   ]
  },
  {
   "cell_type": "code",
   "execution_count": null,
   "id": "5da1b8cb",
   "metadata": {
    "id": "5da1b8cb"
   },
   "outputs": [],
   "source": [
    "# Create a local Qdrant vector store\n",
    "client = qdrant_client.QdrantClient(path=DOCDB)\n",
    "# This time it has only 1 collection for text\n",
    "text_store = QdrantVectorStore(\n",
    "    client=client, collection_name=\"text_collection\"\n",
    ")\n",
    "\n",
    "storage_context = StorageContext.from_defaults(\n",
    "    vector_store=text_store,\n",
    ")"
   ]
  },
  {
   "cell_type": "markdown",
   "id": "4875cfdc",
   "metadata": {
    "id": "4875cfdc"
   },
   "source": [
    "## Create an index\n"
   ]
  },
  {
   "cell_type": "code",
   "execution_count": null,
   "id": "471ca470",
   "metadata": {
    "id": "471ca470"
   },
   "outputs": [],
   "source": [
    "from llama_index.text_splitter import SentenceSplitter, TokenTextSplitter\n",
    "from llama_index.extractors import TitleExtractor, SummaryExtractor, KeywordExtractor\n",
    "\n",
    "transformations=[TokenTextSplitter(chunk_size=1024, chunk_overlap=20),\n",
    "                 TitleExtractor(llm=gemini, nodes=5), #these do not seem to work with Gemini\n",
    "                 #SummaryExtractor(llm=gemini, nodes=1),\n",
    "                 #KeywordExtractor(llm=gemini, keywords=2)\n",
    "                 ]\n",
    "\n",
    "service_context=ServiceContext.from_defaults(\n",
    "    llm=gemini,\n",
    "    embed_model=gemini_embedding,\n",
    "    transformations=transformations\n",
    ")"
   ]
  },
  {
   "cell_type": "code",
   "execution_count": null,
   "id": "4b9746d7-5fe6-46a6-b6bc-674fb36f35bc",
   "metadata": {
    "id": "4b9746d7-5fe6-46a6-b6bc-674fb36f35bc"
   },
   "outputs": [],
   "source": [
    "async def create_index():\n",
    "    return VectorStoreIndex.from_documents(\n",
    "        documents,\n",
    "        storage_context=storage_context,\n",
    "        service_context=service_context,\n",
    "        show_progress=True\n",
    "    )"
   ]
  },
  {
   "cell_type": "code",
   "execution_count": null,
   "id": "bf8ae0a3",
   "metadata": {
    "id": "bf8ae0a3",
    "outputId": "689e3f82-2584-4bcd-e758-702134f030bc",
    "scrolled": true,
    "tags": []
   },
   "outputs": [
    {
     "data": {
      "application/vnd.jupyter.widget-view+json": {
       "model_id": "8bfbfc69a5ec4d38b83526eafbcd85f9",
       "version_major": 2,
       "version_minor": 0
      },
      "text/plain": [
       "Parsing nodes:   0%|          | 0/1705 [00:00<?, ?it/s]"
      ]
     },
     "metadata": {},
     "output_type": "display_data"
    },
    {
     "name": "stderr",
     "output_type": "stream",
     "text": [
      "100%|██████████████████████████████████████████████████████████████████████████████████████████████████████████████████████████████████████████████████████████████████████████████████████████████████████████████| 5/5 [00:06<00:00,  1.31s/it]\n"
     ]
    },
    {
     "data": {
      "application/vnd.jupyter.widget-view+json": {
       "model_id": "6bfb243a8ebd4bcc89c77998a9a030a3",
       "version_major": 2,
       "version_minor": 0
      },
      "text/plain": [
       "Generating embeddings:   0%|          | 0/1893 [00:00<?, ?it/s]"
      ]
     },
     "metadata": {},
     "output_type": "display_data"
    }
   ],
   "source": [
    "loop = asyncio.get_event_loop()\n",
    "index=loop.run_until_complete(create_index())"
   ]
  },
  {
   "cell_type": "markdown",
   "id": "9f71d4aa",
   "metadata": {
    "id": "9f71d4aa"
   },
   "source": [
    "## A Simple chatbot"
   ]
  },
  {
   "cell_type": "code",
   "execution_count": null,
   "id": "e5e35dac",
   "metadata": {
    "id": "e5e35dac"
   },
   "outputs": [],
   "source": [
    "from llama_index.memory import ChatMemoryBuffer\n",
    "\n",
    "memory = ChatMemoryBuffer.from_defaults(token_limit=4096)\n",
    "\n",
    "chat_engine = index.as_chat_engine(\n",
    "    chat_mode=\"condense_plus_context\",\n",
    "    memory=memory,\n",
    "    context_prompt=(\n",
    "        \"You are a chatbot.\"\n",
    "        \"Here are the relevant documents for the context:\\n\"\n",
    "        \"{context_str}\"\n",
    "        \"\\nInstruction: Use the previous chat history, or the context above, to interact and help the user.\"\n",
    "    ),\n",
    "    llm=gemini,\n",
    "    verbose=False,\n",
    ")"
   ]
  },
  {
   "cell_type": "code",
   "execution_count": null,
   "id": "6a3458e9",
   "metadata": {
    "id": "6a3458e9"
   },
   "outputs": [],
   "source": [
    "def chatbot():\n",
    "    quit=False\n",
    "    while quit == False:\n",
    "        question = str(input('\\n\\nQuestion: '))\n",
    "        ## quit command\n",
    "        if question == 'quit()':\n",
    "            chat_engine.reset()\n",
    "            quit=True\n",
    "        ## clear context command\n",
    "        elif question==\"clear()\":\n",
    "            chat_engine.reset()\n",
    "            print(\"Context cleared.\\n\")\n",
    "        else:\n",
    "            response = chat_engine.chat(question)\n",
    "            print(str(response.response))\n"
   ]
  },
  {
   "cell_type": "code",
   "execution_count": null,
   "id": "15ef1871",
   "metadata": {
    "id": "15ef1871",
    "outputId": "382552c0-e540-4c2f-96cb-e2ee111209f3"
   },
   "outputs": [
    {
     "name": "stdin",
     "output_type": "stream",
     "text": [
      "\n",
      "\n",
      "Question:  how did the wfp react to covid-19?\n"
     ]
    },
    {
     "name": "stdout",
     "output_type": "stream",
     "text": [
      "The provided context does not contain information about how the WFP reacted to COVID-19. Therefore, I cannot answer this question.\n"
     ]
    },
    {
     "name": "stdin",
     "output_type": "stream",
     "text": [
      "\n",
      "\n",
      "Question:  how did the wfp react to covid-19 in Kenya?\n"
     ]
    },
    {
     "name": "stdout",
     "output_type": "stream",
     "text": [
      "Unfortunately, I do not have access to real-time information or the ability to browse the internet, including the provided URL. Therefore, I cannot provide information about how the WFP reacted to COVID-19 in Kenya.\n"
     ]
    },
    {
     "name": "stdin",
     "output_type": "stream",
     "text": [
      "\n",
      "\n",
      "Question:  what is a control moment gyroscope?\n"
     ]
    },
    {
     "name": "stdout",
     "output_type": "stream",
     "text": [
      "A control moment gyroscope (CMG) is a type of actuator used for attitude control of spacecraft. It consists of a spinning flywheel mounted on a gimbal system, which allows the flywheel's angular momentum to be directed in different directions. By changing the direction of the flywheel's angular momentum, the CMG can exert a torque on the spacecraft, causing it to rotate.\n",
      "\n",
      "CMGs have several advantages over traditional reaction wheels, which are another type of actuator used for attitude control. First, CMGs can generate much higher torques than reaction wheels, making them more effective for controlling large spacecraft. Second, CMGs do not require any propellant, which makes them more efficient and reliable than reaction wheels.\n",
      "\n",
      "CMGs are used on a variety of spacecraft, including satellites, space stations, and spacecraft that are used for planetary exploration. Some notable examples of spacecraft that use CMGs include the International Space Station, the Hubble Space Telescope, and the Cassini-Huygens spacecraft.\n",
      "\n",
      "Here is a simplified explanation of how a CMG works:\n",
      "\n",
      "1. The CMG consists of a spinning flywheel mounted on a gimbal system.\n",
      "2. The flywheel's angular momentum is directed in a specific direction.\n",
      "3. When the direction of the flywheel's angular momentum is changed, the CMG exerts a torque on the spacecraft.\n",
      "4. This torque causes the spacecraft to rotate.\n",
      "\n",
      "By changing the direction of the flywheel's angular momentum, the CMG can control the spacecraft's attitude.\n",
      "\n",
      "CMGs are a complex and sophisticated technology, but they are essential for the attitude control of many spacecraft.\n"
     ]
    }
   ],
   "source": [
    "chatbot()"
   ]
  },
  {
   "cell_type": "markdown",
   "id": "WFTNClmZsZaQ",
   "metadata": {
    "id": "WFTNClmZsZaQ"
   },
   "source": [
    "## Part 3: Text-Only, Google Semantic Retriever\n",
    "Semantic retriever is a managed index and vector database. As of writing, it works with text only. It is not available with the \"free\" version of Gemini, hence you'll have to configure a service account for Vertex AI access."
   ]
  },
  {
   "cell_type": "code",
   "execution_count": null,
   "id": "76f6024e-5d4f-4ecd-8efb-6ec247b2a85d",
   "metadata": {
    "id": "76f6024e-5d4f-4ecd-8efb-6ec247b2a85d"
   },
   "outputs": [],
   "source": [
    "!pip install google-auth-oauthlib"
   ]
  },
  {
   "cell_type": "code",
   "execution_count": null,
   "id": "UQUJ6Wsqvffj",
   "metadata": {
    "id": "UQUJ6Wsqvffj"
   },
   "outputs": [],
   "source": [
    "CREDENTIALS_FILE = \"./genai-service-account-key3.json\" # @param {\"type\": \"string\"}"
   ]
  },
  {
   "cell_type": "code",
   "execution_count": null,
   "id": "TF9qXqR4usYS",
   "metadata": {
    "colab": {
     "base_uri": "https://localhost:8080/"
    },
    "executionInfo": {
     "elapsed": 1775,
     "status": "ok",
     "timestamp": 1705540721327,
     "user": {
      "displayName": "Giovanni Marchetti",
      "userId": "01878792717019610745"
     },
     "user_tz": 480
    },
    "id": "TF9qXqR4usYS",
    "outputId": "f76a089a-7bfa-42be-ce87-e18bc3901def"
   },
   "outputs": [
    {
     "name": "stdout",
     "output_type": "stream",
     "text": [
      "LLM is explicitly disabled. Using MockLLM.\n",
      "Embeddings have been explicitly disabled. Using MockEmbedding.\n"
     ]
    }
   ],
   "source": [
    "from google.oauth2 import service_account\n",
    "from llama_index.indices.managed.google.generativeai import set_google_config\n",
    "\n",
    "credentials = service_account.Credentials.from_service_account_file(\n",
    "    CREDENTIALS_FILE,\n",
    "    scopes=[\n",
    "      'https://www.googleapis.com/auth/cloud-platform', 'https://www.googleapis.com/auth/generative-language.retriever',\n",
    "    ],\n",
    ")\n",
    "set_google_config(auth_credentials=credentials)"
   ]
  },
  {
   "cell_type": "markdown",
   "id": "alxuNC_SwMW_",
   "metadata": {
    "id": "alxuNC_SwMW_"
   },
   "source": [
    "### Helper functions"
   ]
  },
  {
   "cell_type": "code",
   "execution_count": null,
   "id": "26Xib9NqwOuR",
   "metadata": {
    "id": "26Xib9NqwOuR"
   },
   "outputs": [],
   "source": [
    "import llama_index.vector_stores.google.generativeai.genai_extension as genaix\n",
    "from typing import Iterable\n",
    "from random import randrange\n",
    "\n",
    "\n",
    "LLAMA_INDEX_COLAB_CORPUS_ID_PREFIX = f\"llama-index-colab-part3\"\n",
    "SESSION_CORPUS_ID_PREFIX = (\n",
    "    f\"{LLAMA_INDEX_COLAB_CORPUS_ID_PREFIX}-{randrange(1000000)}\"\n",
    ")\n",
    "\n",
    "\n",
    "def corpus_id(num_id: int) -> str:\n",
    "    return f\"{SESSION_CORPUS_ID_PREFIX}-{num_id}\"\n",
    "\n",
    "\n",
    "SESSION_CORPUS_ID = corpus_id(1)\n",
    "\n",
    "\n",
    "def list_corpora() -> Iterable[genaix.Corpus]:\n",
    "    client = genaix.build_semantic_retriever()\n",
    "    yield from genaix.list_corpora(client=client)\n",
    "\n",
    "\n",
    "def delete_corpus(*, corpus_id: str) -> None:\n",
    "    client = genaix.build_semantic_retriever()\n",
    "    genaix.delete_corpus(corpus_id=corpus_id, client=client)\n",
    "\n",
    "\n",
    "def cleanup_colab_corpora():\n",
    "    for corpus in list_corpora():\n",
    "        if corpus.corpus_id.startswith(LLAMA_INDEX_COLAB_CORPUS_ID_PREFIX):\n",
    "            try:\n",
    "                delete_corpus(corpus_id=corpus.corpus_id)\n",
    "                print(f\"Deleted corpus {corpus.corpus_id}.\")\n",
    "            except Exception:\n",
    "                pass\n",
    "\n"
   ]
  },
  {
   "cell_type": "code",
   "execution_count": null,
   "id": "nuvgc3RIMg9j",
   "metadata": {
    "id": "nuvgc3RIMg9j"
   },
   "outputs": [],
   "source": [
    "# Remove any previously leftover corpora from this colab.\n",
    "cleanup_colab_corpora()"
   ]
  },
  {
   "cell_type": "markdown",
   "id": "mRnqP0cu0yuM",
   "metadata": {
    "id": "mRnqP0cu0yuM"
   },
   "source": [
    "### Create Corpus"
   ]
  },
  {
   "cell_type": "code",
   "execution_count": null,
   "id": "XzBIrPDF04w4",
   "metadata": {
    "id": "XzBIrPDF04w4"
   },
   "outputs": [],
   "source": [
    "CORPUS_NAME = \"3PDFs\" #@param {\"type\": \"string\"}"
   ]
  },
  {
   "cell_type": "code",
   "execution_count": null,
   "id": "JVZyB93v3U01",
   "metadata": {
    "id": "JVZyB93v3U01"
   },
   "outputs": [],
   "source": [
    "SOURCE = \"./pdfs/\" # @param {type:\"string\"}"
   ]
  },
  {
   "cell_type": "code",
   "execution_count": null,
   "id": "078d174f-1263-4e4f-9088-f9f76df2675c",
   "metadata": {
    "id": "078d174f-1263-4e4f-9088-f9f76df2675c"
   },
   "outputs": [],
   "source": [
    "from llama_index import SimpleDirectoryReader\n",
    "from llama_index.indices.managed.google.generativeai import GoogleIndex\n",
    "from llama_index.response import Response\n",
    "import time"
   ]
  },
  {
   "cell_type": "code",
   "execution_count": null,
   "id": "de6d57f8-d339-46f6-988a-47f36c4f43ae",
   "metadata": {
    "id": "de6d57f8-d339-46f6-988a-47f36c4f43ae"
   },
   "outputs": [],
   "source": [
    "# Create a corpus.\n",
    "index = GoogleIndex.create_corpus(\n",
    "    corpus_id=SESSION_CORPUS_ID, display_name=CORPUS_NAME\n",
    ")\n",
    "print(f\"Newly created corpus ID is {index.corpus_id}.\")"
   ]
  },
  {
   "cell_type": "markdown",
   "id": "LCUGMGiYHV3F",
   "metadata": {
    "id": "LCUGMGiYHV3F"
   },
   "source": [
    "### Ingest documents\n"
   ]
  },
  {
   "cell_type": "code",
   "execution_count": null,
   "id": "2bc14705-3855-47e1-a67f-cf915dca65d2",
   "metadata": {
    "id": "2bc14705-3855-47e1-a67f-cf915dca65d2"
   },
   "outputs": [],
   "source": [
    "documents = SimpleDirectoryReader(SOURCE).load_data()"
   ]
  },
  {
   "cell_type": "code",
   "execution_count": null,
   "id": "7ae62af5-5fc9-469f-95f6-77e70096562f",
   "metadata": {
    "id": "7ae62af5-5fc9-469f-95f6-77e70096562f"
   },
   "outputs": [],
   "source": [
    "index.insert_documents(documents) # this runs out of quota with a few documents and is otherwise very slow!"
   ]
  },
  {
   "cell_type": "code",
   "execution_count": null,
   "id": "NG9-vZE_NjsD",
   "metadata": {
    "id": "NG9-vZE_NjsD",
    "outputId": "40430477-8363-412a-eee8-c63ea30f6db6"
   },
   "outputs": [
    {
     "name": "stdout",
     "output_type": "stream",
     "text": [
      "Corpus(name='corpora/llama-index-colab-part3-774432-1', display_name='3PDFs', create_time=DatetimeWithNanoseconds(2024, 1, 18, 1, 59, 17, 444318, tzinfo=datetime.timezone.utc), update_time=DatetimeWithNanoseconds(2024, 1, 18, 1, 59, 17, 444318, tzinfo=datetime.timezone.utc))\n"
     ]
    }
   ],
   "source": [
    "for corpus in list_corpora():\n",
    "    print(corpus)"
   ]
  },
  {
   "cell_type": "markdown",
   "id": "2ae58f8d-4292-48f0-9fd2-7d222e69f64d",
   "metadata": {
    "id": "2ae58f8d-4292-48f0-9fd2-7d222e69f64d"
   },
   "source": [
    "### Set up AQA-based query engine"
   ]
  },
  {
   "cell_type": "code",
   "execution_count": null,
   "id": "782fb3aa-98a0-4757-a93b-6254503781ce",
   "metadata": {
    "id": "782fb3aa-98a0-4757-a93b-6254503781ce"
   },
   "outputs": [],
   "source": [
    "SESSION_CORPUS_ID='llama-index-colab-part3-774432-1'"
   ]
  },
  {
   "cell_type": "code",
   "execution_count": null,
   "id": "ed1a854c-6475-4c1e-b964-a442bf15dec9",
   "metadata": {
    "id": "ed1a854c-6475-4c1e-b964-a442bf15dec9"
   },
   "outputs": [],
   "source": [
    "# Relax safety settings if documents contain text that may trigger the safety response\n",
    "safety_settings = [\n",
    "  {\n",
    "    \"category\": \"HARM_CATEGORY_HARASSMENT\",\n",
    "    \"threshold\": \"BLOCK_ONLY_HIGH\"\n",
    "  },\n",
    "  {\n",
    "    \"category\": \"HARM_CATEGORY_HATE_SPEECH\",\n",
    "    \"threshold\": \"BLOCK_ONLY_HIGH\"\n",
    "  },\n",
    "  {\n",
    "    \"category\": \"HARM_CATEGORY_SEXUALLY_EXPLICIT\",\n",
    "    \"threshold\": \"BLOCK_ONLY_HIGH\"\n",
    "  },\n",
    "  {\n",
    "    \"category\": \"HARM_CATEGORY_DANGEROUS_CONTENT\",\n",
    "    \"threshold\": \"BLOCK_ONLY_HIGH\"\n",
    "  },\n",
    "]"
   ]
  },
  {
   "cell_type": "code",
   "execution_count": null,
   "id": "84590985-db71-42ca-b048-32a829fb3631",
   "metadata": {
    "id": "84590985-db71-42ca-b048-32a829fb3631"
   },
   "outputs": [],
   "source": [
    "from llama_index.response.schema import Response\n",
    "\n",
    "from google.ai.generativelanguage import (\n",
    "    GenerateAnswerRequest,\n",
    "    HarmCategory,\n",
    "    SafetySetting,\n",
    ")"
   ]
  },
  {
   "cell_type": "code",
   "execution_count": null,
   "id": "bd861972-191c-4631-84df-17b5a789c38c",
   "metadata": {
    "id": "bd861972-191c-4631-84df-17b5a789c38c"
   },
   "outputs": [],
   "source": [
    "index = GoogleIndex.from_corpus(corpus_id=SESSION_CORPUS_ID)\n",
    "query_engine = index.as_query_engine(\n",
    "    # We recommend temperature between 0 and 0.2.\n",
    "    temperature=0.2,\n",
    "    # See package `google-generativeai` for other voice styles.\n",
    "    answer_style=GenerateAnswerRequest.AnswerStyle.ABSTRACTIVE,\n",
    "    # See package `google-generativeai` for additional safety settings.\n",
    "    # SAFETY SETTINGS are buggy for AQA\n",
    ")"
   ]
  },
  {
   "cell_type": "code",
   "execution_count": null,
   "id": "9acb5a1f-f92a-41e2-a65e-83a7db0a0c9d",
   "metadata": {
    "id": "9acb5a1f-f92a-41e2-a65e-83a7db0a0c9d",
    "outputId": "756a1e7f-f6b3-4249-86f1-79f32901a728"
   },
   "outputs": [
    {
     "name": "stdout",
     "output_type": "stream",
     "text": [
      "Response is CMGs are momentum storage devices that exchange momentum with the ISS through induced gyroscopic torques.\n",
      "\n",
      "\n",
      "Cited text: 162  \n",
      " \n",
      "Figure 1. CMGs 1-4 Mounted on Z1 Truss \n",
      " \n",
      " \n",
      "Space Station Z1/CMG Configuration2 \n",
      " \n",
      "The four CMGs operate as momentum storage devices that exchange momentum with the ISS through induced gyroscopic torques. These torques are created by a motor-driven constant-speed momentum \n",
      "flywheel mounted inside two orthogonal gimbals. Both gimbals have torquer motors and position resolvers mounted on the rotational axis and move by use of a gear train system. The momentum \n",
      "flywheel is mounted inside the inner gimbal and is supported by bearings mounted on each side of the flywheel. This configuration is shown in Figure 2.  Double Gimbal CMGs were selected for the ISS \n",
      "because of the spherical momentum envelope. The co ntrol law is heuristic with no singularities and \n",
      "should the active number of CMGs change, the entire momentum envelope varies in proportion to the \n",
      "initial momentum sphere.\n",
      "3 \n",
      " \n",
      "Figure 2.  CMG Gimbal and Flywheel Assemb ly Figure 3.  CMG Spin Bearing Assembly \n",
      "The flywheel is mounted on two spin bearings, one on the Spin Motor (SM) side, and one on the Hall Resolver (HR) side. The Spin Motor is a low torque motor mounted on the spin axis with a control loop to maintain the commanded wheel-speed. The Hall Resolv er provides digital wheel-speeds for downlinking \n",
      "via telemetry. The Spin Motor Command Current (S MCC) ranges from 0 to 1.6 Amps and nominally \n",
      "averages 0.37 Amps. The SMCC varies due to viscosity changes in the spin bearing lubricant caused by thermal variations and high gimbal rates that induce radial loads on the spin bearings. The SMCC is used as an indicator of spin bearing health and status.   \n",
      "NASA/CP-2010-216272\n",
      "\n",
      "\n",
      "Cited text: 162  \n",
      " \n",
      "Figure 1. CMGs 1-4 Mounted on Z1 Truss \n",
      " \n",
      " \n",
      "Space Station Z1/CMG Configuration2 \n",
      " \n",
      "The four CMGs operate as momentum storage devices that exchange momentum with the ISS through induced gyroscopic torques. These torques are created by a motor-driven constant-speed momentum \n",
      "flywheel mounted inside two orthogonal gimbals. Both gimbals have torquer motors and position resolvers mounted on the rotational axis and move by use of a gear train system. The momentum \n",
      "flywheel is mounted inside the inner gimbal and is supported by bearings mounted on each side of the flywheel. This configuration is shown in Figure 2.  Double Gimbal CMGs were selected for the ISS \n",
      "because of the spherical momentum envelope. The co ntrol law is heuristic with no singularities and \n",
      "should the active number of CMGs change, the entire momentum envelope varies in proportion to the \n",
      "initial momentum sphere.\n",
      "3 \n",
      " \n",
      "Figure 2.  CMG Gimbal and Flywheel Assemb ly Figure 3.  CMG Spin Bearing Assembly \n",
      "The flywheel is mounted on two spin bearings, one on the Spin Motor (SM) side, and one on the Hall Resolver (HR) side. The Spin Motor is a low torque motor mounted on the spin axis with a control loop to maintain the commanded wheel-speed. The Hall Resolv er provides digital wheel-speeds for downlinking \n",
      "via telemetry. The Spin Motor Command Current (S MCC) ranges from 0 to 1.6 Amps and nominally \n",
      "averages 0.37 Amps. The SMCC varies due to viscosity changes in the spin bearing lubricant caused by thermal variations and high gimbal rates that induce radial loads on the spin bearings. The SMCC is used as an indicator of spin bearing health and status.   \n",
      "NASA/CP-2010-216272\n",
      "\n",
      "\n",
      "Cited text: 164 useful during early construction when full solar ar ray capability was unavailable, but due to other \n",
      "constraints, it was not desirable to operat e at the higher temperature X-POP attitude. \n",
      " \n",
      "Since assembly Flight 12A in September 2006, the ±YVV and ±X-POP attitudes are no longer used, \n",
      "although in future unique situations, they may be used as contingency attitudes. \n",
      " GN&C Operational CMG Usage\n",
      " \n",
      "Prior to CMG activation, the ISS attitude control wa s accomplished using thrusters. Thrusters are now  \n",
      "used as a backup for CMG control, for large a ttitude maneuvers, or for translational control. \n",
      " Nominal quiescent operations are handled by the CMGs using a concept known as momentum \n",
      "management. A Momentum Manager controller is designed to perform via the following  two methods:  (1) seeking the TEA by finding the attitude having the lowest momentum, and (2) maintaining a particular attitude by expending the appropriate amount of moment um to bias that attitude. Usually, controllers \n",
      "combine a TEA-seeker in one ISS body axis (pitch) with an attitude bias for the other two axes (yaw and roll).  GN&C software maintains a given attitude by commandi ng the CMG inner and outer gimbals to specific \n",
      "locations. This positions the individual momentum contributions from the CMG flywheel spin axes to \n",
      "provide a total momentum vector for vehicle control.  External torque disturbances on the vehicle can be \n",
      "countered by moving the vector as appropriate.  If a disturbance torque imparts a momentum that is  greater than the total combined control momentum, \n",
      "the CMGs ‘saturate’, having expended all available mo mentum to counter the di sturbance. The controller \n",
      "commands thruster firings to ‘desaturate’ the CMGs, or unload the momentum to a specified value. The \n",
      "CMG gimbals are then re-positioned to attain a lower total momentum. A CMG desaturation happens quickly, and may result in rates of gimbal rotati on that are substantially higher than those needed for \n",
      "quiescent operations having low or non-existent di sturbance torques. The CMG desaturation function can \n",
      "be disabled, and attitude control is then handed completely over to the thrusters in the case of CMG momentum saturation. \n",
      " \n",
      "CMG Operational History \n",
      " \n",
      "The original four CMGs were launched on the Z-1 Truss, Mission STS-92, ISS Flight 3A, on October 11, 2000. They remained dormant and unpowered for a few months until being activated on February 12, \n",
      "2001 during Space Station Flight 5A. On June 8, 2002, CMG1 developed a problem and failed resulting in \n",
      "3 operational CMGs. Operations using a 3-CMG control configuration was requi red until a spare replaced \n",
      "the failed CMG1 on August 1, 2005 during Space Shuttl e Flight LF-1. The ISS then continued to operate \n",
      "under 4-CMG control until CMG3 exhibited signs of distress. The initial CMG1 Failure Root Cause Investigation together with the CMG3 experience led to the development of on-orbit monitoring criteria \n",
      "intended to identify problems and prevent a hard failu re. An additional benefit of implementing these \n",
      "criteria was to preserve the hardware for re-use and subsequent forensic analysis. On October 10, 2006 CMG3 was shut down because the unbalance sensor had reached the shut-down criterion. It was then taken out of service but remained on the Z1 Truss wi th the Electrical Assemb ly (EA) and heaters enabled, \n",
      "until it was removed on August 13, 2007. A 3-CMG control configuration was again implemented for \n",
      "attitude control. During CMG3’s non-operational time period, various diagnostic tests were performed to \n",
      "support the joint L-3 S&N, Boeing, and NASA decision to remove and replace CMG3. This “soft failed” \n",
      "CMG was replaced by another ground spare on August  12, 2007 during Space Shuttle Flight 13A-1 and \n",
      "the ISS was restored to a 4-CMG control system. \n",
      " The CMG1 investigation identified high gimbal rates as a contributor to the failure. During the earlier \n",
      "stages of ISS assembly, CMG gimbal angular velocity was restricted by CMG firmware to a maximum rate of 0.054 rad/s (3.1 deg/s). Following the two CMG failures, GN&C engineers limited all CMG gimbal \n",
      "NASA/CP-2010-216272\n",
      "\n",
      "\n",
      "Answerability: 1.0\n"
     ]
    }
   ],
   "source": [
    "response = query_engine.query(\"What is a CMG?\")\n",
    "\n",
    "assert isinstance(response, Response)\n",
    "\n",
    "# Show response.\n",
    "print(f\"Response is {response.response}\")\n",
    "\n",
    "# Show cited passages that were used to construct the response.\n",
    "for cited_text in [node.text for node in response.source_nodes]:\n",
    "    print(f\"\\n\\nCited text: {cited_text}\")\n",
    "\n",
    "# Show answerability. 0 means not answerable from the passages.\n",
    "# 1 means the model is certain the answer can be provided from the passages.\n",
    "if response.metadata:\n",
    "    print(\n",
    "        f\"\\n\\nAnswerability: {response.metadata.get('answerable_probability', 0)}\"\n",
    "    )"
   ]
  },
  {
   "cell_type": "code",
   "execution_count": null,
   "id": "6b14dd15-a3e6-4105-baa6-c78d08e08cb0",
   "metadata": {
    "id": "6b14dd15-a3e6-4105-baa6-c78d08e08cb0"
   },
   "outputs": [],
   "source": []
  }
 ],
 "metadata": {
  "colab": {
   "collapsed_sections": [
    "7b9a55de",
    "6v3U4lREwCD5",
    "393564a0-5fb6-4126-aa73-911d1f3e14cf",
    "037bc657-11bd-436a-afbf-db0671cbcbd1",
    "1b4221ca-fc3d-4663-a07a-db88f9672ee7",
    "b9c44625",
    "4875cfdc",
    "9f71d4aa"
   ],
   "provenance": []
  },
  "environment": {
   "kernel": "conda-env-pytorch-pytorch",
   "name": "workbench-notebooks.m113",
   "type": "gcloud",
   "uri": "gcr.io/deeplearning-platform-release/workbench-notebooks:m113"
  },
  "kernelspec": {
   "display_name": "Python 3 (ipykernel)",
   "language": "python",
   "name": "python3"
  },
  "language_info": {
   "codemirror_mode": {
    "name": "ipython",
    "version": 3
   },
   "file_extension": ".py",
   "mimetype": "text/x-python",
   "name": "python",
   "nbconvert_exporter": "python",
   "pygments_lexer": "ipython3",
   "version": "3.10.6"
  }
 },
 "nbformat": 4,
 "nbformat_minor": 5
}
